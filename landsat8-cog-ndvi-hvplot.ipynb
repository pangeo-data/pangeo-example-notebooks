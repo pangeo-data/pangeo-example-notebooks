{
 "cells": [
  {
   "cell_type": "markdown",
   "metadata": {},
   "source": [
    "# Landsat 8 NDVI Analysis on the Cloud\n",
    "\n",
    "This notebook demonstrates a \"Cloud-native\" analysis of [Normalized Difference Vegetation Index (NDVI)](https://en.wikipedia.org/wiki/Normalized_difference_vegetation_index) using Landsat 8 data. \n",
    "\n",
    "**What is unique about this workflow is that no data is downloaded to our local computer! All calculations are performed in memory across many distributed machines on AWS.** \n",
    "\n",
    "This workflow is possible because the Landsat 8 data is stored in [Cloud-Optimized Geotiff](http://www.cogeo.org) format, which can be accessed remotely via [xarray](http://xarray.pydata.org/en/stable/) and [rasterio](https://rasterio.readthedocs.io/en/latest/) Python libraries. Distributed computing is enabled through a [Pangeo](http://pangeo-data.org) JupyterHub deployment with [Dask Kubernetes](https://github.com/dask/dask-kubernetes).\n",
    "\n",
    "About Landsat 8:\n",
    "https://landsat.usgs.gov/landsat-8 \n",
    "\n",
    "About the Landsat archive:\n",
    "https://cloud.google.com/storage/docs/public-datasets/landsat\n",
    "\n",
    "Date: August 30, 2018\n",
    "\n",
    "Created by:\n",
    "Scott Henderson (scottyh@uw.edu), Daniel Rothenberg\n",
    "\n",
    "Updated to use hvplot/holoviews by Ryan Abernathy and Rich Signell (rsignell@usgs.gov)"
   ]
  },
  {
   "cell_type": "code",
   "execution_count": null,
   "metadata": {},
   "outputs": [],
   "source": [
    "# Import required libraries\n",
    "import os\n",
    "import pandas as pd\n",
    "import rasterio\n",
    "import xarray as xr\n",
    "import requests\n",
    "\n",
    "from dask_kubernetes import KubeCluster\n",
    "from dask.distributed import Client\n",
    "from dask.distributed import wait, progress\n",
    "\n",
    "import hvplot.xarray\n",
    "import hvplot.pandas\n",
    "\n",
    "import cartopy.crs as ccrs\n",
    "import holoviews as hv"
   ]
  },
  {
   "cell_type": "code",
   "execution_count": null,
   "metadata": {},
   "outputs": [],
   "source": [
    "# Print package versions\n",
    "print('xarray version: ', xr.__version__)\n",
    "print('rasterio version: ', rasterio.__version__)\n",
    "print('hvplot version: ', hvplot.__version__)"
   ]
  },
  {
   "cell_type": "code",
   "execution_count": null,
   "metadata": {},
   "outputs": [],
   "source": [
    "# Set environment variables for cloud-optimized-geotiffs efficiency\n",
    "os.environ['GDAL_DISABLE_READDIR_ON_OPEN']='YES'\n",
    "os.environ['CPL_VSIL_CURL_ALLOWED_EXTENSIONS']='TIF'"
   ]
  },
  {
   "cell_type": "markdown",
   "metadata": {},
   "source": [
    "## Use NASA Common Metadata Repository (CMR) to get Landsat 8 images\n",
    "\n",
    "[NASA CMR](https://earthdata.nasa.gov/about/science-system-description/eosdis-components/common-metadata-repository) is a new unified way to search for remote sensing assests across many archive centers. If you prefer a graphical user interface, NASA [Earthdata Search](https://search.earthdata.nasa.gov/search) is built on top of CMR. CMR returns download links through the USGS (https://earthexplorer.usgs.gov), but the same archive is mirrored as a (Google Public Dataset)[https://cloud.google.com/storage/docs/public-datasets/landsat], so we'll make a function that queries CMR and returns URLs to the imagery stored on Google Cloud."
   ]
  },
  {
   "cell_type": "code",
   "execution_count": null,
   "metadata": {},
   "outputs": [],
   "source": [
    "def query_cmr_landsat(collection='Landsat_8_OLI_TIRS_C1',tier='T1', path=47, row=27):\n",
    "    \"\"\"Query NASA CMR for Collection1, Tier1 Landsat scenes from a specific path and row.\"\"\"\n",
    "    \n",
    "    data = [f'short_name={collection}',\n",
    "            f'page_size=2000',\n",
    "            f'attribute[]=string,CollectionCategory,{tier}',\n",
    "            f'attribute[]=int,WRSPath,{path}',\n",
    "            f'attribute[]=int,WRSRow,{row}',\n",
    "           ]\n",
    "\n",
    "    query = 'https://cmr.earthdata.nasa.gov/search/granules.json?' + '&'.join(data)\n",
    "\n",
    "    r = requests.get(query, timeout=100)\n",
    "    print(r.url)\n",
    "    \n",
    "    df = pd.DataFrame(r.json()['feed']['entry'])\n",
    "    \n",
    "    # Save results to a file\n",
    "    #print('Saved results to cmr-result.json')\n",
    "    #with open('cmr-result.json', 'w') as j:\n",
    "    #    j.write(r.text)\n",
    "    \n",
    "    return df"
   ]
  },
  {
   "cell_type": "code",
   "execution_count": null,
   "metadata": {},
   "outputs": [],
   "source": [
    "def make_google_archive(pids, bands):\n",
    "    \"\"\"Turn list of product_ids into pandas dataframe for NDVI analysis.\"\"\"\n",
    "    \n",
    "    path =  pids[0].split('_')[2][1:3]\n",
    "    row =  pids[0].split('_')[2][-2:]\n",
    "    baseurl = f'https://storage.googleapis.com/gcp-public-data-landsat/LC08/01/0{path}/0{row}'\n",
    "#    baseurl = f's3://landsat-pds/c1/L8/0{path}/0{row}'    # not sure there is an AWS equivalent here\n",
    "    \n",
    "    dates = [pd.to_datetime(x.split('_')[3]) for x in pids]\n",
    "    df = pd.DataFrame(dict(product_id=pids, date=dates))\n",
    "    \n",
    "    for band in bands:\n",
    "        df[band] = [f'{baseurl}/{x}/{x}_{band}.TIF' for x in pids]\n",
    "    \n",
    "    return df"
   ]
  },
  {
   "cell_type": "code",
   "execution_count": null,
   "metadata": {},
   "outputs": [],
   "source": [
    "df = query_cmr_landsat()"
   ]
  },
  {
   "cell_type": "code",
   "execution_count": null,
   "metadata": {},
   "outputs": [],
   "source": [
    "pids = df.title.tolist()\n",
    "df = make_google_archive(pids, ['B4', 'B5'])"
   ]
  },
  {
   "cell_type": "code",
   "execution_count": null,
   "metadata": {},
   "outputs": [],
   "source": [
    "df.head()"
   ]
  },
  {
   "cell_type": "code",
   "execution_count": null,
   "metadata": {},
   "outputs": [],
   "source": [
    "image_url = df.iloc[0]['B4']"
   ]
  },
  {
   "cell_type": "code",
   "execution_count": null,
   "metadata": {},
   "outputs": [],
   "source": [
    "image_url"
   ]
  },
  {
   "cell_type": "markdown",
   "metadata": {},
   "source": [
    "## Launch Dask Kubernetes Cluster\n",
    "\n",
    "This will allow us to distribute our analysis across many machines. In the default configuration for Pangeo Binder, each worker has 2 vCPUs and 7Gb of RAM. It may take several minutes to initialize these workers and make them available to Dask."
   ]
  },
  {
   "cell_type": "code",
   "execution_count": null,
   "metadata": {},
   "outputs": [],
   "source": [
    "# Click on the 'Dashboard link' to monitor calculation progress\n",
    "cluster = KubeCluster(n_workers=10)\n",
    "cluster"
   ]
  },
  {
   "cell_type": "code",
   "execution_count": null,
   "metadata": {},
   "outputs": [],
   "source": [
    "# Attach Dask to the cluster\n",
    "client = Client(cluster)"
   ]
  },
  {
   "cell_type": "markdown",
   "metadata": {},
   "source": [
    "## Examine a single band Landsat image\n",
    "\n",
    "The *rasterio* library allows us to read Geotiffs on the web without downloading the entire image. *Xarray* has a built-in load_rasterio() function that allows us to open the file as a DataArray. Xarray also uses Dask for lazy reading, so we want to make sure the native block tiling of the image matches the dask \"chunk size\". These dask chunks are automatically distributed among all our workers when a computation is requested, so ideally they will fit in the worker memory. A chunk size of 2048x2048 with a float32 datatype implies a 16Mb array.\n"
   ]
  },
  {
   "cell_type": "code",
   "execution_count": null,
   "metadata": {},
   "outputs": [],
   "source": [
    "# Load with rasterio\n",
    "image_url = df.iloc[0]['B4']\n",
    "with rasterio.open(image_url) as src:\n",
    "    print(src.profile)"
   ]
  },
  {
   "cell_type": "code",
   "execution_count": null,
   "metadata": {},
   "outputs": [],
   "source": [
    "# Note that the blocksize of the image is 256 by 256, so we want xarray to use some multiple of that\n",
    "xchunk = 2048\n",
    "ychunk = 2048\n",
    "da = xr.open_rasterio(image_url, chunks={'band': 1, 'x': xchunk, 'y': ychunk})\n",
    "da"
   ]
  },
  {
   "cell_type": "code",
   "execution_count": null,
   "metadata": {},
   "outputs": [],
   "source": [
    "# If we request to compute something or plot these arrays, the necessary data chunks will be accessed on cloud storage:\n",
    "# Watch the KubeCluster dashboard to see the worker activity when this command is run:\n",
    "# Note that no data is stored on the disk here, it's all in memory\n",
    "band1 = da.sel(band=1).persist()\n",
    "progress(band1)"
   ]
  },
  {
   "cell_type": "code",
   "execution_count": null,
   "metadata": {},
   "outputs": [],
   "source": [
    "%%time\n",
    "display(band1.hvplot(rasterize=True, width=600, height=400, cmap='viridis'))"
   ]
  },
  {
   "cell_type": "code",
   "execution_count": null,
   "metadata": {},
   "outputs": [],
   "source": [
    "# skip this because it takes minutes to run and doesn't use the dask workers.\n",
    "\n",
    "# here we use the CRS info (epsg:32610 = UTM zone 10n) to plot in lon/lat \n",
    "# rather than in projected coordinates.\n",
    "if 0:\n",
    "    crs = ccrs.UTM(zone='10n')\n",
    "    display(band1.hvplot(crs=crs, rasterize=True, width=600, height=400, cmap='viridis'))"
   ]
  },
  {
   "cell_type": "markdown",
   "metadata": {},
   "source": [
    "## Load all Landsat bands into an xarray dataset\n",
    "\n",
    "Often we want to analyze a time series of satellite imagery, but we are constrained by computational resources. So we either download all the images, extract a small subset and then do our analysis. Or, we coarsen the resolution of all our images so that the entire set fits into our computer RAM. Because this notebook is running on Google Cloud with access to many resources in our Kube Cluster, we no longer have to worry about the computational constraints, and can conduct our analysis at full resoution!\n",
    "\n",
    "First we need to construct an xarray dataset object (which has data variables 'band4' and 'band5' in a n-dimensional array with x-coordinates representing UTM easting, y-coordinates representing UTM northing, and a time coordinate representing the image acquisition date).\n",
    "\n",
    "There are different ways to go about this, but we will load our images with a timestamp index since each image is taken on a different date. Typically, this is a chore if our images are not on the same grid to begin with, but xarray knows how to automatically align images based on their georeferenced coordinates."
   ]
  },
  {
   "cell_type": "code",
   "execution_count": null,
   "metadata": {},
   "outputs": [],
   "source": [
    "# Note that these landsat images are not necessarily the same shape or on the same grid:\n",
    "for image_url in df.B4[:5]:\n",
    "    with rasterio.open(image_url) as src:\n",
    "        print(src.shape, src.bounds)"
   ]
  },
  {
   "cell_type": "code",
   "execution_count": null,
   "metadata": {},
   "outputs": [],
   "source": [
    "def create_multiband_dataset(row, bands=['B4','B5'], chunks={'band': 1, 'x': 2048, 'y': 2048}):\n",
    "    '''A function to load multiple landsat bands into an xarray dataset '''\n",
    "    \n",
    "    # Each image is a dataset containing both band4 and band5\n",
    "    datasets = []\n",
    "    for band in bands:\n",
    "        url = row[band]\n",
    "        da = xr.open_rasterio(url, chunks=chunks)\n",
    "        da = da.squeeze().drop(labels='band')\n",
    "        ds = da.to_dataset(name=band)\n",
    "        datasets.append(ds)\n",
    "\n",
    "    DS = xr.merge(datasets)\n",
    "    \n",
    "    return DS"
   ]
  },
  {
   "cell_type": "code",
   "execution_count": null,
   "metadata": {
    "scrolled": true
   },
   "outputs": [],
   "source": [
    "# Merge all acquisitions into a single large Dataset\n",
    "datasets = []\n",
    "dates = []\n",
    "for i,row in df.iterrows():\n",
    "    try:\n",
    "        print('loading...', row.date)\n",
    "        ds = create_multiband_dataset(row)\n",
    "        datasets.append(ds)\n",
    "        dates.append(row.date)\n",
    "    except Exception as e:\n",
    "        print('ERROR loading, skipping acquistion!')\n",
    "        print(e)"
   ]
  },
  {
   "cell_type": "code",
   "execution_count": null,
   "metadata": {},
   "outputs": [],
   "source": [
    "%%time\n",
    "DS = xr.concat(datasets, dim=pd.DatetimeIndex(dates, name='time'))\n",
    "print('Dataset size (Gb): ', DS.nbytes/1e9)"
   ]
  },
  {
   "cell_type": "code",
   "execution_count": null,
   "metadata": {},
   "outputs": [],
   "source": [
    "DS"
   ]
  },
  {
   "cell_type": "markdown",
   "metadata": {},
   "source": [
    "### Note that xarray has automatically expanded the dimensions to include the maximum extents of all the images, also the chunksize has been automatically adjusted.\n",
    "\n",
    "There is definitely some room for improvement here from a computational efficiency standpoint - in particular the dask chunks are no longer aligned with the image tiles. This is because each image starts at different coordinates and has different shapes, but xarray uses a single chunk size for the entire datasets. There will also be many zeros in this dataset, so future work could take advantage of sparse arrays. \n",
    "\n",
    "These points aside, our KubeCluster will automatically parallelize our computations for us, so we can not worry too much about optimal efficiency and just go ahead and run our analysis!"
   ]
  },
  {
   "cell_type": "markdown",
   "metadata": {},
   "source": [
    "### Browse interactively using hvplot"
   ]
  },
  {
   "cell_type": "code",
   "execution_count": null,
   "metadata": {},
   "outputs": [],
   "source": [
    "%%time\n",
    "display(DS['B4'].hvplot('x', 'y', groupby='time', rasterize=True, width=600, height=400, cmap='viridis'))"
   ]
  },
  {
   "cell_type": "markdown",
   "metadata": {},
   "source": [
    "## Distributed NDVI computations\n",
    "\n",
    "Set up our NDVI dataset. Note that NDVI is not actually computed until we call the Dask compute(), persist(), or call other functions such as plot() that require actually operate on the data!"
   ]
  },
  {
   "cell_type": "code",
   "execution_count": null,
   "metadata": {},
   "outputs": [],
   "source": [
    "NDVI = (DS['B5'] - DS['B4']) / (DS['B5'] + DS['B4'])\n",
    "NDVI"
   ]
  },
  {
   "cell_type": "markdown",
   "metadata": {},
   "source": [
    "### Plot NDVI on specific date (full resolution)\n",
    "\n",
    "Only data for a single landsat acquisition date is pulled from Cloud storage"
   ]
  },
  {
   "cell_type": "code",
   "execution_count": null,
   "metadata": {},
   "outputs": [],
   "source": [
    "day='2013-04-21'\n",
    "s = NDVI.sel(time=day, method='nearest')\n",
    "s"
   ]
  },
  {
   "cell_type": "code",
   "execution_count": null,
   "metadata": {},
   "outputs": [],
   "source": [
    "del s['time']"
   ]
  },
  {
   "cell_type": "code",
   "execution_count": null,
   "metadata": {},
   "outputs": [],
   "source": [
    "%%time\n",
    "display(s.hvplot('x', 'y', rasterize=True, width=600, height=400, cmap='viridis', label=day))"
   ]
  },
  {
   "cell_type": "markdown",
   "metadata": {},
   "source": [
    "### Mean NDVI for a range of dates\n",
    "\n",
    "This example calculates the mean NDVI per-pixel (30m) for 2013-2014, storing result in local RAM.  This takes a while..."
   ]
  },
  {
   "cell_type": "code",
   "execution_count": null,
   "metadata": {},
   "outputs": [],
   "source": [
    "ndvi = NDVI.sel(time=slice('2013-01-01', '2014-01-01')).mean(dim='time').persist()\n",
    "progress(ndvi)"
   ]
  },
  {
   "cell_type": "code",
   "execution_count": null,
   "metadata": {},
   "outputs": [],
   "source": [
    "ndvi"
   ]
  },
  {
   "cell_type": "code",
   "execution_count": null,
   "metadata": {},
   "outputs": [],
   "source": [
    "%%time\n",
    "display(ndvi.hvplot('x','y', rasterize=True, width=600, height=400, cmap='viridis'))\n",
    "\n",
    "# Point of interest we'll extract a timeseries from\n",
    "#plt.plot(562370, 5312519, 'ko')"
   ]
  },
  {
   "cell_type": "markdown",
   "metadata": {},
   "source": [
    "### Extract region of interest Farmland near Everett, WA (Ebey Island) and resample to monthly mean average\n",
    "\n",
    "We expect to see higher NDVI values in the summer months, corresponding to dense vegetation"
   ]
  },
  {
   "cell_type": "code",
   "execution_count": null,
   "metadata": {},
   "outputs": [],
   "source": [
    "# https://www.geoplaner.com\n",
    "# lat, lon to northing, easting\n",
    "# 47.962940 --> 5312519\n",
    "# -122.164483--> 562370\n",
    "#+ 5 km buffer\n",
    "#EPSG:32610 WGS 84 / UTM zone 10N\n",
    "xcen = 562370\n",
    "ycen = 5312519\n",
    "buf = 5000  # look at point +/- 5km\n",
    "ds = NDVI.sel(x=slice(xcen-buf,xcen+buf), y=slice(ycen-buf,ycen+buf))\n",
    "timeseries = ds.resample(time='1MS').mean().persist()"
   ]
  },
  {
   "cell_type": "code",
   "execution_count": null,
   "metadata": {},
   "outputs": [],
   "source": [
    "timeseries"
   ]
  },
  {
   "cell_type": "code",
   "execution_count": null,
   "metadata": {},
   "outputs": [],
   "source": [
    "s = timeseries.to_series()\n",
    "(s.hvplot(width=700, height=300, legend=False) * s.hvplot.scatter(width=700, height=300, legend=False)).relabel('Mean NDVI')"
   ]
  },
  {
   "cell_type": "markdown",
   "metadata": {},
   "source": [
    "### Plot subset of all NDVI arrays at full resolution for acquisitions in 2015"
   ]
  },
  {
   "cell_type": "code",
   "execution_count": null,
   "metadata": {},
   "outputs": [],
   "source": [
    "ds2015 = ds.sel(time=slice('2015-01-01', '2016-01-01'))\n",
    "nt = len(ds2015)"
   ]
  },
  {
   "cell_type": "markdown",
   "metadata": {},
   "source": [
    "Getting small multiple plots going with `hvplot` is a bit challenging.  Need to use `Layout` from `holoviews`:"
   ]
  },
  {
   "cell_type": "code",
   "execution_count": null,
   "metadata": {},
   "outputs": [],
   "source": [
    "%%time\n",
    "\n",
    "dss = ds.sel(time=slice('2015-01-01', '2016-01-01'))\n",
    "ncols = 5\n",
    "\n",
    "plots = []\n",
    "for i in range(nt):\n",
    "    ds_panel = dss.isel(time=i)\n",
    "\n",
    "    #if last plot in row, add colorbar and make it wider\n",
    "    is_last_in_row = (i+1)%ncols == 0\n",
    "    height = 200\n",
    "    width = 150 if not is_last_in_row else 200\n",
    "\n",
    "    p = (ds_panel\n",
    "       .hvplot('x', 'y', rasterize=True, width=width, height=height, cmap='viridis', \n",
    "               xaxis=False, yaxis=False, colorbar=is_last_in_row)\n",
    "       .relabel(str(ds_panel.time.values)[:10]))\n",
    "\n",
    "    plots.append(p)\n",
    "    \n",
    "display(hv.Layout(plots).cols(ncols))"
   ]
  },
  {
   "cell_type": "markdown",
   "metadata": {},
   "source": [
    "### Plot subset of all NDVI arrays at full resolution for acquisitions in 2015"
   ]
  },
  {
   "cell_type": "code",
   "execution_count": null,
   "metadata": {},
   "outputs": [],
   "source": [
    "%%time\n",
    "display(NDVI.hvplot('x','y',groupby='time', rasterize=True, width=700, height=500, cmap='viridis'))"
   ]
  },
  {
   "cell_type": "markdown",
   "metadata": {},
   "source": [
    "## In conclusion\n",
    "\n",
    "* This notebook demonstrates the power of storing data publically in the Cloud as optimized geotiffs - scientists can conduct scalable analysis without downloading the data to a local machine. Only derived subsets and figures need to be downloaded!\n",
    "* We used a crude NDVI calculation, designed to demonstrate the syntax and tools - a proper analysis should take into account cloud masks and other corrections"
   ]
  },
  {
   "cell_type": "code",
   "execution_count": null,
   "metadata": {},
   "outputs": [],
   "source": []
  },
  {
   "cell_type": "code",
   "execution_count": null,
   "metadata": {},
   "outputs": [],
   "source": []
  }
 ],
 "metadata": {
  "kernelspec": {
   "display_name": "Python 3",
   "language": "python",
   "name": "python3"
  },
  "language_info": {
   "codemirror_mode": {
    "name": "ipython",
    "version": 3
   },
   "file_extension": ".py",
   "mimetype": "text/x-python",
   "name": "python",
   "nbconvert_exporter": "python",
   "pygments_lexer": "ipython3",
   "version": "3.6.7"
  },
  "widgets": {
   "application/vnd.jupyter.widget-state+json": {
    "state": {
     "0075a9fb52f84de9bf7ee1df293cd212": {
      "model_module": "@jupyter-widgets/controls",
      "model_module_version": "1.4.0",
      "model_name": "FloatProgressModel",
      "state": {
       "bar_style": "success",
       "layout": "IPY_MODEL_0820f128923f4045835edba625299c25",
       "max": 1,
       "style": "IPY_MODEL_f795826df3924763b16ba6afdb86cf2c",
       "value": 1
      }
     },
     "0099a6e0bf6d40d6aa410274ee781cfa": {
      "model_module": "@jupyter-widgets/base",
      "model_module_version": "1.1.0",
      "model_name": "LayoutModel",
      "state": {}
     },
     "00e6476dcf0a4a2f8122d3c106c4775d": {
      "model_module": "@jupyter-widgets/base",
      "model_module_version": "1.1.0",
      "model_name": "LayoutModel",
      "state": {}
     },
     "0168a781fd7c49a69666343da52ea672": {
      "model_module": "@jupyter-widgets/controls",
      "model_module_version": "1.4.0",
      "model_name": "DescriptionStyleModel",
      "state": {
       "description_width": ""
      }
     },
     "016c1a85cdc9429a8bebcb15ce439630": {
      "model_module": "@jupyter-widgets/controls",
      "model_module_version": "1.4.0",
      "model_name": "HTMLModel",
      "state": {
       "layout": "IPY_MODEL_907909eb13f64d1c94cd704b744c590b",
       "style": "IPY_MODEL_198eeb5069dd4dfbb475615d35da6321",
       "value": "<h2>KubeCluster</h2>"
      }
     },
     "0217a793f7334ac7908dbf1477c16581": {
      "model_module": "@jupyter-widgets/controls",
      "model_module_version": "1.4.0",
      "model_name": "HBoxModel",
      "state": {
       "children": [
        "IPY_MODEL_cce610b31be94cca99fb2fc041a8e454",
        "IPY_MODEL_a89f1d4d928d41e09949e1331e8e57ca"
       ],
       "layout": "IPY_MODEL_2f3bdc9baa704ee58c6874f1d52a1c58"
      }
     },
     "024ac8f6e0334a8db8fba3e8660ba38f": {
      "model_module": "@jupyter-widgets/base",
      "model_module_version": "1.1.0",
      "model_name": "LayoutModel",
      "state": {}
     },
     "024d12b027864684a83db5469482c2ea": {
      "model_module": "@jupyter-widgets/controls",
      "model_module_version": "1.4.0",
      "model_name": "VBoxModel",
      "state": {
       "children": [
        "IPY_MODEL_16bc78cae9fc478caf1c653dc838af23",
        "IPY_MODEL_36f6585b86f64b7e96a64e7b23e8f1b5",
        "IPY_MODEL_0f867d5330c04235a431405a9205e95b"
       ],
       "layout": "IPY_MODEL_73c8b7917b164c79b33210882f306ec4"
      }
     },
     "02614f4bfc9c452a87426ed1d37c2ff2": {
      "model_module": "@jupyter-widgets/controls",
      "model_module_version": "1.4.0",
      "model_name": "FloatProgressModel",
      "state": {
       "layout": "IPY_MODEL_4103b62ccd6b4ceda9b8034014358168",
       "max": 1,
       "style": "IPY_MODEL_3f924fbb5dbc4afda4356c09de57fc88",
       "value": 0.9972602739726028
      }
     },
     "0297cd812afa4cfebee786b8d6d7a6ee": {
      "model_module": "@jupyter-widgets/base",
      "model_module_version": "1.1.0",
      "model_name": "LayoutModel",
      "state": {
       "min_width": "500px"
      }
     },
     "03015ea9a27d4a078d3188c68b4e2ac7": {
      "model_module": "@jupyter-widgets/base",
      "model_module_version": "1.1.0",
      "model_name": "LayoutModel",
      "state": {}
     },
     "03087e7a900341f5aad8385622b62a7e": {
      "model_module": "@jupyter-widgets/base",
      "model_module_version": "1.1.0",
      "model_name": "LayoutModel",
      "state": {}
     },
     "0326efd32dce4d58a6f2911916d65c66": {
      "model_module": "@jupyter-widgets/base",
      "model_module_version": "1.1.0",
      "model_name": "LayoutModel",
      "state": {}
     },
     "03c2b3d294ea49dbb83d513727fe8dd0": {
      "model_module": "@jupyter-widgets/base",
      "model_module_version": "1.1.0",
      "model_name": "LayoutModel",
      "state": {}
     },
     "04512c9a095143cc958115d11bf5c59f": {
      "model_module": "@jupyter-widgets/controls",
      "model_module_version": "1.4.0",
      "model_name": "DescriptionStyleModel",
      "state": {
       "description_width": ""
      }
     },
     "0502708838ba4866b505465e76c4ca97": {
      "model_module": "@jupyter-widgets/controls",
      "model_module_version": "1.4.0",
      "model_name": "ProgressStyleModel",
      "state": {
       "description_width": ""
      }
     },
     "05f8de8845944effaf16eb6ef4ba88dc": {
      "model_module": "@jupyter-widgets/controls",
      "model_module_version": "1.4.0",
      "model_name": "ButtonStyleModel",
      "state": {}
     },
     "065bcd8e8c8944df8c42cf5b7763f552": {
      "model_module": "@jupyter-widgets/controls",
      "model_module_version": "1.4.0",
      "model_name": "IntTextModel",
      "state": {
       "description": "Workers",
       "layout": "IPY_MODEL_aa941f40520b409398c174937a2fb732",
       "step": 1,
       "style": "IPY_MODEL_f2932f7f59164f96bd7624df05c8f182",
       "value": 50
      }
     },
     "066cc42126d24c83b9f3b1078eb41ad2": {
      "model_module": "@jupyter-widgets/controls",
      "model_module_version": "1.4.0",
      "model_name": "HBoxModel",
      "state": {
       "children": [
        "IPY_MODEL_78da7ca3483e4c37991d5511f26ece04",
        "IPY_MODEL_dbb437779a6d464e900d4ca54b63e1e2",
        "IPY_MODEL_3709d33547b74e719bf153b3aef95d4e"
       ],
       "layout": "IPY_MODEL_ca7ac5cb9be6493b9629d7217b51f60a"
      }
     },
     "067b8ce92ae5483285775aa2c8ef5d62": {
      "model_module": "@jupyter-widgets/base",
      "model_module_version": "1.1.0",
      "model_name": "LayoutModel",
      "state": {}
     },
     "07186e8820bd41498abaeee7fe2cc44d": {
      "model_module": "@jupyter-widgets/controls",
      "model_module_version": "1.4.0",
      "model_name": "VBoxModel",
      "state": {
       "children": [
        "IPY_MODEL_5f6e7e5dd02941d1862866aacf11f33d",
        "IPY_MODEL_a6793e083a7a40dc8f9e6e2b88ccc52e",
        "IPY_MODEL_868201cbbdda4ac1b0ab67a51be9dcd5"
       ],
       "layout": "IPY_MODEL_efab5cde2a754d1ca8632350316aca6e"
      }
     },
     "075129bb986b434798fcf7652fb48abb": {
      "model_module": "@jupyter-widgets/controls",
      "model_module_version": "1.4.0",
      "model_name": "DescriptionStyleModel",
      "state": {
       "description_width": ""
      }
     },
     "0754a9da184746dcbc0edc9fe00978bb": {
      "model_module": "@jupyter-widgets/controls",
      "model_module_version": "1.4.0",
      "model_name": "HTMLModel",
      "state": {
       "layout": "IPY_MODEL_e4de246dac734fdfbaa21f7b3a23af48",
       "style": "IPY_MODEL_c36b2dac6de24bcca34f7fda1040e1ed",
       "value": "<div style=\"padding: 0px 10px 0px 10px; text-align:left; word-wrap: break-word;\">open_rasterio</div>"
      }
     },
     "07dabe823d494f1c852289a945bf9485": {
      "model_module": "@jupyter-widgets/controls",
      "model_module_version": "1.4.0",
      "model_name": "HBoxModel",
      "state": {
       "children": [
        "IPY_MODEL_2f7dab93d5e0400ab407e1e47a88dd74",
        "IPY_MODEL_c405622376114c599c0b40c9eabf33a2",
        "IPY_MODEL_e6447860f037451aae6b586f1a2621ea"
       ],
       "layout": "IPY_MODEL_4a69309ecac34d168df536c1d6597d0c"
      }
     },
     "0820f128923f4045835edba625299c25": {
      "model_module": "@jupyter-widgets/base",
      "model_module_version": "1.1.0",
      "model_name": "LayoutModel",
      "state": {}
     },
     "083cefc482274660a197994d3770e1ff": {
      "model_module": "@jupyter-widgets/controls",
      "model_module_version": "1.4.0",
      "model_name": "HBoxModel",
      "state": {
       "children": [
        "IPY_MODEL_4737d86c6fd8459d9fe6012616dc0477",
        "IPY_MODEL_122fa2e2fa3245bc8f210111f6773a17",
        "IPY_MODEL_2b68951c84c04ea4ab3bac4737f9ac31"
       ],
       "layout": "IPY_MODEL_3c2ea837c0cd4c26aa71240c4f55d44c"
      }
     },
     "086707bfadf74309ad5958cba1746ff5": {
      "model_module": "@jupyter-widgets/controls",
      "model_module_version": "1.4.0",
      "model_name": "DescriptionStyleModel",
      "state": {
       "description_width": ""
      }
     },
     "08aa6bc3a151418b93add5996fbdd8e1": {
      "model_module": "@jupyter-widgets/base",
      "model_module_version": "1.1.0",
      "model_name": "LayoutModel",
      "state": {}
     },
     "090cb76aa5df463f83d981b6f84646c8": {
      "model_module": "@jupyter-widgets/base",
      "model_module_version": "1.1.0",
      "model_name": "LayoutModel",
      "state": {}
     },
     "094937e8a72c4386a5deccd309ba21ef": {
      "model_module": "@jupyter-widgets/controls",
      "model_module_version": "1.4.0",
      "model_name": "VBoxModel",
      "state": {
       "children": [
        "IPY_MODEL_016c1a85cdc9429a8bebcb15ce439630",
        "IPY_MODEL_6edf41d33603425eb7c26bb568367705",
        "IPY_MODEL_cf5bb85711bb4277b8ee9bc62fa7e67b"
       ],
       "layout": "IPY_MODEL_dab332772dd4472d807b780ce8b09ded"
      }
     },
     "09c8a96eee4e4b0281717f73698d706e": {
      "model_module": "@jupyter-widgets/base",
      "model_module_version": "1.1.0",
      "model_name": "LayoutModel",
      "state": {
       "min_width": "500px"
      }
     },
     "0a181657f080444e9ad204a8bba52540": {
      "model_module": "@jupyter-widgets/controls",
      "model_module_version": "1.4.0",
      "model_name": "FloatProgressModel",
      "state": {
       "bar_style": "success",
       "layout": "IPY_MODEL_8bb82269b3d44c40990f0908961635c0",
       "max": 1,
       "style": "IPY_MODEL_85215de0e1d1413aae5a18f5ba52ae52",
       "value": 1
      }
     },
     "0a93ca9ee2df4cdb8b45082f21246c41": {
      "model_module": "@jupyter-widgets/base",
      "model_module_version": "1.1.0",
      "model_name": "LayoutModel",
      "state": {}
     },
     "0abea214ef9b42c387497f2fedbf2f29": {
      "model_module": "@jupyter-widgets/base",
      "model_module_version": "1.1.0",
      "model_name": "LayoutModel",
      "state": {}
     },
     "0b7fbea82c974cdd8bfb9aedda861dd9": {
      "model_module": "@jupyter-widgets/base",
      "model_module_version": "1.1.0",
      "model_name": "LayoutModel",
      "state": {}
     },
     "0c01613680544a2babf78fd94aeb97a6": {
      "model_module": "@jupyter-widgets/controls",
      "model_module_version": "1.4.0",
      "model_name": "DescriptionStyleModel",
      "state": {
       "description_width": ""
      }
     },
     "0c721a3342694e1a8e3a18175ac1aa4d": {
      "model_module": "@jupyter-widgets/base",
      "model_module_version": "1.1.0",
      "model_name": "LayoutModel",
      "state": {}
     },
     "0cac42cd212d48aaa8279dd13dea37d8": {
      "model_module": "@jupyter-widgets/base",
      "model_module_version": "1.1.0",
      "model_name": "LayoutModel",
      "state": {}
     },
     "0cc960ca976a49dfbdef3e34b5cb3d93": {
      "model_module": "@jupyter-widgets/base",
      "model_module_version": "1.1.0",
      "model_name": "LayoutModel",
      "state": {}
     },
     "0ced02533adf498484be9411e7fddb3a": {
      "model_module": "@jupyter-widgets/controls",
      "model_module_version": "1.4.0",
      "model_name": "HTMLModel",
      "state": {
       "layout": "IPY_MODEL_b2139616808d4264b42daffc8f228cb8",
       "style": "IPY_MODEL_a84168e2963242c2b661af131bbb860e",
       "value": "<div style=\"padding: 0px 10px 0px 10px; text-align: right\">730 / 730</div>"
      }
     },
     "0d736f5aa2b54eaca9dc954f4debe1ae": {
      "model_module": "@jupyter-widgets/base",
      "model_module_version": "1.1.0",
      "model_name": "LayoutModel",
      "state": {}
     },
     "0da437109f80476babcc14aedec27679": {
      "model_module": "@jupyter-widgets/controls",
      "model_module_version": "1.4.0",
      "model_name": "ProgressStyleModel",
      "state": {
       "description_width": ""
      }
     },
     "0ddd2e50539041d286aa216ab1b2d62b": {
      "model_module": "@jupyter-widgets/controls",
      "model_module_version": "1.4.0",
      "model_name": "DescriptionStyleModel",
      "state": {
       "description_width": ""
      }
     },
     "0debe21b520f417cb262c4fa10435600": {
      "model_module": "@jupyter-widgets/base",
      "model_module_version": "1.1.0",
      "model_name": "LayoutModel",
      "state": {}
     },
     "0dfcb380b0af4eacb4cc8ffca2404bac": {
      "model_module": "@jupyter-widgets/controls",
      "model_module_version": "1.4.0",
      "model_name": "ButtonStyleModel",
      "state": {}
     },
     "0e7f89a029b94532958223d37702d549": {
      "model_module": "@jupyter-widgets/base",
      "model_module_version": "1.1.0",
      "model_name": "LayoutModel",
      "state": {}
     },
     "0ea5de554ef949d4888f13dec42d3f91": {
      "model_module": "@jupyter-widgets/controls",
      "model_module_version": "1.4.0",
      "model_name": "HTMLModel",
      "state": {
       "layout": "IPY_MODEL_bfab21d19bf344f1b420cb708238aaab",
       "style": "IPY_MODEL_258b8097610b443a8f76753e9fb70411",
       "value": "<div style=\"padding: 0px 10px 0px 10px; text-align:left; word-wrap: break-word;\">getitem</div>"
      }
     },
     "0f013fd8f4a344188720536f4540d86e": {
      "model_module": "@jupyter-widgets/base",
      "model_module_version": "1.1.0",
      "model_name": "LayoutModel",
      "state": {}
     },
     "0f57491fc6ac43f8b8f5f6b9d4a147fa": {
      "model_module": "@jupyter-widgets/base",
      "model_module_version": "1.1.0",
      "model_name": "LayoutModel",
      "state": {}
     },
     "0f867d5330c04235a431405a9205e95b": {
      "model_module": "@jupyter-widgets/controls",
      "model_module_version": "1.4.0",
      "model_name": "HBoxModel",
      "state": {
       "children": [
        "IPY_MODEL_bf9ad3fb1366417abe0776d127f9afdc",
        "IPY_MODEL_b10b4a5f67c2498e973d57d60eb929bc",
        "IPY_MODEL_82d5653438ae43119b0a62914ba4d55f"
       ],
       "layout": "IPY_MODEL_3270f897cd69400facab90948831b935"
      }
     },
     "1011fb2d966343b1be0077c1760b05c4": {
      "model_module": "@jupyter-widgets/base",
      "model_module_version": "1.1.0",
      "model_name": "LayoutModel",
      "state": {}
     },
     "107edb42094f404f942165588b7f87cb": {
      "model_module": "@jupyter-widgets/controls",
      "model_module_version": "1.4.0",
      "model_name": "FloatProgressModel",
      "state": {
       "bar_style": "success",
       "layout": "IPY_MODEL_d80949387faa473e8117a176f17243d2",
       "max": 1,
       "style": "IPY_MODEL_5d4e63345eda405a821b75d898b7f599",
       "value": 1
      }
     },
     "1107db1b245548398077b8ac524ece38": {
      "model_module": "@jupyter-widgets/controls",
      "model_module_version": "1.4.0",
      "model_name": "HBoxModel",
      "state": {
       "children": [
        "IPY_MODEL_eaf207d79e7c49349612dc712475680d",
        "IPY_MODEL_f94cce9e8897430e937ac62da4d02bf4",
        "IPY_MODEL_937d185a232b48859f4e642fc6bf4626"
       ],
       "layout": "IPY_MODEL_9fb3b9f24e3b45c9802ca63c87200a64"
      }
     },
     "110e9f9460ba4b0380f41995fa507184": {
      "model_module": "@jupyter-widgets/controls",
      "model_module_version": "1.4.0",
      "model_name": "VBoxModel",
      "state": {
       "children": [
        "IPY_MODEL_a8ec422dd5c24656aa875a7d0cce251e",
        "IPY_MODEL_e4a6a36e2b964d8c87b2b3a0a4d5e0c6"
       ],
       "layout": "IPY_MODEL_8475df10a05e432e894d9859a6baff78"
      }
     },
     "111734dea6d1400d9ea3de8f3574e7ce": {
      "model_module": "@jupyter-widgets/controls",
      "model_module_version": "1.4.0",
      "model_name": "DescriptionStyleModel",
      "state": {
       "description_width": ""
      }
     },
     "111b10347d5d4e81be2b213f1e0bf751": {
      "model_module": "@jupyter-widgets/base",
      "model_module_version": "1.1.0",
      "model_name": "LayoutModel",
      "state": {}
     },
     "117bbc2696004c2484609a937d8bcea8": {
      "model_module": "@jupyter-widgets/controls",
      "model_module_version": "1.4.0",
      "model_name": "ButtonModel",
      "state": {
       "description": "Scale",
       "layout": "IPY_MODEL_b5a4a996d3d74b5899192ab335547e0d",
       "style": "IPY_MODEL_815f6aebd6aa40b39bbdbec4dfac84da"
      }
     },
     "118a830632d04dc8a72771427278672d": {
      "model_module": "@jupyter-widgets/controls",
      "model_module_version": "1.4.0",
      "model_name": "HTMLModel",
      "state": {
       "layout": "IPY_MODEL_ca00890f42ce423fab0ebe2548415fb3",
       "style": "IPY_MODEL_8904a0f92ddf4cf3ac181832ba8d8fff",
       "value": "<div style=\"padding: 0px 10px 0px 10px; text-align: right\">16 / 16</div>"
      }
     },
     "119b46dd614b4facbee236dbc0d5cd8e": {
      "model_module": "@jupyter-widgets/controls",
      "model_module_version": "1.4.0",
      "model_name": "DescriptionStyleModel",
      "state": {
       "description_width": ""
      }
     },
     "122fa2e2fa3245bc8f210111f6773a17": {
      "model_module": "@jupyter-widgets/controls",
      "model_module_version": "1.4.0",
      "model_name": "FloatProgressModel",
      "state": {
       "bar_style": "success",
       "layout": "IPY_MODEL_bd05957f2cdf49d6af5a5f9c1bc80b42",
       "max": 1,
       "style": "IPY_MODEL_3b2c8eb0a56e4d1d857fce2f302d491e",
       "value": 1
      }
     },
     "125b1fbf9e8c4cb38552182c39160e58": {
      "model_module": "@jupyter-widgets/controls",
      "model_module_version": "1.4.0",
      "model_name": "DescriptionStyleModel",
      "state": {
       "description_width": ""
      }
     },
     "125d341891f946f385904d943365df92": {
      "model_module": "@jupyter-widgets/base",
      "model_module_version": "1.1.0",
      "model_name": "LayoutModel",
      "state": {}
     },
     "128f72729bee4cc1a1beca4933da6ea5": {
      "model_module": "@jupyter-widgets/controls",
      "model_module_version": "1.4.0",
      "model_name": "DescriptionStyleModel",
      "state": {
       "description_width": ""
      }
     },
     "137320452d6d429db96b3f94aaa1a006": {
      "model_module": "@jupyter-widgets/base",
      "model_module_version": "1.1.0",
      "model_name": "LayoutModel",
      "state": {}
     },
     "13a506f069c24eafa98162cd2934a7ea": {
      "model_module": "@jupyter-widgets/base",
      "model_module_version": "1.1.0",
      "model_name": "LayoutModel",
      "state": {}
     },
     "1446711f43324d54b47a6b25939c886a": {
      "model_module": "@jupyter-widgets/controls",
      "model_module_version": "1.4.0",
      "model_name": "DescriptionStyleModel",
      "state": {
       "description_width": ""
      }
     },
     "14636a3a16be4a69acfb981748629a36": {
      "model_module": "@jupyter-widgets/controls",
      "model_module_version": "1.4.0",
      "model_name": "FloatProgressModel",
      "state": {
       "layout": "IPY_MODEL_866b4a9dc4df41e3b95d24129c6a8104",
       "max": 1,
       "style": "IPY_MODEL_bba5032552f14f38a3064478aa6ca866",
       "value": 0.9997509339975094
      }
     },
     "156b09b608cc49a8a38206cd9fb2ca73": {
      "model_module": "@jupyter-widgets/controls",
      "model_module_version": "1.4.0",
      "model_name": "HTMLModel",
      "state": {
       "layout": "IPY_MODEL_b0e7c961cf804b24b5335e64b620930f",
       "style": "IPY_MODEL_2c9469420a714729bc0656bcf3e6f4eb",
       "value": "<p><b>Dashboard: </b><a href=\"/user/rsignell-usgs/proxy/8787/status\" target=\"_blank\">/user/rsignell-usgs/proxy/8787/status</a></p>\n"
      }
     },
     "15bd52e7849c4a3eaa84f072141c1289": {
      "model_module": "@jupyter-widgets/base",
      "model_module_version": "1.1.0",
      "model_name": "LayoutModel",
      "state": {}
     },
     "16190753962a46869f4c0702c9e00e62": {
      "model_module": "@jupyter-widgets/base",
      "model_module_version": "1.1.0",
      "model_name": "LayoutModel",
      "state": {}
     },
     "16bc78cae9fc478caf1c653dc838af23": {
      "model_module": "@jupyter-widgets/controls",
      "model_module_version": "1.4.0",
      "model_name": "HBoxModel",
      "state": {
       "children": [
        "IPY_MODEL_5740a3d1575d45fcba376d3b19dd058b",
        "IPY_MODEL_9212ea1914ab489799a74365060cf5a8",
        "IPY_MODEL_1e8efdeadeee4c789bc09c68d2e2154e"
       ],
       "layout": "IPY_MODEL_81c85da2001040fe9fdb464e27cb9578"
      }
     },
     "16d1e4ccd3054284b5dd49d89c4d03bc": {
      "model_module": "@jupyter-widgets/controls",
      "model_module_version": "1.4.0",
      "model_name": "DescriptionStyleModel",
      "state": {
       "description_width": ""
      }
     },
     "16f9fe754cd44c7e9b3f0e6c46ec605b": {
      "model_module": "@jupyter-widgets/base",
      "model_module_version": "1.1.0",
      "model_name": "LayoutModel",
      "state": {}
     },
     "170b6eb517ba4f4daff6629ad7a55f0d": {
      "model_module": "@jupyter-widgets/base",
      "model_module_version": "1.1.0",
      "model_name": "LayoutModel",
      "state": {}
     },
     "177b2880b1e5479c80e879a163c3c32e": {
      "model_module": "@jupyter-widgets/controls",
      "model_module_version": "1.4.0",
      "model_name": "FloatProgressModel",
      "state": {
       "layout": "IPY_MODEL_b76cacbd2d7d4aecacb2d0be401b6197",
       "max": 1,
       "style": "IPY_MODEL_3a53a3a9cda043c9b52dff0f38e37cd5",
       "value": 0.9997509339975094
      }
     },
     "18187e327686402a93bc32455fbd0f65": {
      "model_module": "@jupyter-widgets/base",
      "model_module_version": "1.1.0",
      "model_name": "LayoutModel",
      "state": {}
     },
     "18439865a39e4ad78407d49f78a579b7": {
      "model_module": "@jupyter-widgets/controls",
      "model_module_version": "1.4.0",
      "model_name": "HBoxModel",
      "state": {
       "children": [
        "IPY_MODEL_88778409d9cd492ca08fd1ef18f1b6d0",
        "IPY_MODEL_177b2880b1e5479c80e879a163c3c32e",
        "IPY_MODEL_da1d8fa3ae9e4a87b44cdd5d6da1edd0"
       ],
       "layout": "IPY_MODEL_45b672252e674969a6cef581b218e19c"
      }
     },
     "1920193d7dd74d72b85166e50ea2facd": {
      "model_module": "@jupyter-widgets/controls",
      "model_module_version": "1.4.0",
      "model_name": "FloatProgressModel",
      "state": {
       "bar_style": "success",
       "layout": "IPY_MODEL_8b4fc5838dd24a3d9968fbc2e7ee52bb",
       "max": 1,
       "style": "IPY_MODEL_7badb8e7444a41c39bd90ad1b891d3df",
       "value": 1
      }
     },
     "196036f620c440f08324123bae4405e3": {
      "model_module": "@jupyter-widgets/base",
      "model_module_version": "1.1.0",
      "model_name": "LayoutModel",
      "state": {}
     },
     "1974be1652e74b66bf49ee219d3f51e7": {
      "model_module": "@jupyter-widgets/controls",
      "model_module_version": "1.4.0",
      "model_name": "HTMLModel",
      "state": {
       "layout": "IPY_MODEL_f7e51d9e9c45484997bc73fae8db1b7a",
       "style": "IPY_MODEL_2e3684336f0546efb7ea64b9d56aca2c",
       "value": "<div style=\"padding: 0px 10px 0px 10px; text-align: right\">352 / 352</div>"
      }
     },
     "198eeb5069dd4dfbb475615d35da6321": {
      "model_module": "@jupyter-widgets/controls",
      "model_module_version": "1.4.0",
      "model_name": "DescriptionStyleModel",
      "state": {
       "description_width": ""
      }
     },
     "19a51ba516ba4cc3b7c9a25910bff2f6": {
      "model_module": "@jupyter-widgets/controls",
      "model_module_version": "1.4.0",
      "model_name": "HTMLModel",
      "state": {
       "layout": "IPY_MODEL_8f903ccb9ab744779d84dd3e13ecd222",
       "style": "IPY_MODEL_7a871242f4f349aab39f181a62ed5146",
       "value": "<div style=\"padding: 0px 10px 5px 10px\"><b>Finished:</b>  6.1s</div>"
      }
     },
     "19e3dc60ef964886972863b2c86b7a60": {
      "model_module": "@jupyter-widgets/controls",
      "model_module_version": "1.4.0",
      "model_name": "DescriptionStyleModel",
      "state": {
       "description_width": ""
      }
     },
     "1a0b096d65b84e5b984013fe64ec4149": {
      "model_module": "@jupyter-widgets/controls",
      "model_module_version": "1.4.0",
      "model_name": "HTMLModel",
      "state": {
       "layout": "IPY_MODEL_f3e30bedd3554fbcaa11db946f9fc8e0",
       "style": "IPY_MODEL_5cb94e7dbd594262bc2198c3651917a8",
       "value": "<div style=\"padding: 0px 10px 0px 10px; text-align: right\">16058 / 16060</div>"
      }
     },
     "1a788066e0164e1a8297f659ea5ba481": {
      "model_module": "@jupyter-widgets/controls",
      "model_module_version": "1.4.0",
      "model_name": "HTMLModel",
      "state": {
       "layout": "IPY_MODEL_da8c58948ad24c5997203d7bf6142075",
       "style": "IPY_MODEL_3cf116c3aa8f49cfa42ab9ea96d49b66",
       "value": "<div style=\"padding: 0px 10px 0px 10px; text-align:left; word-wrap: break-word;\">open_rasterio</div>"
      }
     },
     "1b5b85a606da47bd93c3dd91f77ab5ab": {
      "model_module": "@jupyter-widgets/controls",
      "model_module_version": "1.4.0",
      "model_name": "DescriptionStyleModel",
      "state": {
       "description_width": ""
      }
     },
     "1bfd54bc8df74bc28cc8410f28912253": {
      "model_module": "@jupyter-widgets/base",
      "model_module_version": "1.1.0",
      "model_name": "LayoutModel",
      "state": {}
     },
     "1c27a03b572d4ed4976638b2b8f524fb": {
      "model_module": "@jupyter-widgets/base",
      "model_module_version": "1.1.0",
      "model_name": "LayoutModel",
      "state": {}
     },
     "1cafbd3e786c46279d7025596fe71cf8": {
      "model_module": "@jupyter-widgets/base",
      "model_module_version": "1.1.0",
      "model_name": "LayoutModel",
      "state": {}
     },
     "1cfdb907e78f4dd1adac039f7ee4a5a0": {
      "model_module": "@jupyter-widgets/controls",
      "model_module_version": "1.4.0",
      "model_name": "VBoxModel",
      "state": {
       "layout": "IPY_MODEL_7b42646aeec34a19a6ba898d1d574e7a"
      }
     },
     "1d26cafb782444e4be2e64dc3bfaabc3": {
      "model_module": "@jupyter-widgets/base",
      "model_module_version": "1.1.0",
      "model_name": "LayoutModel",
      "state": {}
     },
     "1d93bc8d5a7248828af4af6a5204f2e1": {
      "model_module": "@jupyter-widgets/controls",
      "model_module_version": "1.4.0",
      "model_name": "HTMLModel",
      "state": {
       "layout": "IPY_MODEL_e0a1657b196a48148b815bb846196c22",
       "style": "IPY_MODEL_784b6bf133bd49cc9c6d782697d4be15",
       "value": "\n<div>\n  <style scoped>\n    .dataframe tbody tr th:only-of-type {\n        vertical-align: middle;\n    }\n\n    .dataframe tbody tr th {\n        vertical-align: top;\n    }\n\n    .dataframe thead th {\n        text-align: right;\n    }\n  </style>\n  <table style=\"text-align: right;\">\n    <tr><th>Workers</th> <td>10</td></tr>\n    <tr><th>Cores</th> <td>20</td></tr>\n    <tr><th>Memory</th> <td>60.00 GB</td></tr>\n  </table>\n</div>\n"
      }
     },
     "1d9821e492ef4d4795f36a0b9c0b32ef": {
      "model_module": "@jupyter-widgets/controls",
      "model_module_version": "1.4.0",
      "model_name": "ProgressStyleModel",
      "state": {
       "description_width": ""
      }
     },
     "1da69c6c3d30493b98844a8259ae2520": {
      "model_module": "@jupyter-widgets/controls",
      "model_module_version": "1.4.0",
      "model_name": "HTMLModel",
      "state": {
       "layout": "IPY_MODEL_15bd52e7849c4a3eaa84f072141c1289",
       "style": "IPY_MODEL_961f407916f24e26bf81b941af7b2637",
       "value": "<div style=\"padding: 0px 10px 5px 10px\"><b>Finished:</b> 46.4s</div>"
      }
     },
     "1e16f146e3344536a9d3d5e0142db852": {
      "model_module": "@jupyter-widgets/controls",
      "model_module_version": "1.4.0",
      "model_name": "HBoxModel",
      "state": {
       "children": [
        "IPY_MODEL_f3d35366002a42b7b7f24571ef0ebc3f",
        "IPY_MODEL_02614f4bfc9c452a87426ed1d37c2ff2",
        "IPY_MODEL_5b04f3a0cdf84e969c42df26d194710c"
       ],
       "layout": "IPY_MODEL_3293d824cfda47148278f2f862634f6a"
      }
     },
     "1e19502129b64e1d9642f163269c8098": {
      "model_module": "@jupyter-widgets/controls",
      "model_module_version": "1.4.0",
      "model_name": "VBoxModel",
      "state": {
       "children": [
        "IPY_MODEL_5d5c6515ce274d9db31ef203f279953b",
        "IPY_MODEL_c1868e7945894e21af78352d0b7d76a7"
       ],
       "layout": "IPY_MODEL_41f14fd1b3444e088165fd1c08dadac7"
      }
     },
     "1e5d3cf97bb7416a83a216b94c1bc52a": {
      "model_module": "@jupyter-widgets/base",
      "model_module_version": "1.1.0",
      "model_name": "LayoutModel",
      "state": {}
     },
     "1e7c526fffff4ccc812ef487312674ff": {
      "model_module": "@jupyter-widgets/base",
      "model_module_version": "1.1.0",
      "model_name": "LayoutModel",
      "state": {}
     },
     "1e8efdeadeee4c789bc09c68d2e2154e": {
      "model_module": "@jupyter-widgets/controls",
      "model_module_version": "1.4.0",
      "model_name": "HTMLModel",
      "state": {
       "layout": "IPY_MODEL_4d96b34c5b7f449887c34a5edf20b07e",
       "style": "IPY_MODEL_941e3036af2a42f488437e8175f70565",
       "value": "<div style=\"padding: 0px 10px 0px 10px; text-align:left; word-wrap: break-word;\">open_rasterio-getitem</div>"
      }
     },
     "1ed7314444ce464fbc9836bd2725ddfe": {
      "model_module": "@jupyter-widgets/base",
      "model_module_version": "1.1.0",
      "model_name": "LayoutModel",
      "state": {}
     },
     "1ef203a6dcce451886b20232558736c2": {
      "model_module": "@jupyter-widgets/controls",
      "model_module_version": "1.4.0",
      "model_name": "HTMLModel",
      "state": {
       "layout": "IPY_MODEL_59d22060e8be469a80b038ef758f7189",
       "style": "IPY_MODEL_39618fe3499c4c9dac3de57dba0f4524",
       "value": "<div style=\"padding: 0px 10px 0px 10px; text-align:left; word-wrap: break-word;\">or_</div>"
      }
     },
     "204e2376081d4087ae1353db835e8e9f": {
      "model_module": "@jupyter-widgets/base",
      "model_module_version": "1.1.0",
      "model_name": "LayoutModel",
      "state": {}
     },
     "220102294b854dd2a202115f3150083e": {
      "model_module": "@jupyter-widgets/controls",
      "model_module_version": "1.4.0",
      "model_name": "ProgressStyleModel",
      "state": {
       "description_width": ""
      }
     },
     "220c5b1897514bcd8dd474b95986a08a": {
      "model_module": "@jupyter-widgets/controls",
      "model_module_version": "1.4.0",
      "model_name": "DescriptionStyleModel",
      "state": {
       "description_width": ""
      }
     },
     "220d83a5ae4d41bbae2b44011fa5c732": {
      "model_module": "@jupyter-widgets/controls",
      "model_module_version": "1.4.0",
      "model_name": "ProgressStyleModel",
      "state": {
       "description_width": ""
      }
     },
     "22ab5eb5fce743f7831a51a2ca002aec": {
      "model_module": "@jupyter-widgets/controls",
      "model_module_version": "1.4.0",
      "model_name": "DescriptionStyleModel",
      "state": {
       "description_width": ""
      }
     },
     "22ba36b8dc7a46e2857250a45196bbdc": {
      "model_module": "@jupyter-widgets/controls",
      "model_module_version": "1.4.0",
      "model_name": "ProgressStyleModel",
      "state": {
       "description_width": ""
      }
     },
     "22d6e8c7644b4069a2be746074c6ca37": {
      "model_module": "@jupyter-widgets/controls",
      "model_module_version": "1.4.0",
      "model_name": "AccordionModel",
      "state": {
       "_titles": {
        "0": "Manual Scaling",
        "1": "Adaptive Scaling"
       },
       "children": [
        "IPY_MODEL_0217a793f7334ac7908dbf1477c16581",
        "IPY_MODEL_d60091306f514bbd94c145a930d3ae28"
       ],
       "layout": "IPY_MODEL_0297cd812afa4cfebee786b8d6d7a6ee",
       "selected_index": null
      }
     },
     "231723cebf4547f5ac9fc13418216043": {
      "model_module": "@jupyter-widgets/controls",
      "model_module_version": "1.4.0",
      "model_name": "DescriptionStyleModel",
      "state": {
       "description_width": ""
      }
     },
     "232014a6542e452a8b4c40ce3a5bb756": {
      "model_module": "@jupyter-widgets/controls",
      "model_module_version": "1.4.0",
      "model_name": "HBoxModel",
      "state": {
       "children": [
        "IPY_MODEL_25c0c0a0a41f45478ed22a7f527a79b6",
        "IPY_MODEL_6f6e3acbce234733abf06e77063ad54e",
        "IPY_MODEL_bf0dc2e651e146f0b08427d6d8bd14e4"
       ],
       "layout": "IPY_MODEL_e2d513e06a134d1aa7b3b2730686525e"
      }
     },
     "234c8aceac1e4ed9a405b6a06eaaad1c": {
      "model_module": "@jupyter-widgets/controls",
      "model_module_version": "1.4.0",
      "model_name": "FloatProgressModel",
      "state": {
       "layout": "IPY_MODEL_5719bd8a984f4af0b9e439386b3915d1",
       "max": 1,
       "style": "IPY_MODEL_d6df5e4a2a3e4ab3a14baf785522cdce",
       "value": 0.9997509339975094
      }
     },
     "2355099e046941b0b46ca57d3e231956": {
      "model_module": "@jupyter-widgets/base",
      "model_module_version": "1.1.0",
      "model_name": "LayoutModel",
      "state": {}
     },
     "2378a1c3ffd940ad989521dc3df1e8d9": {
      "model_module": "@jupyter-widgets/controls",
      "model_module_version": "1.4.0",
      "model_name": "HTMLModel",
      "state": {
       "layout": "IPY_MODEL_b3534c2123e049d9a84b7fe9376461ab",
       "style": "IPY_MODEL_d206ef957b5c4951835ea47cd34fe916",
       "value": "<div style=\"padding: 0px 10px 0px 10px; text-align: right\">16 / 16</div>"
      }
     },
     "23d43ee765784d58a48da2b7d9ce4fce": {
      "model_module": "@jupyter-widgets/base",
      "model_module_version": "1.1.0",
      "model_name": "LayoutModel",
      "state": {}
     },
     "23d93d2c22464f818ec3689343f8161a": {
      "model_module": "@jupyter-widgets/base",
      "model_module_version": "1.1.0",
      "model_name": "LayoutModel",
      "state": {}
     },
     "23ddcc4119444ccb81351b94e74e80eb": {
      "model_module": "@jupyter-widgets/controls",
      "model_module_version": "1.4.0",
      "model_name": "HBoxModel",
      "state": {
       "children": [
        "IPY_MODEL_33235703e4164d8a87623bc3bf4b5028",
        "IPY_MODEL_a8658d4fa628406ea034f4cdbdc64ccc",
        "IPY_MODEL_939cf91aa6244fcf98a35473a140df19"
       ],
       "layout": "IPY_MODEL_b5aabe240e064f81b284de721e220f6b"
      }
     },
     "24003e70ba49479c952f3e3869cd40ab": {
      "model_module": "@jupyter-widgets/controls",
      "model_module_version": "1.4.0",
      "model_name": "DescriptionStyleModel",
      "state": {
       "description_width": ""
      }
     },
     "2499b4d3edc343918f9474d89ba46370": {
      "model_module": "@jupyter-widgets/controls",
      "model_module_version": "1.4.0",
      "model_name": "ProgressStyleModel",
      "state": {
       "description_width": ""
      }
     },
     "24f015f31fcb4dbbbc34e2b5e33a4160": {
      "model_module": "@jupyter-widgets/controls",
      "model_module_version": "1.4.0",
      "model_name": "DescriptionStyleModel",
      "state": {
       "description_width": ""
      }
     },
     "2562d451ccb24de3b64e0332a3146b01": {
      "model_module": "@jupyter-widgets/base",
      "model_module_version": "1.1.0",
      "model_name": "LayoutModel",
      "state": {}
     },
     "25717df35a014cdca8bce72f092b301e": {
      "model_module": "@jupyter-widgets/base",
      "model_module_version": "1.1.0",
      "model_name": "LayoutModel",
      "state": {}
     },
     "257ebb9ef61f47e99003a5128774b523": {
      "model_module": "@jupyter-widgets/controls",
      "model_module_version": "1.4.0",
      "model_name": "ProgressStyleModel",
      "state": {
       "description_width": ""
      }
     },
     "258b8097610b443a8f76753e9fb70411": {
      "model_module": "@jupyter-widgets/controls",
      "model_module_version": "1.4.0",
      "model_name": "DescriptionStyleModel",
      "state": {
       "description_width": ""
      }
     },
     "258ed9fe08694abfb7a86aafe07a58f4": {
      "model_module": "@jupyter-widgets/controls",
      "model_module_version": "1.4.0",
      "model_name": "HTMLModel",
      "state": {
       "layout": "IPY_MODEL_8161da3abc7648d9a51b62d14c374db8",
       "style": "IPY_MODEL_3ca6acac0b794aa48ac5f368e93582b2",
       "value": "<h2>KubeCluster</h2>"
      }
     },
     "25a651eec6b1490ca43be06013efaa02": {
      "model_module": "@jupyter-widgets/controls",
      "model_module_version": "1.4.0",
      "model_name": "DescriptionStyleModel",
      "state": {
       "description_width": ""
      }
     },
     "25c0c0a0a41f45478ed22a7f527a79b6": {
      "model_module": "@jupyter-widgets/controls",
      "model_module_version": "1.4.0",
      "model_name": "HTMLModel",
      "state": {
       "layout": "IPY_MODEL_27eb1dac7f014a5a97e4a221f60a2dfd",
       "style": "IPY_MODEL_75f9bea63c524289ace2a4e09686b079",
       "value": "<div style=\"padding: 0px 10px 0px 10px; text-align: right\">352 / 352</div>"
      }
     },
     "25e8666730ff4551a6b463357f41d9e3": {
      "model_module": "@jupyter-widgets/controls",
      "model_module_version": "1.4.0",
      "model_name": "DescriptionStyleModel",
      "state": {
       "description_width": ""
      }
     },
     "2687b60359564d7f9e5a6bf5c7e4e096": {
      "model_module": "@jupyter-widgets/base",
      "model_module_version": "1.1.0",
      "model_name": "LayoutModel",
      "state": {
       "min_width": "150px"
      }
     },
     "270ac1a77a264f5ab5adea2b92533dd6": {
      "model_module": "@jupyter-widgets/base",
      "model_module_version": "1.1.0",
      "model_name": "LayoutModel",
      "state": {}
     },
     "2753169a8c8b4a5fb83655b55bdcd843": {
      "model_module": "@jupyter-widgets/controls",
      "model_module_version": "1.4.0",
      "model_name": "HTMLModel",
      "state": {
       "layout": "IPY_MODEL_cb765f22772948669d2aa554070d2b79",
       "style": "IPY_MODEL_37966e16f86b4c28a6156f852294218a",
       "value": "<div style=\"padding: 0px 10px 5px 10px\"><b>Finished:</b>  1min 25.8s</div>"
      }
     },
     "278fa631df6b44b1b8cc66c75dc33247": {
      "model_module": "@jupyter-widgets/controls",
      "model_module_version": "1.4.0",
      "model_name": "DescriptionStyleModel",
      "state": {
       "description_width": ""
      }
     },
     "27a0a61e58e54798839684c3c7aa9f6a": {
      "model_module": "@jupyter-widgets/controls",
      "model_module_version": "1.4.0",
      "model_name": "DescriptionStyleModel",
      "state": {
       "description_width": ""
      }
     },
     "27eb1dac7f014a5a97e4a221f60a2dfd": {
      "model_module": "@jupyter-widgets/base",
      "model_module_version": "1.1.0",
      "model_name": "LayoutModel",
      "state": {}
     },
     "27ef678252494da2847ff24aff03e793": {
      "model_module": "@jupyter-widgets/controls",
      "model_module_version": "1.4.0",
      "model_name": "HTMLModel",
      "state": {
       "layout": "IPY_MODEL_23d43ee765784d58a48da2b7d9ce4fce",
       "style": "IPY_MODEL_d05041b61f35458684d02e5242fbb93b",
       "value": "<div style=\"padding: 0px 10px 0px 10px; text-align: right\">16 / 16</div>"
      }
     },
     "2816a3e222954bdb9605b2cef0f5001d": {
      "model_module": "@jupyter-widgets/base",
      "model_module_version": "1.1.0",
      "model_name": "LayoutModel",
      "state": {}
     },
     "2837e1816bb74212ad07a44ade050612": {
      "model_module": "@jupyter-widgets/controls",
      "model_module_version": "1.4.0",
      "model_name": "ButtonModel",
      "state": {
       "description": "Scale",
       "layout": "IPY_MODEL_d831e5a52bdd4a90b77f1d8766891ea7",
       "style": "IPY_MODEL_36da0f752b704017a291cadee2ab211e"
      }
     },
     "285aa103cba0410b9fa9c1204c75f28c": {
      "model_module": "@jupyter-widgets/controls",
      "model_module_version": "1.4.0",
      "model_name": "HTMLModel",
      "state": {
       "layout": "IPY_MODEL_1ed7314444ce464fbc9836bd2725ddfe",
       "style": "IPY_MODEL_cf9e5e1b52fe4c07913d96c13ec7bf9c",
       "value": "<div style=\"padding: 0px 10px 0px 10px; text-align: right\">8030 / 8030</div>"
      }
     },
     "288e26b60154438aa2f64a5922c420fe": {
      "model_module": "@jupyter-widgets/controls",
      "model_module_version": "1.4.0",
      "model_name": "HBoxModel",
      "state": {
       "children": [
        "IPY_MODEL_c3b5f66ab21b4d84b5984156db5c4855",
        "IPY_MODEL_68eba85768744a3590edd6edb6b5c4e6",
        "IPY_MODEL_0ea5de554ef949d4888f13dec42d3f91"
       ],
       "layout": "IPY_MODEL_0f013fd8f4a344188720536f4540d86e"
      }
     },
     "28ed799a647e4a82874fb038842adea0": {
      "model_module": "@jupyter-widgets/controls",
      "model_module_version": "1.4.0",
      "model_name": "HTMLModel",
      "state": {
       "layout": "IPY_MODEL_7d9022cb6f314728a97f03a4c6d5de20",
       "style": "IPY_MODEL_231723cebf4547f5ac9fc13418216043",
       "value": "<div style=\"padding: 0px 10px 0px 10px; text-align:left; word-wrap: break-word;\">astype</div>"
      }
     },
     "28f2cd35e0084082a2d9d5f96d317be1": {
      "model_module": "@jupyter-widgets/controls",
      "model_module_version": "1.4.0",
      "model_name": "ProgressStyleModel",
      "state": {
       "description_width": ""
      }
     },
     "290ad868649a40f3b7ecb96b68c5bbe7": {
      "model_module": "@jupyter-widgets/controls",
      "model_module_version": "1.4.0",
      "model_name": "HTMLModel",
      "state": {
       "layout": "IPY_MODEL_9c388b0ee57445d3befd78895fdbae1e",
       "style": "IPY_MODEL_8a17442d94464d5195ba806dcb3a74c6",
       "value": "<div style=\"padding: 0px 10px 0px 10px; text-align: right\">160 / 160</div>"
      }
     },
     "2a5a3c301043486aab84ff28c4bf7157": {
      "model_module": "@jupyter-widgets/controls",
      "model_module_version": "1.4.0",
      "model_name": "DescriptionStyleModel",
      "state": {
       "description_width": ""
      }
     },
     "2a9dbd20d7a0420aae3bca7fb864beac": {
      "model_module": "@jupyter-widgets/controls",
      "model_module_version": "1.4.0",
      "model_name": "HTMLModel",
      "state": {
       "layout": "IPY_MODEL_9baf97f8e4cf4438ae28449507a95169",
       "style": "IPY_MODEL_d4960e0c4ba7484d94f79f136fbda51e",
       "value": "<div style=\"padding: 0px 10px 5px 10px\"><b>Computing:</b> 34.8s</div>"
      }
     },
     "2a9e2c418e9747de92e02a410f306ac3": {
      "model_module": "@jupyter-widgets/controls",
      "model_module_version": "1.4.0",
      "model_name": "FloatProgressModel",
      "state": {
       "layout": "IPY_MODEL_f619a57172484548bf66b119081fe063",
       "max": 1,
       "style": "IPY_MODEL_78b4ccb5b0ef4805937292cb42b94afc",
       "value": 1
      }
     },
     "2ab328dd16ff426b8a4ce6599c89d9cd": {
      "model_module": "@jupyter-widgets/controls",
      "model_module_version": "1.4.0",
      "model_name": "ProgressStyleModel",
      "state": {
       "description_width": ""
      }
     },
     "2ac3f9f455d7444382cd82c7efd730d0": {
      "model_module": "@jupyter-widgets/base",
      "model_module_version": "1.1.0",
      "model_name": "LayoutModel",
      "state": {}
     },
     "2b68951c84c04ea4ab3bac4737f9ac31": {
      "model_module": "@jupyter-widgets/controls",
      "model_module_version": "1.4.0",
      "model_name": "HTMLModel",
      "state": {
       "layout": "IPY_MODEL_ac23e02737734cf1a2631ef06a1df260",
       "style": "IPY_MODEL_d21bbba6b9494a929024f22a41484f70",
       "value": "<div style=\"padding: 0px 10px 0px 10px; text-align:left; word-wrap: break-word;\">mean_combine-partial</div>"
      }
     },
     "2c7ab3941ccf4d78a4044f504c1833e6": {
      "model_module": "@jupyter-widgets/controls",
      "model_module_version": "1.4.0",
      "model_name": "FloatProgressModel",
      "state": {
       "layout": "IPY_MODEL_1d26cafb782444e4be2e64dc3bfaabc3",
       "max": 1,
       "style": "IPY_MODEL_6e64dc12684748e2894777d8eab30bf8",
       "value": 1
      }
     },
     "2c9469420a714729bc0656bcf3e6f4eb": {
      "model_module": "@jupyter-widgets/controls",
      "model_module_version": "1.4.0",
      "model_name": "DescriptionStyleModel",
      "state": {
       "description_width": ""
      }
     },
     "2d68ab94254c47dda963ec6280ba6ff3": {
      "model_module": "@jupyter-widgets/base",
      "model_module_version": "1.1.0",
      "model_name": "LayoutModel",
      "state": {}
     },
     "2d9734d9f88042cd9dc311259921aa9a": {
      "model_module": "@jupyter-widgets/controls",
      "model_module_version": "1.4.0",
      "model_name": "ProgressStyleModel",
      "state": {
       "description_width": ""
      }
     },
     "2da3d610ac664aa49f0686a30f1d51a4": {
      "model_module": "@jupyter-widgets/controls",
      "model_module_version": "1.4.0",
      "model_name": "IntTextModel",
      "state": {
       "description": "Maximum",
       "layout": "IPY_MODEL_d831e5a52bdd4a90b77f1d8766891ea7",
       "step": 1,
       "style": "IPY_MODEL_a1b5bfcf71924883894759b7517a4c02"
      }
     },
     "2db5f12d92a441bd9b3d17f59548f730": {
      "model_module": "@jupyter-widgets/controls",
      "model_module_version": "1.4.0",
      "model_name": "DescriptionStyleModel",
      "state": {
       "description_width": ""
      }
     },
     "2e3684336f0546efb7ea64b9d56aca2c": {
      "model_module": "@jupyter-widgets/controls",
      "model_module_version": "1.4.0",
      "model_name": "DescriptionStyleModel",
      "state": {
       "description_width": ""
      }
     },
     "2e3dde98453e4ec78359c03ec99b4780": {
      "model_module": "@jupyter-widgets/base",
      "model_module_version": "1.1.0",
      "model_name": "LayoutModel",
      "state": {}
     },
     "2e9198b493814522ba18cd6c692cff07": {
      "model_module": "@jupyter-widgets/base",
      "model_module_version": "1.1.0",
      "model_name": "LayoutModel",
      "state": {}
     },
     "2ebd6c250ef7427eb7937c0f0bbf7a9c": {
      "model_module": "@jupyter-widgets/controls",
      "model_module_version": "1.4.0",
      "model_name": "IntTextModel",
      "state": {
       "description": "Workers",
       "layout": "IPY_MODEL_d831e5a52bdd4a90b77f1d8766891ea7",
       "step": 1,
       "style": "IPY_MODEL_9e165314ba7248d9a80ccd9894d3af60"
      }
     },
     "2ece063168dd46c89482d003654cb27f": {
      "model_module": "@jupyter-widgets/base",
      "model_module_version": "1.1.0",
      "model_name": "LayoutModel",
      "state": {}
     },
     "2f3bdc9baa704ee58c6874f1d52a1c58": {
      "model_module": "@jupyter-widgets/base",
      "model_module_version": "1.1.0",
      "model_name": "LayoutModel",
      "state": {}
     },
     "2f40c712f202453dbe2ecead27324f7a": {
      "model_module": "@jupyter-widgets/base",
      "model_module_version": "1.1.0",
      "model_name": "LayoutModel",
      "state": {}
     },
     "2f6469b0c97a464b80ea516f074986ce": {
      "model_module": "@jupyter-widgets/controls",
      "model_module_version": "1.4.0",
      "model_name": "FloatProgressModel",
      "state": {
       "layout": "IPY_MODEL_0abea214ef9b42c387497f2fedbf2f29",
       "max": 1,
       "style": "IPY_MODEL_e2e5c866ff08474aa9201e12a65445ed",
       "value": 1
      }
     },
     "2f7dab93d5e0400ab407e1e47a88dd74": {
      "model_module": "@jupyter-widgets/controls",
      "model_module_version": "1.4.0",
      "model_name": "HTMLModel",
      "state": {
       "layout": "IPY_MODEL_137320452d6d429db96b3f94aaa1a006",
       "style": "IPY_MODEL_e9d9e8f964a844ffb17119f2b9ce7833",
       "value": "<div style=\"padding: 0px 10px 0px 10px; text-align: right\">56 / 56</div>"
      }
     },
     "2f93cdeb30c1491bb27fca4cebd09f14": {
      "model_module": "@jupyter-widgets/controls",
      "model_module_version": "1.4.0",
      "model_name": "ProgressStyleModel",
      "state": {
       "description_width": ""
      }
     },
     "2f9dba0b94fa4c709174dff458909b73": {
      "model_module": "@jupyter-widgets/base",
      "model_module_version": "1.1.0",
      "model_name": "LayoutModel",
      "state": {
       "min_width": "150px"
      }
     },
     "3071718f2de3433e9b5c3fc3e229b80b": {
      "model_module": "@jupyter-widgets/controls",
      "model_module_version": "1.4.0",
      "model_name": "DescriptionStyleModel",
      "state": {
       "description_width": ""
      }
     },
     "308b55eed83b4f5289c27d484d6727ba": {
      "model_module": "@jupyter-widgets/controls",
      "model_module_version": "1.4.0",
      "model_name": "ProgressStyleModel",
      "state": {
       "description_width": ""
      }
     },
     "309ffff02126496796d3f9bb392fc137": {
      "model_module": "@jupyter-widgets/controls",
      "model_module_version": "1.4.0",
      "model_name": "DescriptionStyleModel",
      "state": {
       "description_width": ""
      }
     },
     "30a4551a3e0244429291f086b292cfac": {
      "model_module": "@jupyter-widgets/controls",
      "model_module_version": "1.4.0",
      "model_name": "HBoxModel",
      "state": {
       "children": [
        "IPY_MODEL_a9696b0a1339443bb662132e45caa613",
        "IPY_MODEL_77891d16ddb24891a5e98459c017d37b",
        "IPY_MODEL_8962ab43f4394c8b8be2b03cbdd1e830"
       ],
       "layout": "IPY_MODEL_93e935dd264a465b8048ae8bbc132e31"
      }
     },
     "30b7b057481448288e0b2e078637a193": {
      "model_module": "@jupyter-widgets/controls",
      "model_module_version": "1.4.0",
      "model_name": "ButtonModel",
      "state": {
       "description": "Adapt",
       "layout": "IPY_MODEL_c5a1ced8058c4fcb9098c40d4c016b85",
       "style": "IPY_MODEL_3c1cb402450b41dcaaabbfed2841c74e"
      }
     },
     "30cb8f58e44440db965328585efe2358": {
      "model_module": "@jupyter-widgets/base",
      "model_module_version": "1.1.0",
      "model_name": "LayoutModel",
      "state": {}
     },
     "31317ce6c07049ab83ecc778b074a899": {
      "model_module": "@jupyter-widgets/controls",
      "model_module_version": "1.4.0",
      "model_name": "HBoxModel",
      "state": {
       "children": [
        "IPY_MODEL_2378a1c3ffd940ad989521dc3df1e8d9",
        "IPY_MODEL_af36345506fe48e3adb0a92782af7af4",
        "IPY_MODEL_a9ca275a447c450190a9ca8717497e00"
       ],
       "layout": "IPY_MODEL_5580b1cfef7e4ff3bc0b27591dcd2ea1"
      }
     },
     "31a2018ceb9040108efd1039a53a6f99": {
      "model_module": "@jupyter-widgets/controls",
      "model_module_version": "1.4.0",
      "model_name": "FloatProgressModel",
      "state": {
       "layout": "IPY_MODEL_dcaa7124497d49d98723cf3bcd120a33",
       "max": 1,
       "style": "IPY_MODEL_ab81854e948145eabec9be90e13106b6",
       "value": 0.9990867579908675
      }
     },
     "31e1f89dce784d83b91d759d1b84c5d6": {
      "model_module": "@jupyter-widgets/base",
      "model_module_version": "1.1.0",
      "model_name": "LayoutModel",
      "state": {}
     },
     "3222beac5aad408483caae6d615cfb58": {
      "model_module": "@jupyter-widgets/controls",
      "model_module_version": "1.4.0",
      "model_name": "HTMLModel",
      "state": {
       "layout": "IPY_MODEL_4d2e0a30581545ec81db07595fe95545",
       "style": "IPY_MODEL_2db5f12d92a441bd9b3d17f59548f730",
       "value": "<div style=\"padding: 0px 10px 0px 10px; text-align:left; word-wrap: break-word;\">or_</div>"
      }
     },
     "323c6738d9214de09073a8693b0fcb14": {
      "model_module": "@jupyter-widgets/controls",
      "model_module_version": "1.4.0",
      "model_name": "DescriptionStyleModel",
      "state": {
       "description_width": ""
      }
     },
     "3265e4cc342941558274b3bf873363fe": {
      "model_module": "@jupyter-widgets/controls",
      "model_module_version": "1.4.0",
      "model_name": "HTMLModel",
      "state": {
       "layout": "IPY_MODEL_863f304c563e4047812d998271de9635",
       "style": "IPY_MODEL_c6a12f4f1fa9487e89c351127caa6d78",
       "value": "<div style=\"padding: 0px 10px 0px 10px; text-align:left; word-wrap: break-word;\">getitem</div>"
      }
     },
     "3270f897cd69400facab90948831b935": {
      "model_module": "@jupyter-widgets/base",
      "model_module_version": "1.1.0",
      "model_name": "LayoutModel",
      "state": {}
     },
     "3293d824cfda47148278f2f862634f6a": {
      "model_module": "@jupyter-widgets/base",
      "model_module_version": "1.1.0",
      "model_name": "LayoutModel",
      "state": {}
     },
     "32ae2174933b4e1981d14350c0e99761": {
      "model_module": "@jupyter-widgets/base",
      "model_module_version": "1.1.0",
      "model_name": "LayoutModel",
      "state": {}
     },
     "32f1a00c3d304337ab8faff63b6cf21f": {
      "model_module": "@jupyter-widgets/controls",
      "model_module_version": "1.4.0",
      "model_name": "FloatProgressModel",
      "state": {
       "layout": "IPY_MODEL_de094d3660a343309164ffe685d36932",
       "max": 1,
       "style": "IPY_MODEL_420da57095334a2189aba66277ef8461",
       "value": 0.9990867579908675
      }
     },
     "33235703e4164d8a87623bc3bf4b5028": {
      "model_module": "@jupyter-widgets/controls",
      "model_module_version": "1.4.0",
      "model_name": "HTMLModel",
      "state": {
       "layout": "IPY_MODEL_c76da8c0a08042b0a69f2202a909ff98",
       "style": "IPY_MODEL_7f94814662e64821926c1c2cae6b8830",
       "value": "<div style=\"padding: 0px 10px 0px 10px; text-align: right\">8028 / 8030</div>"
      }
     },
     "332a98767f4947499da0b323ac019fba": {
      "model_module": "@jupyter-widgets/controls",
      "model_module_version": "1.4.0",
      "model_name": "ProgressStyleModel",
      "state": {
       "description_width": ""
      }
     },
     "3341f153c8ea47668aa3f5e79b707b58": {
      "model_module": "@jupyter-widgets/base",
      "model_module_version": "1.1.0",
      "model_name": "LayoutModel",
      "state": {}
     },
     "33a5ac04bc87447fab4a4a9ab8b87628": {
      "model_module": "@jupyter-widgets/controls",
      "model_module_version": "1.4.0",
      "model_name": "HTMLModel",
      "state": {
       "layout": "IPY_MODEL_f123f6e93b594e3086de52e164d3e771",
       "style": "IPY_MODEL_7c1b0a2fef85476d983a5d957e0a072e",
       "value": "<div style=\"padding: 0px 10px 5px 10px\"><b>Computing:</b> 10min 18.3s</div>"
      }
     },
     "33e20fbc3e9b4293b6986d1d3e9182ba": {
      "model_module": "@jupyter-widgets/base",
      "model_module_version": "1.1.0",
      "model_name": "LayoutModel",
      "state": {}
     },
     "349331c0ba2a402294df8951010ffeb0": {
      "model_module": "@jupyter-widgets/base",
      "model_module_version": "1.1.0",
      "model_name": "LayoutModel",
      "state": {}
     },
     "34db47fc9abe481fb41500be077e126e": {
      "model_module": "@jupyter-widgets/base",
      "model_module_version": "1.1.0",
      "model_name": "LayoutModel",
      "state": {}
     },
     "351a992b0875421897c150d00cdb913f": {
      "model_module": "@jupyter-widgets/controls",
      "model_module_version": "1.4.0",
      "model_name": "ProgressStyleModel",
      "state": {
       "description_width": ""
      }
     },
     "352c1db8201c4de0afa9eccc2ca73a48": {
      "model_module": "@jupyter-widgets/controls",
      "model_module_version": "1.4.0",
      "model_name": "DescriptionStyleModel",
      "state": {
       "description_width": ""
      }
     },
     "356549e76dd34ba187c8aa8fb4d20000": {
      "model_module": "@jupyter-widgets/controls",
      "model_module_version": "1.4.0",
      "model_name": "HBoxModel",
      "state": {
       "children": [
        "IPY_MODEL_8f482e73302d431c85b525ef93504f3c",
        "IPY_MODEL_79a7e16fb9ab47dea1e5a04c1ca4101e",
        "IPY_MODEL_1ef203a6dcce451886b20232558736c2"
       ],
       "layout": "IPY_MODEL_79d2938e0bd84b41babee0a879cde7f8"
      }
     },
     "359c8673a5a7428fb0c526bd651f46e5": {
      "model_module": "@jupyter-widgets/controls",
      "model_module_version": "1.4.0",
      "model_name": "HTMLModel",
      "state": {
       "layout": "IPY_MODEL_5989ecca40d646c1a7dd00f884b37684",
       "style": "IPY_MODEL_c5a7d1306c9c4c94961fe79f3838ff8e",
       "value": "<div style=\"padding: 0px 10px 0px 10px; text-align:left; word-wrap: break-word;\">open_rasterio-getitem</div>"
      }
     },
     "35fb874c3bf74253ad19807dc9f79200": {
      "model_module": "@jupyter-widgets/controls",
      "model_module_version": "1.4.0",
      "model_name": "ButtonModel",
      "state": {
       "description": "Adapt",
       "layout": "IPY_MODEL_aa941f40520b409398c174937a2fb732",
       "style": "IPY_MODEL_793ea9a920e243259be6aa94c1050cfb"
      }
     },
     "365d4b552d39416bacf84472b08fd302": {
      "model_module": "@jupyter-widgets/base",
      "model_module_version": "1.1.0",
      "model_name": "LayoutModel",
      "state": {}
     },
     "36da0f752b704017a291cadee2ab211e": {
      "model_module": "@jupyter-widgets/controls",
      "model_module_version": "1.4.0",
      "model_name": "ButtonStyleModel",
      "state": {}
     },
     "36f10f2e22f34794954a50af93c74c7f": {
      "model_module": "@jupyter-widgets/base",
      "model_module_version": "1.1.0",
      "model_name": "LayoutModel",
      "state": {}
     },
     "36f6585b86f64b7e96a64e7b23e8f1b5": {
      "model_module": "@jupyter-widgets/controls",
      "model_module_version": "1.4.0",
      "model_name": "HBoxModel",
      "state": {
       "children": [
        "IPY_MODEL_27ef678252494da2847ff24aff03e793",
        "IPY_MODEL_51664b77f0c740108bc4e658e438d296",
        "IPY_MODEL_d75b6a6ba7af4f6ebd0e6bc2e55dfbd1"
       ],
       "layout": "IPY_MODEL_920a17cd5ed64e7799cef0fa8731786d"
      }
     },
     "3709d33547b74e719bf153b3aef95d4e": {
      "model_module": "@jupyter-widgets/controls",
      "model_module_version": "1.4.0",
      "model_name": "HTMLModel",
      "state": {
       "layout": "IPY_MODEL_533351eff2844c3ab5d4b89ce835e546",
       "style": "IPY_MODEL_64f7ff0810e7430e85a4d53760481342",
       "value": "<div style=\"padding: 0px 10px 0px 10px; text-align:left; word-wrap: break-word;\">open_rasterio-getitem</div>"
      }
     },
     "37966e16f86b4c28a6156f852294218a": {
      "model_module": "@jupyter-widgets/controls",
      "model_module_version": "1.4.0",
      "model_name": "DescriptionStyleModel",
      "state": {
       "description_width": ""
      }
     },
     "37b8152b457f45bfa40c26c40f446280": {
      "model_module": "@jupyter-widgets/controls",
      "model_module_version": "1.4.0",
      "model_name": "HBoxModel",
      "state": {
       "children": [
        "IPY_MODEL_0ced02533adf498484be9411e7fddb3a",
        "IPY_MODEL_daa54b9914614ea283b44fc5c1d32ed6",
        "IPY_MODEL_d35e0a716a4a43d0b4246dd898110cbb"
       ],
       "layout": "IPY_MODEL_8c0ce9013c674ad58f51b0c5ead1ae48"
      }
     },
     "37c92a78d0ae4def8dd6d5c5fb7c0595": {
      "model_module": "@jupyter-widgets/controls",
      "model_module_version": "1.4.0",
      "model_name": "FloatProgressModel",
      "state": {
       "layout": "IPY_MODEL_978d68505bdb4bdb96d830da034be365",
       "max": 1,
       "style": "IPY_MODEL_5ce74de246ee4f9eb2154be15119b2b1",
       "value": 1
      }
     },
     "37cdc8ab9bb8410d82884b2d7e190fac": {
      "model_module": "@jupyter-widgets/controls",
      "model_module_version": "1.4.0",
      "model_name": "HBoxModel",
      "state": {
       "children": [
        "IPY_MODEL_6842d7aca31f4234810b2d9d74567ed5",
        "IPY_MODEL_117bbc2696004c2484609a937d8bcea8"
       ],
       "layout": "IPY_MODEL_4a43c3e5ec8a4ff986b0a0e51828757a"
      }
     },
     "38204f61b71c4983816ecdff17b724d3": {
      "model_module": "@jupyter-widgets/controls",
      "model_module_version": "1.4.0",
      "model_name": "HTMLModel",
      "state": {
       "layout": "IPY_MODEL_196036f620c440f08324123bae4405e3",
       "style": "IPY_MODEL_90b67c5a2f584e12b4cf915446efd3a9",
       "value": "<div style=\"padding: 0px 10px 0px 10px; text-align:left; word-wrap: break-word;\">transpose</div>"
      }
     },
     "388520b13bd445c6b7aed533a44247a6": {
      "model_module": "@jupyter-widgets/controls",
      "model_module_version": "1.4.0",
      "model_name": "IntTextModel",
      "state": {
       "description": "Maximum",
       "layout": "IPY_MODEL_aa941f40520b409398c174937a2fb732",
       "step": 1,
       "style": "IPY_MODEL_a1e4441110b64f3bb0295b27124a1245"
      }
     },
     "38b8d0840d53481c8ef3f52691ff6d97": {
      "model_module": "@jupyter-widgets/controls",
      "model_module_version": "1.4.0",
      "model_name": "DescriptionStyleModel",
      "state": {
       "description_width": ""
      }
     },
     "38f11f857d764186a22b3b52c7bc8da0": {
      "model_module": "@jupyter-widgets/base",
      "model_module_version": "1.1.0",
      "model_name": "LayoutModel",
      "state": {}
     },
     "390a1d037a9e46dabcbf4add66953d17": {
      "model_module": "@jupyter-widgets/controls",
      "model_module_version": "1.4.0",
      "model_name": "HTMLModel",
      "state": {
       "layout": "IPY_MODEL_46f3b96c5eb4473fa968224daa8538d1",
       "style": "IPY_MODEL_97fc5056689e4a9a8f4135e38f5d8bd8",
       "value": "<div style=\"padding: 0px 10px 0px 10px; text-align:left; word-wrap: break-word;\">getitem</div>"
      }
     },
     "391d974b4996482a8fd575bec9cea0a2": {
      "model_module": "@jupyter-widgets/base",
      "model_module_version": "1.1.0",
      "model_name": "LayoutModel",
      "state": {}
     },
     "39618fe3499c4c9dac3de57dba0f4524": {
      "model_module": "@jupyter-widgets/controls",
      "model_module_version": "1.4.0",
      "model_name": "DescriptionStyleModel",
      "state": {
       "description_width": ""
      }
     },
     "3966784fe5674d9fade0c10fdd022eef": {
      "model_module": "@jupyter-widgets/controls",
      "model_module_version": "1.4.0",
      "model_name": "ProgressStyleModel",
      "state": {
       "description_width": ""
      }
     },
     "3a53a3a9cda043c9b52dff0f38e37cd5": {
      "model_module": "@jupyter-widgets/controls",
      "model_module_version": "1.4.0",
      "model_name": "ProgressStyleModel",
      "state": {
       "description_width": ""
      }
     },
     "3a82e7536b4c42f785a1af7560645bd4": {
      "model_module": "@jupyter-widgets/base",
      "model_module_version": "1.1.0",
      "model_name": "LayoutModel",
      "state": {}
     },
     "3abd72f10f774aee8ff3f59e20fbd384": {
      "model_module": "@jupyter-widgets/base",
      "model_module_version": "1.1.0",
      "model_name": "LayoutModel",
      "state": {}
     },
     "3b0e26a1858b43a08240f4d0d9714755": {
      "model_module": "@jupyter-widgets/controls",
      "model_module_version": "1.4.0",
      "model_name": "FloatProgressModel",
      "state": {
       "bar_style": "success",
       "layout": "IPY_MODEL_f537c5186b2b4aad8beec29bf3f31619",
       "max": 1,
       "style": "IPY_MODEL_411706432dc4437c8f9854c8f3d0efb6",
       "value": 1
      }
     },
     "3b2c8eb0a56e4d1d857fce2f302d491e": {
      "model_module": "@jupyter-widgets/controls",
      "model_module_version": "1.4.0",
      "model_name": "ProgressStyleModel",
      "state": {
       "description_width": ""
      }
     },
     "3b3b502a47964825a35e19a4dc1d0580": {
      "model_module": "@jupyter-widgets/controls",
      "model_module_version": "1.4.0",
      "model_name": "HBoxModel",
      "state": {
       "children": [
        "IPY_MODEL_aa909a1749ce4c6ca298f331d317d35e",
        "IPY_MODEL_14636a3a16be4a69acfb981748629a36",
        "IPY_MODEL_91684ca0363e47048a0fbeedec6f2a8f"
       ],
       "layout": "IPY_MODEL_a99e5926ce0c4751a8f06bca1735a840"
      }
     },
     "3be82312472645289a294e75f0940f86": {
      "model_module": "@jupyter-widgets/controls",
      "model_module_version": "1.4.0",
      "model_name": "DescriptionStyleModel",
      "state": {
       "description_width": ""
      }
     },
     "3c1cb402450b41dcaaabbfed2841c74e": {
      "model_module": "@jupyter-widgets/controls",
      "model_module_version": "1.4.0",
      "model_name": "ButtonStyleModel",
      "state": {}
     },
     "3c1d430c51ff4f178fe609f432bedaca": {
      "model_module": "@jupyter-widgets/controls",
      "model_module_version": "1.4.0",
      "model_name": "HTMLModel",
      "state": {
       "layout": "IPY_MODEL_0cc960ca976a49dfbdef3e34b5cb3d93",
       "style": "IPY_MODEL_111734dea6d1400d9ea3de8f3574e7ce",
       "value": "<div style=\"padding: 0px 10px 0px 10px; text-align: right\">16058 / 16060</div>"
      }
     },
     "3c2ea837c0cd4c26aa71240c4f55d44c": {
      "model_module": "@jupyter-widgets/base",
      "model_module_version": "1.1.0",
      "model_name": "LayoutModel",
      "state": {}
     },
     "3c46053eb157468da7848ff77dc3fdd9": {
      "model_module": "@jupyter-widgets/base",
      "model_module_version": "1.1.0",
      "model_name": "LayoutModel",
      "state": {}
     },
     "3ca6acac0b794aa48ac5f368e93582b2": {
      "model_module": "@jupyter-widgets/controls",
      "model_module_version": "1.4.0",
      "model_name": "DescriptionStyleModel",
      "state": {
       "description_width": ""
      }
     },
     "3cebd4879df344a3bc6d0eb1305619ff": {
      "model_module": "@jupyter-widgets/controls",
      "model_module_version": "1.4.0",
      "model_name": "HTMLModel",
      "state": {
       "layout": "IPY_MODEL_e97b20201c9c4d0d90c4fdd89fa46d9e",
       "style": "IPY_MODEL_f4ba4530e9284be2b3942eada6bee98c",
       "value": "<div style=\"padding: 0px 10px 0px 10px; text-align: right\">1 / 1</div>"
      }
     },
     "3cf116c3aa8f49cfa42ab9ea96d49b66": {
      "model_module": "@jupyter-widgets/controls",
      "model_module_version": "1.4.0",
      "model_name": "DescriptionStyleModel",
      "state": {
       "description_width": ""
      }
     },
     "3d5f067670e4471bba5ba2484932e217": {
      "model_module": "@jupyter-widgets/controls",
      "model_module_version": "1.4.0",
      "model_name": "ProgressStyleModel",
      "state": {
       "description_width": ""
      }
     },
     "3d625ef74ecb453386eab360b5eadf29": {
      "model_module": "@jupyter-widgets/base",
      "model_module_version": "1.1.0",
      "model_name": "LayoutModel",
      "state": {}
     },
     "3d6ab0736c514469b5e05dbdc7aa930b": {
      "model_module": "@jupyter-widgets/base",
      "model_module_version": "1.1.0",
      "model_name": "LayoutModel",
      "state": {}
     },
     "3d8d9cb8120348c9b1c807c32f247d75": {
      "model_module": "@jupyter-widgets/controls",
      "model_module_version": "1.4.0",
      "model_name": "DescriptionStyleModel",
      "state": {
       "description_width": ""
      }
     },
     "3da44aff4df0459e88199ac3bca75b80": {
      "model_module": "@jupyter-widgets/controls",
      "model_module_version": "1.4.0",
      "model_name": "DescriptionStyleModel",
      "state": {
       "description_width": ""
      }
     },
     "3e0cea6616bb4337b355d2730007f546": {
      "model_module": "@jupyter-widgets/base",
      "model_module_version": "1.1.0",
      "model_name": "LayoutModel",
      "state": {}
     },
     "3e0edfbebd044222b9b8a33b8addbeae": {
      "model_module": "@jupyter-widgets/base",
      "model_module_version": "1.1.0",
      "model_name": "LayoutModel",
      "state": {}
     },
     "3e45cfaf6bd3449ab6b4a7c48b0b6bbb": {
      "model_module": "@jupyter-widgets/base",
      "model_module_version": "1.1.0",
      "model_name": "LayoutModel",
      "state": {}
     },
     "3ebbeda7fb1e40b1aff0570b07ae761a": {
      "model_module": "@jupyter-widgets/base",
      "model_module_version": "1.1.0",
      "model_name": "LayoutModel",
      "state": {}
     },
     "3f3070c57f444da486b891fc6234f38d": {
      "model_module": "@jupyter-widgets/controls",
      "model_module_version": "1.4.0",
      "model_name": "HTMLModel",
      "state": {
       "layout": "IPY_MODEL_d12895079ae94e02ac657a51f693fc63",
       "style": "IPY_MODEL_ddedc4a4f6ef4b0e9df7ac401e92ebdd",
       "value": "<div style=\"padding: 0px 10px 0px 10px; text-align: right\">2188 / 2190</div>"
      }
     },
     "3f57e98c5a8e40c99ed77de6cdaf40dc": {
      "model_module": "@jupyter-widgets/controls",
      "model_module_version": "1.4.0",
      "model_name": "DescriptionStyleModel",
      "state": {
       "description_width": ""
      }
     },
     "3f924fbb5dbc4afda4356c09de57fc88": {
      "model_module": "@jupyter-widgets/controls",
      "model_module_version": "1.4.0",
      "model_name": "ProgressStyleModel",
      "state": {
       "description_width": ""
      }
     },
     "3fbc8a5d86b34fdba4263c42c0a4a214": {
      "model_module": "@jupyter-widgets/base",
      "model_module_version": "1.1.0",
      "model_name": "LayoutModel",
      "state": {}
     },
     "400e59f637544f34a819d9bad744db90": {
      "model_module": "@jupyter-widgets/base",
      "model_module_version": "1.1.0",
      "model_name": "LayoutModel",
      "state": {}
     },
     "402264f40d0f49d981a3107495147a6a": {
      "model_module": "@jupyter-widgets/controls",
      "model_module_version": "1.4.0",
      "model_name": "HBoxModel",
      "state": {
       "children": [
        "IPY_MODEL_af03681ff6704f7f8ca55b619682e74e",
        "IPY_MODEL_98f2ef2d660e46eba98225493a305f2e",
        "IPY_MODEL_452eeab0aa1645718853dc90216e8745"
       ],
       "layout": "IPY_MODEL_a2505a04e8e74c489e573c4f9ef07a3a"
      }
     },
     "408ee7224f8849209322afa34dc7210a": {
      "model_module": "@jupyter-widgets/controls",
      "model_module_version": "1.4.0",
      "model_name": "HBoxModel",
      "state": {
       "children": [
        "IPY_MODEL_904bdf0e81964f4d9781f4157127ada3",
        "IPY_MODEL_32f1a00c3d304337ab8faff63b6cf21f",
        "IPY_MODEL_a70dd80242ff4f93b9c79e4cd36c1812"
       ],
       "layout": "IPY_MODEL_4e52787b17f34c56b85b72ade8fd4a20"
      }
     },
     "4103b62ccd6b4ceda9b8034014358168": {
      "model_module": "@jupyter-widgets/base",
      "model_module_version": "1.1.0",
      "model_name": "LayoutModel",
      "state": {}
     },
     "411706432dc4437c8f9854c8f3d0efb6": {
      "model_module": "@jupyter-widgets/controls",
      "model_module_version": "1.4.0",
      "model_name": "ProgressStyleModel",
      "state": {
       "description_width": ""
      }
     },
     "41193a6382234139afbc4be75472019e": {
      "model_module": "@jupyter-widgets/base",
      "model_module_version": "1.1.0",
      "model_name": "LayoutModel",
      "state": {}
     },
     "414a5ff1e1aa4031b727a63a8c8c9a6d": {
      "model_module": "@jupyter-widgets/controls",
      "model_module_version": "1.4.0",
      "model_name": "HBoxModel",
      "state": {
       "children": [
        "IPY_MODEL_c386fbe178794267858d1e171f8b0b29",
        "IPY_MODEL_388520b13bd445c6b7aed533a44247a6",
        "IPY_MODEL_35fb874c3bf74253ad19807dc9f79200"
       ],
       "layout": "IPY_MODEL_c54762b97acd4a0a9418dbb5eda31251"
      }
     },
     "41f14fd1b3444e088165fd1c08dadac7": {
      "model_module": "@jupyter-widgets/base",
      "model_module_version": "1.1.0",
      "model_name": "LayoutModel",
      "state": {}
     },
     "420da57095334a2189aba66277ef8461": {
      "model_module": "@jupyter-widgets/controls",
      "model_module_version": "1.4.0",
      "model_name": "ProgressStyleModel",
      "state": {
       "description_width": ""
      }
     },
     "42449575917545b48fb1557252498174": {
      "model_module": "@jupyter-widgets/controls",
      "model_module_version": "1.4.0",
      "model_name": "HTMLModel",
      "state": {
       "layout": "IPY_MODEL_9e7ce654a8fd4d12b7995854e6ac6aaa",
       "style": "IPY_MODEL_88288ba18f1d4b33a2d82f0a7e4ec6d4",
       "value": "<div style=\"padding: 0px 10px 0px 10px; text-align:left; word-wrap: break-word;\">mean_chunk</div>"
      }
     },
     "4396c620245c44368a102cb981ccdf9d": {
      "model_module": "@jupyter-widgets/controls",
      "model_module_version": "1.4.0",
      "model_name": "VBoxModel",
      "state": {
       "layout": "IPY_MODEL_52fa5d4bb21d4d0491ff454a2dc6e2b1"
      }
     },
     "4401b9f444854d2a86bc1d35379116fa": {
      "model_module": "@jupyter-widgets/controls",
      "model_module_version": "1.4.0",
      "model_name": "IntTextModel",
      "state": {
       "description": "Maximum",
       "layout": "IPY_MODEL_c5a1ced8058c4fcb9098c40d4c016b85",
       "step": 1,
       "style": "IPY_MODEL_bf832b0d732343519ef6b394b6960b8d"
      }
     },
     "44c1dcdbd0b14744bde9cacb0773896e": {
      "model_module": "@jupyter-widgets/controls",
      "model_module_version": "1.4.0",
      "model_name": "AccordionModel",
      "state": {
       "_titles": {
        "0": "Manual Scaling",
        "1": "Adaptive Scaling"
       },
       "children": [
        "IPY_MODEL_90c8f6ec3a624148801a0e7c1543e098",
        "IPY_MODEL_4ceb16be2c5d44e19696b455c949dd0d"
       ],
       "layout": "IPY_MODEL_954baa7d50f84a288c641fbe92d4ee28",
       "selected_index": null
      }
     },
     "44d3f90bed2a4df29afe41758f688606": {
      "model_module": "@jupyter-widgets/controls",
      "model_module_version": "1.4.0",
      "model_name": "HBoxModel",
      "state": {
       "children": [
        "IPY_MODEL_6a52b48b213544f7ad5e518db6fe22e5",
        "IPY_MODEL_8d31165688724aa7970b0766fb0faec3",
        "IPY_MODEL_48c319ae30384b71b4971d89a7fe83b5"
       ],
       "layout": "IPY_MODEL_57044e820c024e5d9c5c5ab2410f033a"
      }
     },
     "44df9780679e47108ccc0620dc2d7d3a": {
      "model_module": "@jupyter-widgets/controls",
      "model_module_version": "1.4.0",
      "model_name": "HTMLModel",
      "state": {
       "layout": "IPY_MODEL_03015ea9a27d4a078d3188c68b4e2ac7",
       "style": "IPY_MODEL_4b84c94da8c84627ac3e2dbb32c78592",
       "value": "<div style=\"padding: 0px 10px 0px 10px; text-align: right\">16060 / 16060</div>"
      }
     },
     "450da01632b6497297f2581ea373ee7f": {
      "model_module": "@jupyter-widgets/base",
      "model_module_version": "1.1.0",
      "model_name": "LayoutModel",
      "state": {}
     },
     "452eeab0aa1645718853dc90216e8745": {
      "model_module": "@jupyter-widgets/controls",
      "model_module_version": "1.4.0",
      "model_name": "HTMLModel",
      "state": {
       "layout": "IPY_MODEL_825f4dfa77cb48d29efe0e1f2a128bc3",
       "style": "IPY_MODEL_f0f642a2a9f94512aa100be50139c985",
       "value": "<div style=\"padding: 0px 10px 0px 10px; text-align:left; word-wrap: break-word;\">sub</div>"
      }
     },
     "45493a117ae44eefba361f100121ebfe": {
      "model_module": "@jupyter-widgets/controls",
      "model_module_version": "1.4.0",
      "model_name": "HTMLModel",
      "state": {
       "layout": "IPY_MODEL_365d4b552d39416bacf84472b08fd302",
       "style": "IPY_MODEL_ea18940e3dbd4c708766562f98121aae",
       "value": "<div style=\"padding: 0px 10px 5px 10px\"><b>Finished:</b> 19.1s</div>"
      }
     },
     "455c7ecbc7bc4a39ba07982de6bf6ee3": {
      "model_module": "@jupyter-widgets/controls",
      "model_module_version": "1.4.0",
      "model_name": "ProgressStyleModel",
      "state": {
       "description_width": ""
      }
     },
     "45b672252e674969a6cef581b218e19c": {
      "model_module": "@jupyter-widgets/base",
      "model_module_version": "1.1.0",
      "model_name": "LayoutModel",
      "state": {}
     },
     "45e6fe12fbbe437ca18408ec3c86096b": {
      "model_module": "@jupyter-widgets/controls",
      "model_module_version": "1.4.0",
      "model_name": "DescriptionStyleModel",
      "state": {
       "description_width": ""
      }
     },
     "45fdf95e9a7e4f9584016bfef5ae0901": {
      "model_module": "@jupyter-widgets/base",
      "model_module_version": "1.1.0",
      "model_name": "LayoutModel",
      "state": {
       "min_width": "500px"
      }
     },
     "460a26c98b8a46dd918ab84a999e9164": {
      "model_module": "@jupyter-widgets/controls",
      "model_module_version": "1.4.0",
      "model_name": "HTMLModel",
      "state": {
       "layout": "IPY_MODEL_1e5d3cf97bb7416a83a216b94c1bc52a",
       "style": "IPY_MODEL_cd0894cb92b141e3b8a5c0a85e0007a6",
       "value": "<div style=\"padding: 0px 10px 0px 10px; text-align:left; word-wrap: break-word;\">getitem</div>"
      }
     },
     "46836c821301413b9e89134d5942684b": {
      "model_module": "@jupyter-widgets/controls",
      "model_module_version": "1.4.0",
      "model_name": "HBoxModel",
      "state": {
       "children": [
        "IPY_MODEL_ca359f2cd9924425a0863294ca3561ba",
        "IPY_MODEL_ebe742e2d3a440d3b50044ae6dbf8014",
        "IPY_MODEL_4872c13870074eb49241b4565951fdb8"
       ],
       "layout": "IPY_MODEL_605882feb27f47c39e5f9099b2a2478b"
      }
     },
     "46c477d9529a492889560a8556356c2c": {
      "model_module": "@jupyter-widgets/base",
      "model_module_version": "1.1.0",
      "model_name": "LayoutModel",
      "state": {}
     },
     "46dc0c8879234e3cad36353e5e266874": {
      "model_module": "@jupyter-widgets/base",
      "model_module_version": "1.1.0",
      "model_name": "LayoutModel",
      "state": {}
     },
     "46ee716972314f8dae08ccfc1c2e28db": {
      "model_module": "@jupyter-widgets/controls",
      "model_module_version": "1.4.0",
      "model_name": "HTMLModel",
      "state": {
       "layout": "IPY_MODEL_61f8856a18d348dab683893cf95b6629",
       "style": "IPY_MODEL_600998f5f788481bac0486902e7a66b2",
       "value": "<div style=\"padding: 0px 10px 0px 10px; text-align:left; word-wrap: break-word;\">rechunk-merge-rechunk-split-concatenate</div>"
      }
     },
     "46f3b96c5eb4473fa968224daa8538d1": {
      "model_module": "@jupyter-widgets/base",
      "model_module_version": "1.1.0",
      "model_name": "LayoutModel",
      "state": {}
     },
     "4737d86c6fd8459d9fe6012616dc0477": {
      "model_module": "@jupyter-widgets/controls",
      "model_module_version": "1.4.0",
      "model_name": "HTMLModel",
      "state": {
       "layout": "IPY_MODEL_94529a3eea6f4a9291ced83f5942a76f",
       "style": "IPY_MODEL_be4803e499144d22af396fa6b7099291",
       "value": "<div style=\"padding: 0px 10px 0px 10px; text-align: right\">2190 / 2190</div>"
      }
     },
     "4766dbb00c0a4e5081248383850311dc": {
      "model_module": "@jupyter-widgets/controls",
      "model_module_version": "1.4.0",
      "model_name": "ProgressStyleModel",
      "state": {
       "description_width": ""
      }
     },
     "4767ba34530943bd851dd1d61c25e83e": {
      "model_module": "@jupyter-widgets/controls",
      "model_module_version": "1.4.0",
      "model_name": "FloatProgressModel",
      "state": {
       "bar_style": "success",
       "layout": "IPY_MODEL_639cd5b725b44afcb93f6ec67489fb35",
       "max": 1,
       "style": "IPY_MODEL_522410da78dc43b48c27781626bb8f54",
       "value": 1
      }
     },
     "479f15c36ebc4ece96be699513059056": {
      "model_module": "@jupyter-widgets/controls",
      "model_module_version": "1.4.0",
      "model_name": "FloatProgressModel",
      "state": {
       "layout": "IPY_MODEL_665d0fbd064147c582ad20723722aa2e",
       "max": 1,
       "style": "IPY_MODEL_308b55eed83b4f5289c27d484d6727ba",
       "value": 1
      }
     },
     "4872c13870074eb49241b4565951fdb8": {
      "model_module": "@jupyter-widgets/controls",
      "model_module_version": "1.4.0",
      "model_name": "HTMLModel",
      "state": {
       "layout": "IPY_MODEL_1011fb2d966343b1be0077c1760b05c4",
       "style": "IPY_MODEL_dfc06c52ca9e428ea253aa050d52b814",
       "value": "<div style=\"padding: 0px 10px 0px 10px; text-align:left; word-wrap: break-word;\">concatenate</div>"
      }
     },
     "487b69e76b614d78809e8ae0bcf498df": {
      "model_module": "@jupyter-widgets/controls",
      "model_module_version": "1.4.0",
      "model_name": "ButtonStyleModel",
      "state": {}
     },
     "48905f0b5738494fa4d10e23b93018b3": {
      "model_module": "@jupyter-widgets/base",
      "model_module_version": "1.1.0",
      "model_name": "LayoutModel",
      "state": {}
     },
     "48c319ae30384b71b4971d89a7fe83b5": {
      "model_module": "@jupyter-widgets/controls",
      "model_module_version": "1.4.0",
      "model_name": "HTMLModel",
      "state": {
       "layout": "IPY_MODEL_7067526467cc4b91984cc30eb76b448c",
       "style": "IPY_MODEL_650d449e910b4ceca32d3cc1404ef314",
       "value": "<div style=\"padding: 0px 10px 0px 10px; text-align:left; word-wrap: break-word;\">eq</div>"
      }
     },
     "48cc13064c094353a92a1a9fd1b411a0": {
      "model_module": "@jupyter-widgets/controls",
      "model_module_version": "1.4.0",
      "model_name": "HTMLModel",
      "state": {
       "layout": "IPY_MODEL_d4f528cff81743818269f0e2272f5780",
       "style": "IPY_MODEL_b840e3ff7389475591a772c60acd35ec",
       "value": "<div style=\"padding: 0px 10px 0px 10px; text-align: right\">352 / 352</div>"
      }
     },
     "48ec81785b4643589e67b6ebb01b9fe0": {
      "model_module": "@jupyter-widgets/controls",
      "model_module_version": "1.4.0",
      "model_name": "VBoxModel",
      "state": {
       "children": [
        "IPY_MODEL_fba7972e13304a3298c01db11c9c70b3",
        "IPY_MODEL_31317ce6c07049ab83ecc778b074a899",
        "IPY_MODEL_4b72ef9226e7465ab42e58b45b151c59"
       ],
       "layout": "IPY_MODEL_9051e1932aee41a487e437b401425845"
      }
     },
     "49948fcbfacd4ff0b52cbf98c0347fec": {
      "model_module": "@jupyter-widgets/controls",
      "model_module_version": "1.4.0",
      "model_name": "HTMLModel",
      "state": {
       "layout": "IPY_MODEL_779bc324fe9f49c8ad5f368c9ab822e2",
       "style": "IPY_MODEL_7f0f969f21fa41879c222dfecf5a04ad",
       "value": "<div style=\"padding: 0px 10px 0px 10px; text-align: right\">352 / 352</div>"
      }
     },
     "49cbc771e6184d9d98c10fd89d1874ff": {
      "model_module": "@jupyter-widgets/controls",
      "model_module_version": "1.4.0",
      "model_name": "ButtonModel",
      "state": {
       "description": "Adapt",
       "layout": "IPY_MODEL_984160076ca640df90d87deecb24e84b",
       "style": "IPY_MODEL_c9dece1b7471421e9eb552f45e8a70c6"
      }
     },
     "4a0ef7adb944405e92a53b9c3c0f1999": {
      "model_module": "@jupyter-widgets/controls",
      "model_module_version": "1.4.0",
      "model_name": "DescriptionStyleModel",
      "state": {
       "description_width": ""
      }
     },
     "4a335d35aa064157bd1b7ded8d58274a": {
      "model_module": "@jupyter-widgets/controls",
      "model_module_version": "1.4.0",
      "model_name": "ProgressStyleModel",
      "state": {
       "description_width": ""
      }
     },
     "4a43c3e5ec8a4ff986b0a0e51828757a": {
      "model_module": "@jupyter-widgets/base",
      "model_module_version": "1.1.0",
      "model_name": "LayoutModel",
      "state": {}
     },
     "4a612a33e4174442858025978e2b21ae": {
      "model_module": "@jupyter-widgets/controls",
      "model_module_version": "1.4.0",
      "model_name": "DescriptionStyleModel",
      "state": {
       "description_width": ""
      }
     },
     "4a69309ecac34d168df536c1d6597d0c": {
      "model_module": "@jupyter-widgets/base",
      "model_module_version": "1.1.0",
      "model_name": "LayoutModel",
      "state": {}
     },
     "4adcdce622ec4c3cb2916909fec168bc": {
      "model_module": "@jupyter-widgets/controls",
      "model_module_version": "1.4.0",
      "model_name": "DescriptionStyleModel",
      "state": {
       "description_width": ""
      }
     },
     "4b72ef9226e7465ab42e58b45b151c59": {
      "model_module": "@jupyter-widgets/controls",
      "model_module_version": "1.4.0",
      "model_name": "HBoxModel",
      "state": {
       "children": [
        "IPY_MODEL_e4999e4116c94fec884943b6de49ab0f",
        "IPY_MODEL_9de2741fdc1e42dfb06618eb90a7969e",
        "IPY_MODEL_fbb29ee5b251439f831659478ab09641"
       ],
       "layout": "IPY_MODEL_d35da7c692794327a58451b06e287894"
      }
     },
     "4b84c94da8c84627ac3e2dbb32c78592": {
      "model_module": "@jupyter-widgets/controls",
      "model_module_version": "1.4.0",
      "model_name": "DescriptionStyleModel",
      "state": {
       "description_width": ""
      }
     },
     "4c5e2d704b9a4d17b904b16b8d97d95d": {
      "model_module": "@jupyter-widgets/controls",
      "model_module_version": "1.4.0",
      "model_name": "HBoxModel",
      "state": {
       "children": [
        "IPY_MODEL_948e0af81963446388420b624e8d0908",
        "IPY_MODEL_d49543439a934c62a7f2bd9f29879e05"
       ],
       "layout": "IPY_MODEL_55499105b2f3425089997985d11701f4"
      }
     },
     "4cb20c2eb1c0404fa3c9cc053ee234e5": {
      "model_module": "@jupyter-widgets/base",
      "model_module_version": "1.1.0",
      "model_name": "LayoutModel",
      "state": {}
     },
     "4ceb16be2c5d44e19696b455c949dd0d": {
      "model_module": "@jupyter-widgets/controls",
      "model_module_version": "1.4.0",
      "model_name": "HBoxModel",
      "state": {
       "children": [
        "IPY_MODEL_8c642a35184242a7a325c124ada39074",
        "IPY_MODEL_2da3d610ac664aa49f0686a30f1d51a4",
        "IPY_MODEL_b76239a410194593a5749b355e902566"
       ],
       "layout": "IPY_MODEL_16190753962a46869f4c0702c9e00e62"
      }
     },
     "4d2e0a30581545ec81db07595fe95545": {
      "model_module": "@jupyter-widgets/base",
      "model_module_version": "1.1.0",
      "model_name": "LayoutModel",
      "state": {}
     },
     "4d5eca1470d14c73942e14cb990fb5b3": {
      "model_module": "@jupyter-widgets/controls",
      "model_module_version": "1.4.0",
      "model_name": "HTMLModel",
      "state": {
       "layout": "IPY_MODEL_830dae62a1434bf3b6cf20c27841845c",
       "style": "IPY_MODEL_7bd08339900d4d26ac3fcf08620c07d4",
       "value": "<div style=\"padding: 0px 10px 0px 10px; text-align: right\">728 / 730</div>"
      }
     },
     "4d623052cd774abe995140ac21b70682": {
      "model_module": "@jupyter-widgets/base",
      "model_module_version": "1.1.0",
      "model_name": "LayoutModel",
      "state": {}
     },
     "4d96b34c5b7f449887c34a5edf20b07e": {
      "model_module": "@jupyter-widgets/base",
      "model_module_version": "1.1.0",
      "model_name": "LayoutModel",
      "state": {}
     },
     "4ddbc37b5a5c4f559f1926f69bbfedac": {
      "model_module": "@jupyter-widgets/controls",
      "model_module_version": "1.4.0",
      "model_name": "DescriptionStyleModel",
      "state": {
       "description_width": ""
      }
     },
     "4e2da04cf87349d2999aa37d58ac022d": {
      "model_module": "@jupyter-widgets/controls",
      "model_module_version": "1.4.0",
      "model_name": "HTMLModel",
      "state": {
       "layout": "IPY_MODEL_92240c5d50f74a3e80d54564a7f355e5",
       "style": "IPY_MODEL_ac58a7f392264503bdb866678c06dddb",
       "value": "<div style=\"padding: 0px 10px 0px 10px; text-align: right\">22 / 22</div>"
      }
     },
     "4e52787b17f34c56b85b72ade8fd4a20": {
      "model_module": "@jupyter-widgets/base",
      "model_module_version": "1.1.0",
      "model_name": "LayoutModel",
      "state": {}
     },
     "4e5427b617464bd0bd988ed8f2dbef39": {
      "model_module": "@jupyter-widgets/base",
      "model_module_version": "1.1.0",
      "model_name": "LayoutModel",
      "state": {}
     },
     "4f84972ab9004962b154634c1d42ec3a": {
      "model_module": "@jupyter-widgets/base",
      "model_module_version": "1.1.0",
      "model_name": "LayoutModel",
      "state": {}
     },
     "4fca00a00fcf4ffeafb061cf3c3359ef": {
      "model_module": "@jupyter-widgets/controls",
      "model_module_version": "1.4.0",
      "model_name": "HBoxModel",
      "state": {
       "children": [
        "IPY_MODEL_f951db8b5c344e939ea668ecc4ef942b",
        "IPY_MODEL_fce379be93944110979c48817a414679",
        "IPY_MODEL_cb445e683912406581b40e8c60cc2b6d"
       ],
       "layout": "IPY_MODEL_56a112ea49174c699d9ac239890965c6"
      }
     },
     "4fd27646916d4da18ca85ded940c5753": {
      "model_module": "@jupyter-widgets/base",
      "model_module_version": "1.1.0",
      "model_name": "LayoutModel",
      "state": {}
     },
     "5054c2cadc1e4e8c832c47dc613a117c": {
      "model_module": "@jupyter-widgets/controls",
      "model_module_version": "1.4.0",
      "model_name": "FloatProgressModel",
      "state": {
       "bar_style": "success",
       "layout": "IPY_MODEL_a39474ee007f4805a5326e3d46ef7f04",
       "max": 1,
       "style": "IPY_MODEL_7d2ac88c5a0c4dab94892748921bc4df",
       "value": 1
      }
     },
     "505e9fd49e7f403c959ff5f7ff3d7e88": {
      "model_module": "@jupyter-widgets/controls",
      "model_module_version": "1.4.0",
      "model_name": "HTMLModel",
      "state": {
       "layout": "IPY_MODEL_111b10347d5d4e81be2b213f1e0bf751",
       "style": "IPY_MODEL_74f696ce77f24549bb2662ee45d1c957",
       "value": "<div style=\"padding: 0px 10px 0px 10px; text-align:left; word-wrap: break-word;\">mean_chunk</div>"
      }
     },
     "51664b77f0c740108bc4e658e438d296": {
      "model_module": "@jupyter-widgets/controls",
      "model_module_version": "1.4.0",
      "model_name": "FloatProgressModel",
      "state": {
       "bar_style": "success",
       "layout": "IPY_MODEL_fb5c69f3e4494f25b6c30921ad46f1da",
       "max": 1,
       "style": "IPY_MODEL_220d83a5ae4d41bbae2b44011fa5c732",
       "value": 1
      }
     },
     "517fc514d76e4ec6aa7ed2c727e7d5fe": {
      "model_module": "@jupyter-widgets/controls",
      "model_module_version": "1.4.0",
      "model_name": "HBoxModel",
      "state": {
       "children": [
        "IPY_MODEL_bec295cfce584c6ca66f0d1279ecc845",
        "IPY_MODEL_aaea5e090d9a45af923069a6e1cb5226",
        "IPY_MODEL_505e9fd49e7f403c959ff5f7ff3d7e88"
       ],
       "layout": "IPY_MODEL_4e5427b617464bd0bd988ed8f2dbef39"
      }
     },
     "522410da78dc43b48c27781626bb8f54": {
      "model_module": "@jupyter-widgets/controls",
      "model_module_version": "1.4.0",
      "model_name": "ProgressStyleModel",
      "state": {
       "description_width": ""
      }
     },
     "522620e7f49444db8799181ba3b6111a": {
      "model_module": "@jupyter-widgets/controls",
      "model_module_version": "1.4.0",
      "model_name": "HBoxModel",
      "state": {
       "children": [
        "IPY_MODEL_bcb3d7311596455bb539284248fc724e",
        "IPY_MODEL_d4297a41865c4d9baa3b1fe432a402cd",
        "IPY_MODEL_460a26c98b8a46dd918ab84a999e9164"
       ],
       "layout": "IPY_MODEL_a81d952723d64b58888435549395f92f"
      }
     },
     "522a76b173e24321bc82989840a5d50d": {
      "model_module": "@jupyter-widgets/base",
      "model_module_version": "1.1.0",
      "model_name": "LayoutModel",
      "state": {}
     },
     "527eee87a895493a9dd0431c38453202": {
      "model_module": "@jupyter-widgets/controls",
      "model_module_version": "1.4.0",
      "model_name": "ProgressStyleModel",
      "state": {
       "description_width": ""
      }
     },
     "52f280854f9f4f7a861487b65902adfa": {
      "model_module": "@jupyter-widgets/base",
      "model_module_version": "1.1.0",
      "model_name": "LayoutModel",
      "state": {}
     },
     "52fa5d4bb21d4d0491ff454a2dc6e2b1": {
      "model_module": "@jupyter-widgets/base",
      "model_module_version": "1.1.0",
      "model_name": "LayoutModel",
      "state": {}
     },
     "533351eff2844c3ab5d4b89ce835e546": {
      "model_module": "@jupyter-widgets/base",
      "model_module_version": "1.1.0",
      "model_name": "LayoutModel",
      "state": {}
     },
     "534d31540ae649869b46918b557ccb8d": {
      "model_module": "@jupyter-widgets/controls",
      "model_module_version": "1.4.0",
      "model_name": "DescriptionStyleModel",
      "state": {
       "description_width": ""
      }
     },
     "541e34e2b6e344c093cb539079058f0f": {
      "model_module": "@jupyter-widgets/controls",
      "model_module_version": "1.4.0",
      "model_name": "DescriptionStyleModel",
      "state": {
       "description_width": ""
      }
     },
     "542d806dc34d467b8987874ede0427de": {
      "model_module": "@jupyter-widgets/controls",
      "model_module_version": "1.4.0",
      "model_name": "HTMLModel",
      "state": {
       "layout": "IPY_MODEL_46c477d9529a492889560a8556356c2c",
       "style": "IPY_MODEL_e5aac7c8a8784b7ca30d332fbc6de6df",
       "value": "<div style=\"padding: 0px 10px 0px 10px; text-align: right\">56 / 56</div>"
      }
     },
     "54b9e802b6b649748b9f0999eab78ae7": {
      "model_module": "@jupyter-widgets/controls",
      "model_module_version": "1.4.0",
      "model_name": "ProgressStyleModel",
      "state": {
       "description_width": ""
      }
     },
     "54c002ccba804037aedfa887a91ef3b7": {
      "model_module": "@jupyter-widgets/controls",
      "model_module_version": "1.4.0",
      "model_name": "DescriptionStyleModel",
      "state": {
       "description_width": ""
      }
     },
     "5530dc8a982649b292623585acca5ce2": {
      "model_module": "@jupyter-widgets/controls",
      "model_module_version": "1.4.0",
      "model_name": "ProgressStyleModel",
      "state": {
       "description_width": ""
      }
     },
     "55499105b2f3425089997985d11701f4": {
      "model_module": "@jupyter-widgets/base",
      "model_module_version": "1.1.0",
      "model_name": "LayoutModel",
      "state": {}
     },
     "5580b1cfef7e4ff3bc0b27591dcd2ea1": {
      "model_module": "@jupyter-widgets/base",
      "model_module_version": "1.1.0",
      "model_name": "LayoutModel",
      "state": {}
     },
     "5662b6f63fb14e58b35986733f3260ab": {
      "model_module": "@jupyter-widgets/controls",
      "model_module_version": "1.4.0",
      "model_name": "FloatProgressModel",
      "state": {
       "bar_style": "success",
       "layout": "IPY_MODEL_d0f8831f77b34f8a8e2fe0bbf5c05541",
       "max": 1,
       "style": "IPY_MODEL_75c55eccf9704bce9b7d45c08b7ae2b3",
       "value": 1
      }
     },
     "56827c318a914a84908ac63b883fe474": {
      "model_module": "@jupyter-widgets/controls",
      "model_module_version": "1.4.0",
      "model_name": "HBoxModel",
      "state": {
       "children": [
        "IPY_MODEL_a05dc0481fd74df2862a0c4188fd16ce",
        "IPY_MODEL_ecfd9dca84d04e04b2a7a3ac2b58bfc6",
        "IPY_MODEL_b8375d3943fd4f559a7337685c985836"
       ],
       "layout": "IPY_MODEL_33e20fbc3e9b4293b6986d1d3e9182ba"
      }
     },
     "5688cada0f5a4d458c226e9489c29350": {
      "model_module": "@jupyter-widgets/base",
      "model_module_version": "1.1.0",
      "model_name": "LayoutModel",
      "state": {}
     },
     "56a112ea49174c699d9ac239890965c6": {
      "model_module": "@jupyter-widgets/base",
      "model_module_version": "1.1.0",
      "model_name": "LayoutModel",
      "state": {}
     },
     "57044e820c024e5d9c5c5ab2410f033a": {
      "model_module": "@jupyter-widgets/base",
      "model_module_version": "1.1.0",
      "model_name": "LayoutModel",
      "state": {}
     },
     "5719bd8a984f4af0b9e439386b3915d1": {
      "model_module": "@jupyter-widgets/base",
      "model_module_version": "1.1.0",
      "model_name": "LayoutModel",
      "state": {}
     },
     "5740a3d1575d45fcba376d3b19dd058b": {
      "model_module": "@jupyter-widgets/controls",
      "model_module_version": "1.4.0",
      "model_name": "HTMLModel",
      "state": {
       "layout": "IPY_MODEL_80a2cf995522427396e803d7a05a43f7",
       "style": "IPY_MODEL_585d25bd4a2c423cae580180eaaf70b9",
       "value": "<div style=\"padding: 0px 10px 0px 10px; text-align: right\">16 / 16</div>"
      }
     },
     "57a057ada1354bec8790aa53423237e5": {
      "model_module": "@jupyter-widgets/controls",
      "model_module_version": "1.4.0",
      "model_name": "HTMLModel",
      "state": {
       "layout": "IPY_MODEL_dc6bed53afd24e05a92831bd4ee04009",
       "style": "IPY_MODEL_c62f9c661fcf42ae95e0ab25a8562ddd",
       "value": "<div style=\"padding: 0px 10px 0px 10px; text-align:left; word-wrap: break-word;\">or_</div>"
      }
     },
     "57a0f07c55b44d819c5d5bd37ad36fed": {
      "model_module": "@jupyter-widgets/base",
      "model_module_version": "1.1.0",
      "model_name": "LayoutModel",
      "state": {}
     },
     "57fc4c6847ef41ff8d12b5ef3adee4a1": {
      "model_module": "@jupyter-widgets/controls",
      "model_module_version": "1.4.0",
      "model_name": "HTMLModel",
      "state": {
       "layout": "IPY_MODEL_57a0f07c55b44d819c5d5bd37ad36fed",
       "style": "IPY_MODEL_712b21509fb940c195203919b0bab3c6",
       "value": "<div style=\"padding: 0px 10px 0px 10px; text-align: right\">8028 / 8030</div>"
      }
     },
     "5814998ef84445238ad393e439b12dd6": {
      "model_module": "@jupyter-widgets/controls",
      "model_module_version": "1.4.0",
      "model_name": "DescriptionStyleModel",
      "state": {
       "description_width": ""
      }
     },
     "585d25bd4a2c423cae580180eaaf70b9": {
      "model_module": "@jupyter-widgets/controls",
      "model_module_version": "1.4.0",
      "model_name": "DescriptionStyleModel",
      "state": {
       "description_width": ""
      }
     },
     "5989ecca40d646c1a7dd00f884b37684": {
      "model_module": "@jupyter-widgets/base",
      "model_module_version": "1.1.0",
      "model_name": "LayoutModel",
      "state": {}
     },
     "59b247d424194e95b4840784a289920f": {
      "model_module": "@jupyter-widgets/controls",
      "model_module_version": "1.4.0",
      "model_name": "HTMLModel",
      "state": {
       "layout": "IPY_MODEL_2687b60359564d7f9e5a6bf5c7e4e096",
       "style": "IPY_MODEL_b0c529c52050426c82113493b67594b6",
       "value": "\n<div>\n  <style scoped>\n    .dataframe tbody tr th:only-of-type {\n        vertical-align: middle;\n    }\n\n    .dataframe tbody tr th {\n        vertical-align: top;\n    }\n\n    .dataframe thead th {\n        text-align: right;\n    }\n  </style>\n  <table style=\"text-align: right;\">\n    <tr><th>Workers</th> <td>10</td></tr>\n    <tr><th>Cores</th> <td>20</td></tr>\n    <tr><th>Memory</th> <td>60.00 GB</td></tr>\n  </table>\n</div>\n"
      }
     },
     "59d22060e8be469a80b038ef758f7189": {
      "model_module": "@jupyter-widgets/base",
      "model_module_version": "1.1.0",
      "model_name": "LayoutModel",
      "state": {}
     },
     "5add5bcadae843f18b687fb67f67edde": {
      "model_module": "@jupyter-widgets/controls",
      "model_module_version": "1.4.0",
      "model_name": "FloatProgressModel",
      "state": {
       "layout": "IPY_MODEL_8dc4717fdf3a499b9aa2a4598f12eb54",
       "max": 1,
       "style": "IPY_MODEL_d61a2ba2b5134e698455e3b5f40a952c",
       "value": 1
      }
     },
     "5af629bcc2214fafba53f060ce60705d": {
      "model_module": "@jupyter-widgets/base",
      "model_module_version": "1.1.0",
      "model_name": "LayoutModel",
      "state": {}
     },
     "5b04f3a0cdf84e969c42df26d194710c": {
      "model_module": "@jupyter-widgets/controls",
      "model_module_version": "1.4.0",
      "model_name": "HTMLModel",
      "state": {
       "layout": "IPY_MODEL_c320cfee32924544b3eab7a399f6fbf5",
       "style": "IPY_MODEL_0c01613680544a2babf78fd94aeb97a6",
       "value": "<div style=\"padding: 0px 10px 0px 10px; text-align:left; word-wrap: break-word;\">mean_agg-aggregate</div>"
      }
     },
     "5b08d457624847b5a92bde021534e207": {
      "model_module": "@jupyter-widgets/controls",
      "model_module_version": "1.4.0",
      "model_name": "FloatProgressModel",
      "state": {
       "layout": "IPY_MODEL_cb3ba7b8c763437eac1ea8ef5894679c",
       "max": 1,
       "style": "IPY_MODEL_fa1b07a198c44cceb347860cbbba8357",
       "value": 1
      }
     },
     "5b40fca8ca754105bb469def97d83564": {
      "model_module": "@jupyter-widgets/controls",
      "model_module_version": "1.4.0",
      "model_name": "ProgressStyleModel",
      "state": {
       "description_width": ""
      }
     },
     "5b57059363864c60bc0784e5b9d01d92": {
      "model_module": "@jupyter-widgets/controls",
      "model_module_version": "1.4.0",
      "model_name": "ProgressStyleModel",
      "state": {
       "description_width": ""
      }
     },
     "5cb94e7dbd594262bc2198c3651917a8": {
      "model_module": "@jupyter-widgets/controls",
      "model_module_version": "1.4.0",
      "model_name": "DescriptionStyleModel",
      "state": {
       "description_width": ""
      }
     },
     "5ce74de246ee4f9eb2154be15119b2b1": {
      "model_module": "@jupyter-widgets/controls",
      "model_module_version": "1.4.0",
      "model_name": "ProgressStyleModel",
      "state": {
       "description_width": ""
      }
     },
     "5ceb0cb50500407c9596e465586a9c2f": {
      "model_module": "@jupyter-widgets/controls",
      "model_module_version": "1.4.0",
      "model_name": "HBoxModel",
      "state": {
       "children": [
        "IPY_MODEL_1d93bc8d5a7248828af4af6a5204f2e1",
        "IPY_MODEL_44c1dcdbd0b14744bde9cacb0773896e"
       ],
       "layout": "IPY_MODEL_dc1d76f75fd441ef9e31cf5d9758a106"
      }
     },
     "5d1a448ba2024461a8e20d6a7d2c93df": {
      "model_module": "@jupyter-widgets/controls",
      "model_module_version": "1.4.0",
      "model_name": "HTMLModel",
      "state": {
       "layout": "IPY_MODEL_349331c0ba2a402294df8951010ffeb0",
       "style": "IPY_MODEL_c8c401a42e874dba9ccddfad4760780b",
       "value": "<div style=\"padding: 0px 10px 0px 10px; text-align: right\">352 / 352</div>"
      }
     },
     "5d34667ab343455dbd20dd7d7addad5b": {
      "model_module": "@jupyter-widgets/controls",
      "model_module_version": "1.4.0",
      "model_name": "HTMLModel",
      "state": {
       "layout": "IPY_MODEL_1c27a03b572d4ed4976638b2b8f524fb",
       "style": "IPY_MODEL_22ab5eb5fce743f7831a51a2ca002aec",
       "value": "<div style=\"padding: 0px 10px 0px 10px; text-align: right\">16 / 16</div>"
      }
     },
     "5d378281f66948acb22cc4a6a7b722e7": {
      "model_module": "@jupyter-widgets/base",
      "model_module_version": "1.1.0",
      "model_name": "LayoutModel",
      "state": {}
     },
     "5d4e63345eda405a821b75d898b7f599": {
      "model_module": "@jupyter-widgets/controls",
      "model_module_version": "1.4.0",
      "model_name": "ProgressStyleModel",
      "state": {
       "description_width": ""
      }
     },
     "5d5c6515ce274d9db31ef203f279953b": {
      "model_module": "@jupyter-widgets/controls",
      "model_module_version": "1.4.0",
      "model_name": "HTMLModel",
      "state": {
       "layout": "IPY_MODEL_2ece063168dd46c89482d003654cb27f",
       "style": "IPY_MODEL_9e1d85d1a0b54d178e789fa3a591b758",
       "value": "<div style=\"padding: 0px 10px 5px 10px\"><b>Finished:</b>  9.2s</div>"
      }
     },
     "5d7c090fab3c4793ad6b1fe128b1e934": {
      "model_module": "@jupyter-widgets/controls",
      "model_module_version": "1.4.0",
      "model_name": "DescriptionStyleModel",
      "state": {
       "description_width": ""
      }
     },
     "5e07070dce3a40f7b596ec33afdd00e3": {
      "model_module": "@jupyter-widgets/controls",
      "model_module_version": "1.4.0",
      "model_name": "HTMLModel",
      "state": {
       "layout": "IPY_MODEL_400e59f637544f34a819d9bad744db90",
       "style": "IPY_MODEL_75ef09e553b44c08b5d7c0633a13c6b3",
       "value": "<div style=\"padding: 0px 10px 0px 10px; text-align:left; word-wrap: break-word;\">open_rasterio-getitem</div>"
      }
     },
     "5e5b26dc62834332808a381d759fc829": {
      "model_module": "@jupyter-widgets/controls",
      "model_module_version": "1.4.0",
      "model_name": "HTMLModel",
      "state": {
       "layout": "IPY_MODEL_f84fb5e6cb944ff38ed73bfc8601fb28",
       "style": "IPY_MODEL_80d3d0962f5b4e3288e1e88a0f6bd301",
       "value": "<div style=\"padding: 0px 10px 0px 10px; text-align:left; word-wrap: break-word;\">getitem-truediv</div>"
      }
     },
     "5ebf51a7dfa148c09adc69a92bffde67": {
      "model_module": "@jupyter-widgets/controls",
      "model_module_version": "1.4.0",
      "model_name": "HTMLModel",
      "state": {
       "layout": "IPY_MODEL_34db47fc9abe481fb41500be077e126e",
       "style": "IPY_MODEL_88870a9f9f3a402e8f08efdc9e95cebe",
       "value": "<p><b>Dashboard: </b><a href=\"/user/rsignell-usgs/proxy/8787/status\" target=\"_blank\">/user/rsignell-usgs/proxy/8787/status</a></p>\n"
      }
     },
     "5f2a656aefc94a93b3fd0bc4c229eb37": {
      "model_module": "@jupyter-widgets/controls",
      "model_module_version": "1.4.0",
      "model_name": "ButtonStyleModel",
      "state": {}
     },
     "5f6e7e5dd02941d1862866aacf11f33d": {
      "model_module": "@jupyter-widgets/controls",
      "model_module_version": "1.4.0",
      "model_name": "HBoxModel",
      "state": {
       "children": [
        "IPY_MODEL_5d34667ab343455dbd20dd7d7addad5b",
        "IPY_MODEL_3b0e26a1858b43a08240f4d0d9714755",
        "IPY_MODEL_5e07070dce3a40f7b596ec33afdd00e3"
       ],
       "layout": "IPY_MODEL_9331bd5e93634c3c8f796a370b8fbef8"
      }
     },
     "5fd6dd68588e429487fce2897bea62ce": {
      "model_module": "@jupyter-widgets/controls",
      "model_module_version": "1.4.0",
      "model_name": "DescriptionStyleModel",
      "state": {
       "description_width": ""
      }
     },
     "600998f5f788481bac0486902e7a66b2": {
      "model_module": "@jupyter-widgets/controls",
      "model_module_version": "1.4.0",
      "model_name": "DescriptionStyleModel",
      "state": {
       "description_width": ""
      }
     },
     "603e81176aa3441195abf45f10657451": {
      "model_module": "@jupyter-widgets/controls",
      "model_module_version": "1.4.0",
      "model_name": "HTMLModel",
      "state": {
       "layout": "IPY_MODEL_65f5cc58ca4f46b7860c8570c2de9503",
       "style": "IPY_MODEL_b7fcce84596542ea81ed7f2e50f831aa",
       "value": "<div style=\"padding: 0px 10px 0px 10px; text-align:left; word-wrap: break-word;\">broadcast_to-where-transpose</div>"
      }
     },
     "605882feb27f47c39e5f9099b2a2478b": {
      "model_module": "@jupyter-widgets/base",
      "model_module_version": "1.1.0",
      "model_name": "LayoutModel",
      "state": {}
     },
     "617607880f94482aa6585d7c9e4f3d6e": {
      "model_module": "@jupyter-widgets/base",
      "model_module_version": "1.1.0",
      "model_name": "LayoutModel",
      "state": {}
     },
     "61db205ba51543829fe91b3b231f238c": {
      "model_module": "@jupyter-widgets/base",
      "model_module_version": "1.1.0",
      "model_name": "LayoutModel",
      "state": {}
     },
     "61f8856a18d348dab683893cf95b6629": {
      "model_module": "@jupyter-widgets/base",
      "model_module_version": "1.1.0",
      "model_name": "LayoutModel",
      "state": {}
     },
     "621aa21face3478ca844ccda8da6a284": {
      "model_module": "@jupyter-widgets/controls",
      "model_module_version": "1.4.0",
      "model_name": "HTMLModel",
      "state": {
       "layout": "IPY_MODEL_b97d38caf56a49088ad680d596f0e87b",
       "style": "IPY_MODEL_45e6fe12fbbe437ca18408ec3c86096b",
       "value": "<div style=\"padding: 0px 10px 0px 10px; text-align:left; word-wrap: break-word;\">broadcast_to-where-transpose</div>"
      }
     },
     "62687677e3a84041a7c9fd54c5dfa93a": {
      "model_module": "@jupyter-widgets/base",
      "model_module_version": "1.1.0",
      "model_name": "LayoutModel",
      "state": {}
     },
     "62f4254fb3c846078ad15d283788fd7f": {
      "model_module": "@jupyter-widgets/base",
      "model_module_version": "1.1.0",
      "model_name": "LayoutModel",
      "state": {}
     },
     "62fcc9943ad64308ae82c8a4da21f1a6": {
      "model_module": "@jupyter-widgets/base",
      "model_module_version": "1.1.0",
      "model_name": "LayoutModel",
      "state": {}
     },
     "6355d7ff1bc84aeeb54d40d10f615fba": {
      "model_module": "@jupyter-widgets/base",
      "model_module_version": "1.1.0",
      "model_name": "LayoutModel",
      "state": {}
     },
     "638e107e6c6c49758c073fc60e5951c1": {
      "model_module": "@jupyter-widgets/base",
      "model_module_version": "1.1.0",
      "model_name": "LayoutModel",
      "state": {}
     },
     "639cd5b725b44afcb93f6ec67489fb35": {
      "model_module": "@jupyter-widgets/base",
      "model_module_version": "1.1.0",
      "model_name": "LayoutModel",
      "state": {}
     },
     "63a2a9c7797c45a6bde75b4796daaaf9": {
      "model_module": "@jupyter-widgets/controls",
      "model_module_version": "1.4.0",
      "model_name": "ProgressStyleModel",
      "state": {
       "description_width": ""
      }
     },
     "63edb8a398214748bd8ad49ebb5423ae": {
      "model_module": "@jupyter-widgets/base",
      "model_module_version": "1.1.0",
      "model_name": "LayoutModel",
      "state": {}
     },
     "647bd6d297d6414bb56483b325fcf6dd": {
      "model_module": "@jupyter-widgets/controls",
      "model_module_version": "1.4.0",
      "model_name": "HTMLModel",
      "state": {
       "layout": "IPY_MODEL_9bb5d58dc1cb428b9a1112a40382b3f8",
       "style": "IPY_MODEL_fe4a200a888b425c8b16807b9b556d25",
       "value": "<div style=\"padding: 0px 10px 0px 10px; text-align: right\">352 / 352</div>"
      }
     },
     "6498d107c6dc4aee880a1d767ebb4147": {
      "model_module": "@jupyter-widgets/controls",
      "model_module_version": "1.4.0",
      "model_name": "HBoxModel",
      "state": {
       "children": [
        "IPY_MODEL_48cc13064c094353a92a1a9fd1b411a0",
        "IPY_MODEL_ac2aa4af921748979a85d026f2f5a701",
        "IPY_MODEL_df0269a85e17483aa72be4f8985b6323"
       ],
       "layout": "IPY_MODEL_d3cd953276764a5fa48eaa118098e54f"
      }
     },
     "64f7ff0810e7430e85a4d53760481342": {
      "model_module": "@jupyter-widgets/controls",
      "model_module_version": "1.4.0",
      "model_name": "DescriptionStyleModel",
      "state": {
       "description_width": ""
      }
     },
     "650d449e910b4ceca32d3cc1404ef314": {
      "model_module": "@jupyter-widgets/controls",
      "model_module_version": "1.4.0",
      "model_name": "DescriptionStyleModel",
      "state": {
       "description_width": ""
      }
     },
     "65b890688e9b4da08cf38eef3fd5d5c5": {
      "model_module": "@jupyter-widgets/controls",
      "model_module_version": "1.4.0",
      "model_name": "DescriptionStyleModel",
      "state": {
       "description_width": ""
      }
     },
     "65debd9aad3f45379f853d1568e522f1": {
      "model_module": "@jupyter-widgets/controls",
      "model_module_version": "1.4.0",
      "model_name": "HTMLModel",
      "state": {
       "layout": "IPY_MODEL_03087e7a900341f5aad8385622b62a7e",
       "style": "IPY_MODEL_935f3c646c3443d6b6f6c00d8f79a648",
       "value": "<div style=\"padding: 0px 10px 0px 10px; text-align:left; word-wrap: break-word;\">add</div>"
      }
     },
     "65f5cc58ca4f46b7860c8570c2de9503": {
      "model_module": "@jupyter-widgets/base",
      "model_module_version": "1.1.0",
      "model_name": "LayoutModel",
      "state": {}
     },
     "665d0fbd064147c582ad20723722aa2e": {
      "model_module": "@jupyter-widgets/base",
      "model_module_version": "1.1.0",
      "model_name": "LayoutModel",
      "state": {}
     },
     "6744a5735b514a1b87c7c4446141c56d": {
      "model_module": "@jupyter-widgets/controls",
      "model_module_version": "1.4.0",
      "model_name": "DescriptionStyleModel",
      "state": {
       "description_width": ""
      }
     },
     "676dd783cbe14af78f30a72def95c66f": {
      "model_module": "@jupyter-widgets/controls",
      "model_module_version": "1.4.0",
      "model_name": "ProgressStyleModel",
      "state": {
       "description_width": ""
      }
     },
     "67931982e44a4a70b9dd17ba1c029b5b": {
      "model_module": "@jupyter-widgets/base",
      "model_module_version": "1.1.0",
      "model_name": "LayoutModel",
      "state": {}
     },
     "67b74b89dbc648c3895b29ae660544b8": {
      "model_module": "@jupyter-widgets/base",
      "model_module_version": "1.1.0",
      "model_name": "LayoutModel",
      "state": {}
     },
     "6809dd7f4f9e464281d2454699afce33": {
      "model_module": "@jupyter-widgets/controls",
      "model_module_version": "1.4.0",
      "model_name": "HTMLModel",
      "state": {
       "layout": "IPY_MODEL_72914f23eb174e4bb1b0dbe8e8060132",
       "style": "IPY_MODEL_4a612a33e4174442858025978e2b21ae",
       "value": "<div style=\"padding: 0px 10px 0px 10px; text-align: right\">1 / 1</div>"
      }
     },
     "6842d7aca31f4234810b2d9d74567ed5": {
      "model_module": "@jupyter-widgets/controls",
      "model_module_version": "1.4.0",
      "model_name": "IntTextModel",
      "state": {
       "description": "Workers",
       "layout": "IPY_MODEL_b5a4a996d3d74b5899192ab335547e0d",
       "step": 1,
       "style": "IPY_MODEL_a2f9c95c0b8b487e8fd352c3b0264aff"
      }
     },
     "6850b629b37f45089975f2a55c38e97f": {
      "model_module": "@jupyter-widgets/controls",
      "model_module_version": "1.4.0",
      "model_name": "ProgressStyleModel",
      "state": {
       "description_width": ""
      }
     },
     "68bc72a3731641ef87ab410867390e77": {
      "model_module": "@jupyter-widgets/controls",
      "model_module_version": "1.4.0",
      "model_name": "ProgressStyleModel",
      "state": {
       "description_width": ""
      }
     },
     "68eba85768744a3590edd6edb6b5c4e6": {
      "model_module": "@jupyter-widgets/controls",
      "model_module_version": "1.4.0",
      "model_name": "FloatProgressModel",
      "state": {
       "layout": "IPY_MODEL_9f8a249f7b1747b2a5a133592c580891",
       "max": 1,
       "style": "IPY_MODEL_0da437109f80476babcc14aedec27679",
       "value": 1
      }
     },
     "6a52b48b213544f7ad5e518db6fe22e5": {
      "model_module": "@jupyter-widgets/controls",
      "model_module_version": "1.4.0",
      "model_name": "HTMLModel",
      "state": {
       "layout": "IPY_MODEL_30cb8f58e44440db965328585efe2358",
       "style": "IPY_MODEL_6ccc8e1b8d8148f6bb19c408b7a78c58",
       "value": "<div style=\"padding: 0px 10px 0px 10px; text-align: right\">56 / 56</div>"
      }
     },
     "6abc5afc278845f98e491068cb74c254": {
      "model_module": "@jupyter-widgets/base",
      "model_module_version": "1.1.0",
      "model_name": "LayoutModel",
      "state": {}
     },
     "6b401450131545a6b6b79d5e6d3f3c9b": {
      "model_module": "@jupyter-widgets/controls",
      "model_module_version": "1.4.0",
      "model_name": "HTMLModel",
      "state": {
       "layout": "IPY_MODEL_7362e172faa84c56bef2d8c4a13b0243",
       "style": "IPY_MODEL_086707bfadf74309ad5958cba1746ff5",
       "value": "<div style=\"padding: 0px 10px 0px 10px; text-align:left; word-wrap: break-word;\">array-original</div>"
      }
     },
     "6b4a7ba042df4c4e87e549b376370817": {
      "model_module": "@jupyter-widgets/base",
      "model_module_version": "1.1.0",
      "model_name": "LayoutModel",
      "state": {}
     },
     "6b7733f2d6df4f8086a5c7263d0a8671": {
      "model_module": "@jupyter-widgets/controls",
      "model_module_version": "1.4.0",
      "model_name": "DescriptionStyleModel",
      "state": {
       "description_width": ""
      }
     },
     "6b79e4c3469f43a690d2618005169b7b": {
      "model_module": "@jupyter-widgets/base",
      "model_module_version": "1.1.0",
      "model_name": "LayoutModel",
      "state": {}
     },
     "6bac2be4b314470289846e692a6090b0": {
      "model_module": "@jupyter-widgets/controls",
      "model_module_version": "1.4.0",
      "model_name": "HTMLModel",
      "state": {
       "layout": "IPY_MODEL_70215c8b51a2442780be37a8e192698e",
       "style": "IPY_MODEL_19e3dc60ef964886972863b2c86b7a60",
       "value": "<div style=\"padding: 0px 10px 0px 10px; text-align:left; word-wrap: break-word;\">transpose</div>"
      }
     },
     "6be25138fd6a43d5acced139b5541336": {
      "model_module": "@jupyter-widgets/controls",
      "model_module_version": "1.4.0",
      "model_name": "HTMLModel",
      "state": {
       "layout": "IPY_MODEL_7e98cc8253fd4d70a8373e6527a74bbb",
       "style": "IPY_MODEL_d62ad17a14ad4525a92b43a4ce792fd0",
       "value": "<div style=\"padding: 0px 10px 0px 10px; text-align:left; word-wrap: break-word;\">astype</div>"
      }
     },
     "6be92a85ea664ca2892dfac61e7ab680": {
      "model_module": "@jupyter-widgets/controls",
      "model_module_version": "1.4.0",
      "model_name": "ProgressStyleModel",
      "state": {
       "description_width": ""
      }
     },
     "6c0212bd340a47ca8228d9944eccbd66": {
      "model_module": "@jupyter-widgets/base",
      "model_module_version": "1.1.0",
      "model_name": "LayoutModel",
      "state": {}
     },
     "6c1fcb95f6964fc68bcf7d45213bce3d": {
      "model_module": "@jupyter-widgets/base",
      "model_module_version": "1.1.0",
      "model_name": "LayoutModel",
      "state": {}
     },
     "6c85882e5f9e4790bd2c19ab1eb76731": {
      "model_module": "@jupyter-widgets/controls",
      "model_module_version": "1.4.0",
      "model_name": "ProgressStyleModel",
      "state": {
       "description_width": ""
      }
     },
     "6c88ba03fb7f4c9f825e4b2981b05645": {
      "model_module": "@jupyter-widgets/base",
      "model_module_version": "1.1.0",
      "model_name": "LayoutModel",
      "state": {}
     },
     "6c97540c31d64fac8d02d9cdc42ab6b3": {
      "model_module": "@jupyter-widgets/controls",
      "model_module_version": "1.4.0",
      "model_name": "HBoxModel",
      "state": {
       "children": [
        "IPY_MODEL_4d5eca1470d14c73942e14cb990fb5b3",
        "IPY_MODEL_c2ca16d18d134374a3481c7f90da0bb4",
        "IPY_MODEL_e081827ad58a4171ba5c40e25ab145dc"
       ],
       "layout": "IPY_MODEL_827e38bff67c4b5f86ffe9821c14f5fe"
      }
     },
     "6ccc8e1b8d8148f6bb19c408b7a78c58": {
      "model_module": "@jupyter-widgets/controls",
      "model_module_version": "1.4.0",
      "model_name": "DescriptionStyleModel",
      "state": {
       "description_width": ""
      }
     },
     "6cf4732a9560484d849b155454a60354": {
      "model_module": "@jupyter-widgets/base",
      "model_module_version": "1.1.0",
      "model_name": "LayoutModel",
      "state": {}
     },
     "6d5381eb1a07487ea30a69ef8cb46125": {
      "model_module": "@jupyter-widgets/base",
      "model_module_version": "1.1.0",
      "model_name": "LayoutModel",
      "state": {}
     },
     "6dfc526043ac4043bcdfcb394f08037c": {
      "model_module": "@jupyter-widgets/base",
      "model_module_version": "1.1.0",
      "model_name": "LayoutModel",
      "state": {}
     },
     "6dfd26fb32f445e29364e6b1eb9a5d27": {
      "model_module": "@jupyter-widgets/controls",
      "model_module_version": "1.4.0",
      "model_name": "FloatProgressModel",
      "state": {
       "bar_style": "success",
       "layout": "IPY_MODEL_7c9fd461c0254ec595cee59fd5df2ae4",
       "max": 1,
       "style": "IPY_MODEL_8060cdee66aa4bbaac01c4917eb625f1",
       "value": 1
      }
     },
     "6e215ea12e2945129cc7f738c15c280a": {
      "model_module": "@jupyter-widgets/controls",
      "model_module_version": "1.4.0",
      "model_name": "DescriptionStyleModel",
      "state": {
       "description_width": ""
      }
     },
     "6e64dc12684748e2894777d8eab30bf8": {
      "model_module": "@jupyter-widgets/controls",
      "model_module_version": "1.4.0",
      "model_name": "ProgressStyleModel",
      "state": {
       "description_width": ""
      }
     },
     "6e7d2df9ff224a7ebb5968228adefcf1": {
      "model_module": "@jupyter-widgets/controls",
      "model_module_version": "1.4.0",
      "model_name": "DescriptionStyleModel",
      "state": {
       "description_width": ""
      }
     },
     "6edf41d33603425eb7c26bb568367705": {
      "model_module": "@jupyter-widgets/controls",
      "model_module_version": "1.4.0",
      "model_name": "HBoxModel",
      "state": {
       "children": [
        "IPY_MODEL_fba7954ea812407a8371fad339dca10d",
        "IPY_MODEL_22d6e8c7644b4069a2be746074c6ca37"
       ],
       "layout": "IPY_MODEL_715d7a6c18344454a99def07a8e78711"
      }
     },
     "6f3e1c0a8a8546ea910d7ce93b2e71fb": {
      "model_module": "@jupyter-widgets/base",
      "model_module_version": "1.1.0",
      "model_name": "LayoutModel",
      "state": {}
     },
     "6f54f1cd2b1d4e5e8ecb05dec783a831": {
      "model_module": "@jupyter-widgets/controls",
      "model_module_version": "1.4.0",
      "model_name": "ButtonModel",
      "state": {
       "description": "Scale",
       "layout": "IPY_MODEL_984160076ca640df90d87deecb24e84b",
       "style": "IPY_MODEL_c46351fd22b1498f8cb024358ce20e3f"
      }
     },
     "6f6e3acbce234733abf06e77063ad54e": {
      "model_module": "@jupyter-widgets/controls",
      "model_module_version": "1.4.0",
      "model_name": "FloatProgressModel",
      "state": {
       "bar_style": "success",
       "layout": "IPY_MODEL_b1542fa304e14a3e9c84953fd9a12e45",
       "max": 1,
       "style": "IPY_MODEL_4766dbb00c0a4e5081248383850311dc",
       "value": 1
      }
     },
     "6fc42f6aeb6a4d088d2755bcc68ae68d": {
      "model_module": "@jupyter-widgets/base",
      "model_module_version": "1.1.0",
      "model_name": "LayoutModel",
      "state": {}
     },
     "6fd303af2ffb4ef1afc4da158de887a5": {
      "model_module": "@jupyter-widgets/base",
      "model_module_version": "1.1.0",
      "model_name": "LayoutModel",
      "state": {}
     },
     "6fec718c8b444d3b831132f27535ef6e": {
      "model_module": "@jupyter-widgets/controls",
      "model_module_version": "1.4.0",
      "model_name": "HTMLModel",
      "state": {
       "layout": "IPY_MODEL_987c58b83bf44b01b36719777a38d88a",
       "style": "IPY_MODEL_4adcdce622ec4c3cb2916909fec168bc",
       "value": "<div style=\"padding: 0px 10px 0px 10px; text-align:left; word-wrap: break-word;\">rechunk-merge-rechunk-split-concatenate</div>"
      }
     },
     "70215c8b51a2442780be37a8e192698e": {
      "model_module": "@jupyter-widgets/base",
      "model_module_version": "1.1.0",
      "model_name": "LayoutModel",
      "state": {}
     },
     "702b187a52d04e34a4e6d42cceac327d": {
      "model_module": "@jupyter-widgets/controls",
      "model_module_version": "1.4.0",
      "model_name": "DescriptionStyleModel",
      "state": {
       "description_width": ""
      }
     },
     "704a25a2b200442d8b7fd50e5146e628": {
      "model_module": "@jupyter-widgets/controls",
      "model_module_version": "1.4.0",
      "model_name": "HTMLModel",
      "state": {
       "layout": "IPY_MODEL_638e107e6c6c49758c073fc60e5951c1",
       "style": "IPY_MODEL_702b187a52d04e34a4e6d42cceac327d",
       "value": "<div style=\"padding: 0px 10px 0px 10px; text-align: right\">16 / 16</div>"
      }
     },
     "7067526467cc4b91984cc30eb76b448c": {
      "model_module": "@jupyter-widgets/base",
      "model_module_version": "1.1.0",
      "model_name": "LayoutModel",
      "state": {}
     },
     "70bd92253ec9411793796e97a72aa85f": {
      "model_module": "@jupyter-widgets/base",
      "model_module_version": "1.1.0",
      "model_name": "LayoutModel",
      "state": {}
     },
     "712b21509fb940c195203919b0bab3c6": {
      "model_module": "@jupyter-widgets/controls",
      "model_module_version": "1.4.0",
      "model_name": "DescriptionStyleModel",
      "state": {
       "description_width": ""
      }
     },
     "712d3e2448d24a768252c47a61f5b0b5": {
      "model_module": "@jupyter-widgets/base",
      "model_module_version": "1.1.0",
      "model_name": "LayoutModel",
      "state": {}
     },
     "7145308fdab44ff899ae9ed2ab51eda3": {
      "model_module": "@jupyter-widgets/base",
      "model_module_version": "1.1.0",
      "model_name": "LayoutModel",
      "state": {}
     },
     "715d7a6c18344454a99def07a8e78711": {
      "model_module": "@jupyter-widgets/base",
      "model_module_version": "1.1.0",
      "model_name": "LayoutModel",
      "state": {}
     },
     "7177ce0a74b84328a3229da46669e4fe": {
      "model_module": "@jupyter-widgets/base",
      "model_module_version": "1.1.0",
      "model_name": "LayoutModel",
      "state": {}
     },
     "718d3702aa854772a11d8a8044d1bb2d": {
      "model_module": "@jupyter-widgets/base",
      "model_module_version": "1.1.0",
      "model_name": "LayoutModel",
      "state": {}
     },
     "72703a1a341f4a4694e82445f1c0359f": {
      "model_module": "@jupyter-widgets/base",
      "model_module_version": "1.1.0",
      "model_name": "LayoutModel",
      "state": {}
     },
     "72914f23eb174e4bb1b0dbe8e8060132": {
      "model_module": "@jupyter-widgets/base",
      "model_module_version": "1.1.0",
      "model_name": "LayoutModel",
      "state": {}
     },
     "72aa80b8e3f845d586a62c3102e08892": {
      "model_module": "@jupyter-widgets/controls",
      "model_module_version": "1.4.0",
      "model_name": "HBoxModel",
      "state": {
       "children": [
        "IPY_MODEL_118a830632d04dc8a72771427278672d",
        "IPY_MODEL_c4ea26740c3a4e22811cb7c2eec74af3",
        "IPY_MODEL_7a9666f633d0440daa180917e90ee3c7"
       ],
       "layout": "IPY_MODEL_b27bc4a51cde48cfa948ba40cfdba664"
      }
     },
     "7362e172faa84c56bef2d8c4a13b0243": {
      "model_module": "@jupyter-widgets/base",
      "model_module_version": "1.1.0",
      "model_name": "LayoutModel",
      "state": {}
     },
     "73b688de2b0e48b1866c7f5297b27cba": {
      "model_module": "@jupyter-widgets/controls",
      "model_module_version": "1.4.0",
      "model_name": "HTMLModel",
      "state": {
       "layout": "IPY_MODEL_87d080b5533a4e158f27db28a9c94cb2",
       "style": "IPY_MODEL_e532a5970e254b8f9ac28ab4590a5ef0",
       "value": "<div style=\"padding: 0px 10px 0px 10px; text-align:left; word-wrap: break-word;\">mean_combine-partial</div>"
      }
     },
     "73c8b7917b164c79b33210882f306ec4": {
      "model_module": "@jupyter-widgets/base",
      "model_module_version": "1.1.0",
      "model_name": "LayoutModel",
      "state": {}
     },
     "73f9792f00d3450da16c48b14ccd37c3": {
      "model_module": "@jupyter-widgets/base",
      "model_module_version": "1.1.0",
      "model_name": "LayoutModel",
      "state": {}
     },
     "743a5336eb3e4380a679bc14cde5ffb9": {
      "model_module": "@jupyter-widgets/controls",
      "model_module_version": "1.4.0",
      "model_name": "DescriptionStyleModel",
      "state": {
       "description_width": ""
      }
     },
     "7453b4c1cb0a4ad18f34e44791a41d71": {
      "model_module": "@jupyter-widgets/controls",
      "model_module_version": "1.4.0",
      "model_name": "DescriptionStyleModel",
      "state": {
       "description_width": ""
      }
     },
     "74f696ce77f24549bb2662ee45d1c957": {
      "model_module": "@jupyter-widgets/controls",
      "model_module_version": "1.4.0",
      "model_name": "DescriptionStyleModel",
      "state": {
       "description_width": ""
      }
     },
     "750ac7d95f3e4417b139568bb34711c2": {
      "model_module": "@jupyter-widgets/controls",
      "model_module_version": "1.4.0",
      "model_name": "DescriptionStyleModel",
      "state": {
       "description_width": ""
      }
     },
     "7563d8f240384a4482eaf9757a4356cc": {
      "model_module": "@jupyter-widgets/controls",
      "model_module_version": "1.4.0",
      "model_name": "HBoxModel",
      "state": {
       "children": [
        "IPY_MODEL_862dffa5c8ae4240b5daf53c98657963",
        "IPY_MODEL_bf48ff664ca94f46a5e707f8adb12b7f",
        "IPY_MODEL_ed95324e475349daad6b06e7b46d9f27"
       ],
       "layout": "IPY_MODEL_718d3702aa854772a11d8a8044d1bb2d"
      }
     },
     "7570aa0541014c4e942115eeeb041e98": {
      "model_module": "@jupyter-widgets/base",
      "model_module_version": "1.1.0",
      "model_name": "LayoutModel",
      "state": {}
     },
     "75bc1c636fbe4480bc200d06c539e019": {
      "model_module": "@jupyter-widgets/controls",
      "model_module_version": "1.4.0",
      "model_name": "HTMLModel",
      "state": {
       "layout": "IPY_MODEL_204e2376081d4087ae1353db835e8e9f",
       "style": "IPY_MODEL_25e8666730ff4551a6b463357f41d9e3",
       "value": "<div style=\"padding: 0px 10px 0px 10px; text-align: right\">16 / 16</div>"
      }
     },
     "75c55eccf9704bce9b7d45c08b7ae2b3": {
      "model_module": "@jupyter-widgets/controls",
      "model_module_version": "1.4.0",
      "model_name": "ProgressStyleModel",
      "state": {
       "description_width": ""
      }
     },
     "75ef09e553b44c08b5d7c0633a13c6b3": {
      "model_module": "@jupyter-widgets/controls",
      "model_module_version": "1.4.0",
      "model_name": "DescriptionStyleModel",
      "state": {
       "description_width": ""
      }
     },
     "75f9bea63c524289ace2a4e09686b079": {
      "model_module": "@jupyter-widgets/controls",
      "model_module_version": "1.4.0",
      "model_name": "DescriptionStyleModel",
      "state": {
       "description_width": ""
      }
     },
     "76c043d9ecc540f9b5946d78983ff449": {
      "model_module": "@jupyter-widgets/controls",
      "model_module_version": "1.4.0",
      "model_name": "IntTextModel",
      "state": {
       "description": "Maximum",
       "layout": "IPY_MODEL_984160076ca640df90d87deecb24e84b",
       "step": 1,
       "style": "IPY_MODEL_c26f7f7a701e4f12a2493914593e1b06"
      }
     },
     "76fd3c9185cc4709aab12740a559e6c0": {
      "model_module": "@jupyter-widgets/controls",
      "model_module_version": "1.4.0",
      "model_name": "ProgressStyleModel",
      "state": {
       "description_width": ""
      }
     },
     "7718e0b97d75490aaec6d696e6d7a028": {
      "model_module": "@jupyter-widgets/controls",
      "model_module_version": "1.4.0",
      "model_name": "HBoxModel",
      "state": {
       "children": [
        "IPY_MODEL_704a25a2b200442d8b7fd50e5146e628",
        "IPY_MODEL_4767ba34530943bd851dd1d61c25e83e",
        "IPY_MODEL_390a1d037a9e46dabcbf4add66953d17"
       ],
       "layout": "IPY_MODEL_6d5381eb1a07487ea30a69ef8cb46125"
      }
     },
     "77891d16ddb24891a5e98459c017d37b": {
      "model_module": "@jupyter-widgets/controls",
      "model_module_version": "1.4.0",
      "model_name": "FloatProgressModel",
      "state": {
       "layout": "IPY_MODEL_b94e790a40d240f39eca675f457b312c",
       "max": 1,
       "style": "IPY_MODEL_455c7ecbc7bc4a39ba07982de6bf6ee3",
       "value": 1
      }
     },
     "779bc324fe9f49c8ad5f368c9ab822e2": {
      "model_module": "@jupyter-widgets/base",
      "model_module_version": "1.1.0",
      "model_name": "LayoutModel",
      "state": {}
     },
     "77b4d833956646ee9ad411a4149c23e6": {
      "model_module": "@jupyter-widgets/controls",
      "model_module_version": "1.4.0",
      "model_name": "HTMLModel",
      "state": {
       "layout": "IPY_MODEL_d7aa6f5d147d4930a8bc48ed8b37cb78",
       "style": "IPY_MODEL_38b8d0840d53481c8ef3f52691ff6d97",
       "value": "<div style=\"padding: 0px 10px 0px 10px; text-align: right\">56 / 56</div>"
      }
     },
     "782f1fb4e10541a280748ea776695613": {
      "model_module": "@jupyter-widgets/base",
      "model_module_version": "1.1.0",
      "model_name": "LayoutModel",
      "state": {}
     },
     "784b6bf133bd49cc9c6d782697d4be15": {
      "model_module": "@jupyter-widgets/controls",
      "model_module_version": "1.4.0",
      "model_name": "DescriptionStyleModel",
      "state": {
       "description_width": ""
      }
     },
     "789ca29f4afc4c0bb0f6b38002cce4ee": {
      "model_module": "@jupyter-widgets/controls",
      "model_module_version": "1.4.0",
      "model_name": "FloatProgressModel",
      "state": {
       "layout": "IPY_MODEL_fd108654db9143d8b8dee4f19d839093",
       "max": 1,
       "style": "IPY_MODEL_6c85882e5f9e4790bd2c19ab1eb76731",
       "value": 1
      }
     },
     "78b4ccb5b0ef4805937292cb42b94afc": {
      "model_module": "@jupyter-widgets/controls",
      "model_module_version": "1.4.0",
      "model_name": "ProgressStyleModel",
      "state": {
       "description_width": ""
      }
     },
     "78da7ca3483e4c37991d5511f26ece04": {
      "model_module": "@jupyter-widgets/controls",
      "model_module_version": "1.4.0",
      "model_name": "HTMLModel",
      "state": {
       "layout": "IPY_MODEL_b94518c460f84d4287237f9cb3dc7844",
       "style": "IPY_MODEL_e82ea0fee15e4473b8f8aecdbb5e7056",
       "value": "<div style=\"padding: 0px 10px 0px 10px; text-align: right\">352 / 352</div>"
      }
     },
     "78f0cbf9d1bb46fe8ae0171127841910": {
      "model_module": "@jupyter-widgets/controls",
      "model_module_version": "1.4.0",
      "model_name": "DescriptionStyleModel",
      "state": {
       "description_width": ""
      }
     },
     "793ea9a920e243259be6aa94c1050cfb": {
      "model_module": "@jupyter-widgets/controls",
      "model_module_version": "1.4.0",
      "model_name": "ButtonStyleModel",
      "state": {}
     },
     "79a7e16fb9ab47dea1e5a04c1ca4101e": {
      "model_module": "@jupyter-widgets/controls",
      "model_module_version": "1.4.0",
      "model_name": "FloatProgressModel",
      "state": {
       "layout": "IPY_MODEL_2355099e046941b0b46ca57d3e231956",
       "max": 1,
       "style": "IPY_MODEL_527eee87a895493a9dd0431c38453202",
       "value": 1
      }
     },
     "79d2938e0bd84b41babee0a879cde7f8": {
      "model_module": "@jupyter-widgets/base",
      "model_module_version": "1.1.0",
      "model_name": "LayoutModel",
      "state": {}
     },
     "7a449c2c44fa4dd88cb862b7d1e15a99": {
      "model_module": "@jupyter-widgets/controls",
      "model_module_version": "1.4.0",
      "model_name": "DescriptionStyleModel",
      "state": {
       "description_width": ""
      }
     },
     "7a871242f4f349aab39f181a62ed5146": {
      "model_module": "@jupyter-widgets/controls",
      "model_module_version": "1.4.0",
      "model_name": "DescriptionStyleModel",
      "state": {
       "description_width": ""
      }
     },
     "7a9666f633d0440daa180917e90ee3c7": {
      "model_module": "@jupyter-widgets/controls",
      "model_module_version": "1.4.0",
      "model_name": "HTMLModel",
      "state": {
       "layout": "IPY_MODEL_c758be34ccd741e596de6ba6da3e2877",
       "style": "IPY_MODEL_b3b8e55481d44dfa8bc81b506c6d3ddf",
       "value": "<div style=\"padding: 0px 10px 0px 10px; text-align:left; word-wrap: break-word;\">open_rasterio-getitem</div>"
      }
     },
     "7ae041b2e1164162b2a3ce6c165a5de7": {
      "model_module": "@jupyter-widgets/base",
      "model_module_version": "1.1.0",
      "model_name": "LayoutModel",
      "state": {}
     },
     "7b42646aeec34a19a6ba898d1d574e7a": {
      "model_module": "@jupyter-widgets/base",
      "model_module_version": "1.1.0",
      "model_name": "LayoutModel",
      "state": {}
     },
     "7badb8e7444a41c39bd90ad1b891d3df": {
      "model_module": "@jupyter-widgets/controls",
      "model_module_version": "1.4.0",
      "model_name": "ProgressStyleModel",
      "state": {
       "description_width": ""
      }
     },
     "7bd08339900d4d26ac3fcf08620c07d4": {
      "model_module": "@jupyter-widgets/controls",
      "model_module_version": "1.4.0",
      "model_name": "DescriptionStyleModel",
      "state": {
       "description_width": ""
      }
     },
     "7c1b0a2fef85476d983a5d957e0a072e": {
      "model_module": "@jupyter-widgets/controls",
      "model_module_version": "1.4.0",
      "model_name": "DescriptionStyleModel",
      "state": {
       "description_width": ""
      }
     },
     "7c242429b33a488db2c1425d7c93c822": {
      "model_module": "@jupyter-widgets/base",
      "model_module_version": "1.1.0",
      "model_name": "LayoutModel",
      "state": {}
     },
     "7c301fc9db924f1e8c7d6baf8af11c82": {
      "model_module": "@jupyter-widgets/controls",
      "model_module_version": "1.4.0",
      "model_name": "DescriptionStyleModel",
      "state": {
       "description_width": ""
      }
     },
     "7c9bff6ab5ad4faa9c06991c2269a2bb": {
      "model_module": "@jupyter-widgets/controls",
      "model_module_version": "1.4.0",
      "model_name": "HTMLModel",
      "state": {
       "layout": "IPY_MODEL_2d68ab94254c47dda963ec6280ba6ff3",
       "style": "IPY_MODEL_9dea889e5d6a4d5eb9e831ee9e4377f7",
       "value": "<div style=\"padding: 0px 10px 0px 10px; text-align:left; word-wrap: break-word;\">open_rasterio</div>"
      }
     },
     "7c9fd461c0254ec595cee59fd5df2ae4": {
      "model_module": "@jupyter-widgets/base",
      "model_module_version": "1.1.0",
      "model_name": "LayoutModel",
      "state": {}
     },
     "7d2ac88c5a0c4dab94892748921bc4df": {
      "model_module": "@jupyter-widgets/controls",
      "model_module_version": "1.4.0",
      "model_name": "ProgressStyleModel",
      "state": {
       "description_width": ""
      }
     },
     "7d623eed696443798ced9fec2eb3a8ff": {
      "model_module": "@jupyter-widgets/controls",
      "model_module_version": "1.4.0",
      "model_name": "DescriptionStyleModel",
      "state": {
       "description_width": ""
      }
     },
     "7d9022cb6f314728a97f03a4c6d5de20": {
      "model_module": "@jupyter-widgets/base",
      "model_module_version": "1.1.0",
      "model_name": "LayoutModel",
      "state": {}
     },
     "7e3b100d7e6f497aa0f2859898b74e65": {
      "model_module": "@jupyter-widgets/controls",
      "model_module_version": "1.4.0",
      "model_name": "ProgressStyleModel",
      "state": {
       "description_width": ""
      }
     },
     "7e7badf74cbb4651999d0f7b0f82db63": {
      "model_module": "@jupyter-widgets/base",
      "model_module_version": "1.1.0",
      "model_name": "LayoutModel",
      "state": {}
     },
     "7e7fa5e026694846bb66896ed6ec2421": {
      "model_module": "@jupyter-widgets/controls",
      "model_module_version": "1.4.0",
      "model_name": "ProgressStyleModel",
      "state": {
       "description_width": ""
      }
     },
     "7e98cc8253fd4d70a8373e6527a74bbb": {
      "model_module": "@jupyter-widgets/base",
      "model_module_version": "1.1.0",
      "model_name": "LayoutModel",
      "state": {}
     },
     "7f0f969f21fa41879c222dfecf5a04ad": {
      "model_module": "@jupyter-widgets/controls",
      "model_module_version": "1.4.0",
      "model_name": "DescriptionStyleModel",
      "state": {
       "description_width": ""
      }
     },
     "7f63982cdba24b79aa743a6c9708a98c": {
      "model_module": "@jupyter-widgets/base",
      "model_module_version": "1.1.0",
      "model_name": "LayoutModel",
      "state": {}
     },
     "7f9153dae8164dfe8736bd808972b99c": {
      "model_module": "@jupyter-widgets/base",
      "model_module_version": "1.1.0",
      "model_name": "LayoutModel",
      "state": {}
     },
     "7f94814662e64821926c1c2cae6b8830": {
      "model_module": "@jupyter-widgets/controls",
      "model_module_version": "1.4.0",
      "model_name": "DescriptionStyleModel",
      "state": {
       "description_width": ""
      }
     },
     "7f9cfe9168cc491c961ed1e944149fd5": {
      "model_module": "@jupyter-widgets/controls",
      "model_module_version": "1.4.0",
      "model_name": "DescriptionStyleModel",
      "state": {
       "description_width": ""
      }
     },
     "803ab977e70b46768750e2c946fe5af0": {
      "model_module": "@jupyter-widgets/controls",
      "model_module_version": "1.4.0",
      "model_name": "IntTextModel",
      "state": {
       "description": "Minimum",
       "layout": "IPY_MODEL_984160076ca640df90d87deecb24e84b",
       "step": 1,
       "style": "IPY_MODEL_3071718f2de3433e9b5c3fc3e229b80b"
      }
     },
     "8060cdee66aa4bbaac01c4917eb625f1": {
      "model_module": "@jupyter-widgets/controls",
      "model_module_version": "1.4.0",
      "model_name": "ProgressStyleModel",
      "state": {
       "description_width": ""
      }
     },
     "80a2cf995522427396e803d7a05a43f7": {
      "model_module": "@jupyter-widgets/base",
      "model_module_version": "1.1.0",
      "model_name": "LayoutModel",
      "state": {}
     },
     "80d3d0962f5b4e3288e1e88a0f6bd301": {
      "model_module": "@jupyter-widgets/controls",
      "model_module_version": "1.4.0",
      "model_name": "DescriptionStyleModel",
      "state": {
       "description_width": ""
      }
     },
     "80f5d4b93bfd42a081b445f514bb51ab": {
      "model_module": "@jupyter-widgets/controls",
      "model_module_version": "1.4.0",
      "model_name": "DescriptionStyleModel",
      "state": {
       "description_width": ""
      }
     },
     "815f6aebd6aa40b39bbdbec4dfac84da": {
      "model_module": "@jupyter-widgets/controls",
      "model_module_version": "1.4.0",
      "model_name": "ButtonStyleModel",
      "state": {}
     },
     "8161da3abc7648d9a51b62d14c374db8": {
      "model_module": "@jupyter-widgets/base",
      "model_module_version": "1.1.0",
      "model_name": "LayoutModel",
      "state": {}
     },
     "8187d96129c24774ae932f89337ebb5f": {
      "model_module": "@jupyter-widgets/controls",
      "model_module_version": "1.4.0",
      "model_name": "DescriptionStyleModel",
      "state": {
       "description_width": ""
      }
     },
     "81a7c3cd1e354f579786da0099d11578": {
      "model_module": "@jupyter-widgets/base",
      "model_module_version": "1.1.0",
      "model_name": "LayoutModel",
      "state": {}
     },
     "81c85da2001040fe9fdb464e27cb9578": {
      "model_module": "@jupyter-widgets/base",
      "model_module_version": "1.1.0",
      "model_name": "LayoutModel",
      "state": {}
     },
     "81dcaa489b0843f5b43a55a97e9395b4": {
      "model_module": "@jupyter-widgets/controls",
      "model_module_version": "1.4.0",
      "model_name": "VBoxModel",
      "state": {
       "children": [
        "IPY_MODEL_45493a117ae44eefba361f100121ebfe",
        "IPY_MODEL_48ec81785b4643589e67b6ebb01b9fe0"
       ],
       "layout": "IPY_MODEL_f270b044e3de42cabc7165c53002bd32"
      }
     },
     "825f4dfa77cb48d29efe0e1f2a128bc3": {
      "model_module": "@jupyter-widgets/base",
      "model_module_version": "1.1.0",
      "model_name": "LayoutModel",
      "state": {}
     },
     "827e38bff67c4b5f86ffe9821c14f5fe": {
      "model_module": "@jupyter-widgets/base",
      "model_module_version": "1.1.0",
      "model_name": "LayoutModel",
      "state": {}
     },
     "82a8952925e6440fa21d6fbbfd9b73d0": {
      "model_module": "@jupyter-widgets/controls",
      "model_module_version": "1.4.0",
      "model_name": "ProgressStyleModel",
      "state": {
       "description_width": ""
      }
     },
     "82d5653438ae43119b0a62914ba4d55f": {
      "model_module": "@jupyter-widgets/controls",
      "model_module_version": "1.4.0",
      "model_name": "HTMLModel",
      "state": {
       "layout": "IPY_MODEL_9828b3b52a0c492781873514e0baeaea",
       "style": "IPY_MODEL_d3d850d42baa4953a2b11f0b6820c120",
       "value": "<div style=\"padding: 0px 10px 0px 10px; text-align:left; word-wrap: break-word;\">open_rasterio</div>"
      }
     },
     "82ea962ab7c4412797409992bf7f8d84": {
      "model_module": "@jupyter-widgets/controls",
      "model_module_version": "1.4.0",
      "model_name": "ProgressStyleModel",
      "state": {
       "description_width": ""
      }
     },
     "830dae62a1434bf3b6cf20c27841845c": {
      "model_module": "@jupyter-widgets/base",
      "model_module_version": "1.1.0",
      "model_name": "LayoutModel",
      "state": {}
     },
     "8328864a15444844b57efd89cb0d94eb": {
      "model_module": "@jupyter-widgets/controls",
      "model_module_version": "1.4.0",
      "model_name": "HTMLModel",
      "state": {
       "layout": "IPY_MODEL_8855747c1aed4a99bfbb1147b0844a5e",
       "style": "IPY_MODEL_d1cc525080fc4ab0a9c6ac2664fe60e7",
       "value": "<div style=\"padding: 0px 10px 0px 10px; text-align:left; word-wrap: break-word;\">array</div>"
      }
     },
     "83d6655abe3a4de9b6459dafa36796dc": {
      "model_module": "@jupyter-widgets/controls",
      "model_module_version": "1.4.0",
      "model_name": "FloatProgressModel",
      "state": {
       "layout": "IPY_MODEL_125d341891f946f385904d943365df92",
       "max": 1,
       "style": "IPY_MODEL_220102294b854dd2a202115f3150083e",
       "value": 1
      }
     },
     "8418da9ef98a4d7aa962c7882bb0adfe": {
      "model_module": "@jupyter-widgets/controls",
      "model_module_version": "1.4.0",
      "model_name": "HBoxModel",
      "state": {
       "children": [
        "IPY_MODEL_647bd6d297d6414bb56483b325fcf6dd",
        "IPY_MODEL_fc37aee3720044c09e62712a145cb587",
        "IPY_MODEL_3265e4cc342941558274b3bf873363fe"
       ],
       "layout": "IPY_MODEL_8bece8420a66424a91c239c67571e16b"
      }
     },
     "8470173fda3d4075885340842d9a7274": {
      "model_module": "@jupyter-widgets/controls",
      "model_module_version": "1.4.0",
      "model_name": "HTMLModel",
      "state": {
       "layout": "IPY_MODEL_7145308fdab44ff899ae9ed2ab51eda3",
       "style": "IPY_MODEL_8187d96129c24774ae932f89337ebb5f",
       "value": "<div style=\"padding: 0px 10px 0px 10px; text-align:left; word-wrap: break-word;\">astype</div>"
      }
     },
     "8475df10a05e432e894d9859a6baff78": {
      "model_module": "@jupyter-widgets/base",
      "model_module_version": "1.1.0",
      "model_name": "LayoutModel",
      "state": {}
     },
     "849b8ad4d28f4c9d96e878045612c0ce": {
      "model_module": "@jupyter-widgets/controls",
      "model_module_version": "1.4.0",
      "model_name": "FloatProgressModel",
      "state": {
       "bar_style": "success",
       "layout": "IPY_MODEL_6c0212bd340a47ca8228d9944eccbd66",
       "max": 1,
       "style": "IPY_MODEL_f5780035818b4c54860c4f11ebc15d18",
       "value": 1
      }
     },
     "851a59ce157e482e814d97b87f142e18": {
      "model_module": "@jupyter-widgets/controls",
      "model_module_version": "1.4.0",
      "model_name": "HTMLModel",
      "state": {
       "layout": "IPY_MODEL_36f10f2e22f34794954a50af93c74c7f",
       "style": "IPY_MODEL_1446711f43324d54b47a6b25939c886a",
       "value": "<div style=\"padding: 0px 10px 0px 10px; text-align:left; word-wrap: break-word;\">rechunk-merge-rechunk-split-concatenate</div>"
      }
     },
     "85215de0e1d1413aae5a18f5ba52ae52": {
      "model_module": "@jupyter-widgets/controls",
      "model_module_version": "1.4.0",
      "model_name": "ProgressStyleModel",
      "state": {
       "description_width": ""
      }
     },
     "8629d74a094b4325a56ff6d6a9caafc8": {
      "model_module": "@jupyter-widgets/controls",
      "model_module_version": "1.4.0",
      "model_name": "HTMLModel",
      "state": {
       "layout": "IPY_MODEL_67931982e44a4a70b9dd17ba1c029b5b",
       "style": "IPY_MODEL_0ddd2e50539041d286aa216ab1b2d62b",
       "value": "<div style=\"padding: 0px 10px 0px 10px; text-align:left; word-wrap: break-word;\">array</div>"
      }
     },
     "862dffa5c8ae4240b5daf53c98657963": {
      "model_module": "@jupyter-widgets/controls",
      "model_module_version": "1.4.0",
      "model_name": "HTMLModel",
      "state": {
       "layout": "IPY_MODEL_2562d451ccb24de3b64e0332a3146b01",
       "style": "IPY_MODEL_7453b4c1cb0a4ad18f34e44791a41d71",
       "value": "<div style=\"padding: 0px 10px 0px 10px; text-align: right\">56 / 56</div>"
      }
     },
     "863f304c563e4047812d998271de9635": {
      "model_module": "@jupyter-widgets/base",
      "model_module_version": "1.1.0",
      "model_name": "LayoutModel",
      "state": {}
     },
     "866b4a9dc4df41e3b95d24129c6a8104": {
      "model_module": "@jupyter-widgets/base",
      "model_module_version": "1.1.0",
      "model_name": "LayoutModel",
      "state": {}
     },
     "868201cbbdda4ac1b0ab67a51be9dcd5": {
      "model_module": "@jupyter-widgets/controls",
      "model_module_version": "1.4.0",
      "model_name": "HBoxModel",
      "state": {
       "children": [
        "IPY_MODEL_6809dd7f4f9e464281d2454699afce33",
        "IPY_MODEL_107edb42094f404f942165588b7f87cb",
        "IPY_MODEL_1a788066e0164e1a8297f659ea5ba481"
       ],
       "layout": "IPY_MODEL_7177ce0a74b84328a3229da46669e4fe"
      }
     },
     "86c0e579b93140aaae5fb4effc447188": {
      "model_module": "@jupyter-widgets/base",
      "model_module_version": "1.1.0",
      "model_name": "LayoutModel",
      "state": {}
     },
     "86d698de62774f3f9d27bca3dfa469ca": {
      "model_module": "@jupyter-widgets/controls",
      "model_module_version": "1.4.0",
      "model_name": "ProgressStyleModel",
      "state": {
       "description_width": ""
      }
     },
     "8760cffd20254fbf9ee73d5062b2498a": {
      "model_module": "@jupyter-widgets/controls",
      "model_module_version": "1.4.0",
      "model_name": "DescriptionStyleModel",
      "state": {
       "description_width": ""
      }
     },
     "879b5e06d1cb497ab8bb441cb7b3a061": {
      "model_module": "@jupyter-widgets/controls",
      "model_module_version": "1.4.0",
      "model_name": "HBoxModel",
      "state": {
       "children": [
        "IPY_MODEL_f8ea45f1405b4416ad5bb0ce05325d12",
        "IPY_MODEL_83d6655abe3a4de9b6459dafa36796dc",
        "IPY_MODEL_6fec718c8b444d3b831132f27535ef6e"
       ],
       "layout": "IPY_MODEL_dea47bf54fa6457dbcbd3a8860b3e694"
      }
     },
     "87d080b5533a4e158f27db28a9c94cb2": {
      "model_module": "@jupyter-widgets/base",
      "model_module_version": "1.1.0",
      "model_name": "LayoutModel",
      "state": {}
     },
     "87ea0b446e474078b52225a43749804f": {
      "model_module": "@jupyter-widgets/base",
      "model_module_version": "1.1.0",
      "model_name": "LayoutModel",
      "state": {}
     },
     "88288ba18f1d4b33a2d82f0a7e4ec6d4": {
      "model_module": "@jupyter-widgets/controls",
      "model_module_version": "1.4.0",
      "model_name": "DescriptionStyleModel",
      "state": {
       "description_width": ""
      }
     },
     "8855747c1aed4a99bfbb1147b0844a5e": {
      "model_module": "@jupyter-widgets/base",
      "model_module_version": "1.1.0",
      "model_name": "LayoutModel",
      "state": {}
     },
     "886269eaaa6544f698b9b9ebd89b2d6e": {
      "model_module": "@jupyter-widgets/base",
      "model_module_version": "1.1.0",
      "model_name": "LayoutModel",
      "state": {}
     },
     "88778409d9cd492ca08fd1ef18f1b6d0": {
      "model_module": "@jupyter-widgets/controls",
      "model_module_version": "1.4.0",
      "model_name": "HTMLModel",
      "state": {
       "layout": "IPY_MODEL_13a506f069c24eafa98162cd2934a7ea",
       "style": "IPY_MODEL_9b367686e63f4b00b15bee0f1a802d7a",
       "value": "<div style=\"padding: 0px 10px 0px 10px; text-align: right\">8028 / 8030</div>"
      }
     },
     "88870a9f9f3a402e8f08efdc9e95cebe": {
      "model_module": "@jupyter-widgets/controls",
      "model_module_version": "1.4.0",
      "model_name": "DescriptionStyleModel",
      "state": {
       "description_width": ""
      }
     },
     "8904a0f92ddf4cf3ac181832ba8d8fff": {
      "model_module": "@jupyter-widgets/controls",
      "model_module_version": "1.4.0",
      "model_name": "DescriptionStyleModel",
      "state": {
       "description_width": ""
      }
     },
     "894117a6db044c42a3638e925b7d2784": {
      "model_module": "@jupyter-widgets/controls",
      "model_module_version": "1.4.0",
      "model_name": "FloatProgressModel",
      "state": {
       "bar_style": "success",
       "layout": "IPY_MODEL_c664c9009e104286aa160b235ae49671",
       "max": 1,
       "style": "IPY_MODEL_63a2a9c7797c45a6bde75b4796daaaf9",
       "value": 1
      }
     },
     "8962ab43f4394c8b8be2b03cbdd1e830": {
      "model_module": "@jupyter-widgets/controls",
      "model_module_version": "1.4.0",
      "model_name": "HTMLModel",
      "state": {
       "layout": "IPY_MODEL_d48ec362ee16486d97d9385fa7a81866",
       "style": "IPY_MODEL_743a5336eb3e4380a679bc14cde5ffb9",
       "value": "<div style=\"padding: 0px 10px 0px 10px; text-align:left; word-wrap: break-word;\">open_rasterio</div>"
      }
     },
     "89cbf76fb1d24c4b9cbd46e5e3ec3eb1": {
      "model_module": "@jupyter-widgets/controls",
      "model_module_version": "1.4.0",
      "model_name": "HTMLModel",
      "state": {
       "layout": "IPY_MODEL_41193a6382234139afbc4be75472019e",
       "style": "IPY_MODEL_125b1fbf9e8c4cb38552182c39160e58",
       "value": "<div style=\"padding: 0px 10px 0px 10px; text-align: right\">160 / 160</div>"
      }
     },
     "89fc0a2d8482400e854bf569ec2fd419": {
      "model_module": "@jupyter-widgets/base",
      "model_module_version": "1.1.0",
      "model_name": "LayoutModel",
      "state": {}
     },
     "8a17442d94464d5195ba806dcb3a74c6": {
      "model_module": "@jupyter-widgets/controls",
      "model_module_version": "1.4.0",
      "model_name": "DescriptionStyleModel",
      "state": {
       "description_width": ""
      }
     },
     "8a220a7ba7c24e3283ead3c090cb587f": {
      "model_module": "@jupyter-widgets/controls",
      "model_module_version": "1.4.0",
      "model_name": "DescriptionStyleModel",
      "state": {
       "description_width": ""
      }
     },
     "8a5e4641df724b55be037193b752b811": {
      "model_module": "@jupyter-widgets/controls",
      "model_module_version": "1.4.0",
      "model_name": "DescriptionStyleModel",
      "state": {
       "description_width": ""
      }
     },
     "8b28fbc3ec4c489a87c246f966395d4f": {
      "model_module": "@jupyter-widgets/controls",
      "model_module_version": "1.4.0",
      "model_name": "HBoxModel",
      "state": {
       "children": [
        "IPY_MODEL_3f3070c57f444da486b891fc6234f38d",
        "IPY_MODEL_31a2018ceb9040108efd1039a53a6f99",
        "IPY_MODEL_73b688de2b0e48b1866c7f5297b27cba"
       ],
       "layout": "IPY_MODEL_cca1362c6b8147e9b6db599732f7f992"
      }
     },
     "8b4fc5838dd24a3d9968fbc2e7ee52bb": {
      "model_module": "@jupyter-widgets/base",
      "model_module_version": "1.1.0",
      "model_name": "LayoutModel",
      "state": {}
     },
     "8b827fa643414a80a5de3dac459e7041": {
      "model_module": "@jupyter-widgets/base",
      "model_module_version": "1.1.0",
      "model_name": "LayoutModel",
      "state": {}
     },
     "8bb82269b3d44c40990f0908961635c0": {
      "model_module": "@jupyter-widgets/base",
      "model_module_version": "1.1.0",
      "model_name": "LayoutModel",
      "state": {}
     },
     "8bece8420a66424a91c239c67571e16b": {
      "model_module": "@jupyter-widgets/base",
      "model_module_version": "1.1.0",
      "model_name": "LayoutModel",
      "state": {}
     },
     "8c0ce9013c674ad58f51b0c5ead1ae48": {
      "model_module": "@jupyter-widgets/base",
      "model_module_version": "1.1.0",
      "model_name": "LayoutModel",
      "state": {}
     },
     "8c642a35184242a7a325c124ada39074": {
      "model_module": "@jupyter-widgets/controls",
      "model_module_version": "1.4.0",
      "model_name": "IntTextModel",
      "state": {
       "description": "Minimum",
       "layout": "IPY_MODEL_d831e5a52bdd4a90b77f1d8766891ea7",
       "step": 1,
       "style": "IPY_MODEL_f3cdb98104424886a16c2b136d6f4141"
      }
     },
     "8c7dad91271b41e8b6b930bcdb3a72be": {
      "model_module": "@jupyter-widgets/controls",
      "model_module_version": "1.4.0",
      "model_name": "VBoxModel",
      "state": {
       "children": [
        "IPY_MODEL_2a9dbd20d7a0420aae3bca7fb864beac",
        "IPY_MODEL_e612439fd9a448e69676e79807fbf9d9"
       ],
       "layout": "IPY_MODEL_a9d58dc5de7a4205b2747da46f7524c7"
      }
     },
     "8d19af705c5b461cb37e6537c7341d2a": {
      "model_module": "@jupyter-widgets/controls",
      "model_module_version": "1.4.0",
      "model_name": "HTMLModel",
      "state": {
       "layout": "IPY_MODEL_e9ed87669b35482bb9b198ce2851e5ce",
       "style": "IPY_MODEL_8760cffd20254fbf9ee73d5062b2498a",
       "value": "<div style=\"padding: 0px 10px 0px 10px; text-align: right\">8030 / 8030</div>"
      }
     },
     "8d31165688724aa7970b0766fb0faec3": {
      "model_module": "@jupyter-widgets/controls",
      "model_module_version": "1.4.0",
      "model_name": "FloatProgressModel",
      "state": {
       "layout": "IPY_MODEL_ac289cd0bf1149d4a0550e02445355f4",
       "max": 1,
       "style": "IPY_MODEL_68bc72a3731641ef87ab410867390e77",
       "value": 1
      }
     },
     "8dc4717fdf3a499b9aa2a4598f12eb54": {
      "model_module": "@jupyter-widgets/base",
      "model_module_version": "1.1.0",
      "model_name": "LayoutModel",
      "state": {}
     },
     "8dd9c2309def4768bb6c4cd7949fbb7a": {
      "model_module": "@jupyter-widgets/controls",
      "model_module_version": "1.4.0",
      "model_name": "DescriptionStyleModel",
      "state": {
       "description_width": ""
      }
     },
     "8eabb94278da46419a4bb131326be465": {
      "model_module": "@jupyter-widgets/controls",
      "model_module_version": "1.4.0",
      "model_name": "ProgressStyleModel",
      "state": {
       "description_width": ""
      }
     },
     "8f482e73302d431c85b525ef93504f3c": {
      "model_module": "@jupyter-widgets/controls",
      "model_module_version": "1.4.0",
      "model_name": "HTMLModel",
      "state": {
       "layout": "IPY_MODEL_fb39c211e3ca460b8486c0c16ea3bcc4",
       "style": "IPY_MODEL_5d7c090fab3c4793ad6b1fe128b1e934",
       "value": "<div style=\"padding: 0px 10px 0px 10px; text-align: right\">160 / 160</div>"
      }
     },
     "8f4e799d7b0848169898235cc8ff34b2": {
      "model_module": "@jupyter-widgets/base",
      "model_module_version": "1.1.0",
      "model_name": "LayoutModel",
      "state": {}
     },
     "8f83b4c5c6404cf290c3705569252f14": {
      "model_module": "@jupyter-widgets/controls",
      "model_module_version": "1.4.0",
      "model_name": "HTMLModel",
      "state": {
       "layout": "IPY_MODEL_2f9dba0b94fa4c709174dff458909b73",
       "style": "IPY_MODEL_aba350218a1b47e2ad401b019606b0b5",
       "value": "\n<div>\n  <style scoped>\n    .dataframe tbody tr th:only-of-type {\n        vertical-align: middle;\n    }\n\n    .dataframe tbody tr th {\n        vertical-align: top;\n    }\n\n    .dataframe thead th {\n        text-align: right;\n    }\n  </style>\n  <table style=\"text-align: right;\">\n    <tr><th>Workers</th> <td>10</td></tr>\n    <tr><th>Cores</th> <td>20</td></tr>\n    <tr><th>Memory</th> <td>60.00 GB</td></tr>\n  </table>\n</div>\n"
      }
     },
     "8f903ccb9ab744779d84dd3e13ecd222": {
      "model_module": "@jupyter-widgets/base",
      "model_module_version": "1.1.0",
      "model_name": "LayoutModel",
      "state": {}
     },
     "8f98c0eaeac9489c846ede83b7912ca9": {
      "model_module": "@jupyter-widgets/controls",
      "model_module_version": "1.4.0",
      "model_name": "VBoxModel",
      "state": {
       "children": [
        "IPY_MODEL_2753169a8c8b4a5fb83655b55bdcd843",
        "IPY_MODEL_9def561c878844d18fb18f6407104d99"
       ],
       "layout": "IPY_MODEL_bbda68fec0084818ac628ffa9e6ddf1c"
      }
     },
     "8fe85e471dca459498a985e194c669e4": {
      "model_module": "@jupyter-widgets/controls",
      "model_module_version": "1.4.0",
      "model_name": "HBoxModel",
      "state": {
       "children": [
        "IPY_MODEL_b48823c81a114e439b1dab956b31f9f5",
        "IPY_MODEL_5b08d457624847b5a92bde021534e207",
        "IPY_MODEL_a179c1394d6f4f709a2ffe6660ec2d62"
       ],
       "layout": "IPY_MODEL_ceea984631794d92ba0b39b0ae45329c"
      }
     },
     "900e3bd0ac094bf594b8d1d43ac4450f": {
      "model_module": "@jupyter-widgets/controls",
      "model_module_version": "1.4.0",
      "model_name": "IntTextModel",
      "state": {
       "description": "Workers",
       "layout": "IPY_MODEL_984160076ca640df90d87deecb24e84b",
       "step": 1,
       "style": "IPY_MODEL_24003e70ba49479c952f3e3869cd40ab"
      }
     },
     "904bdf0e81964f4d9781f4157127ada3": {
      "model_module": "@jupyter-widgets/controls",
      "model_module_version": "1.4.0",
      "model_name": "HTMLModel",
      "state": {
       "layout": "IPY_MODEL_9aadce53c52545cf82963f53f598e04b",
       "style": "IPY_MODEL_3da44aff4df0459e88199ac3bca75b80",
       "value": "<div style=\"padding: 0px 10px 0px 10px; text-align: right\">2188 / 2190</div>"
      }
     },
     "904c6ec5f6db4694b515c601923704c3": {
      "model_module": "@jupyter-widgets/controls",
      "model_module_version": "1.4.0",
      "model_name": "DescriptionStyleModel",
      "state": {
       "description_width": ""
      }
     },
     "9051e1932aee41a487e437b401425845": {
      "model_module": "@jupyter-widgets/base",
      "model_module_version": "1.1.0",
      "model_name": "LayoutModel",
      "state": {}
     },
     "907909eb13f64d1c94cd704b744c590b": {
      "model_module": "@jupyter-widgets/base",
      "model_module_version": "1.1.0",
      "model_name": "LayoutModel",
      "state": {}
     },
     "90b67c5a2f584e12b4cf915446efd3a9": {
      "model_module": "@jupyter-widgets/controls",
      "model_module_version": "1.4.0",
      "model_name": "DescriptionStyleModel",
      "state": {
       "description_width": ""
      }
     },
     "90c8f6ec3a624148801a0e7c1543e098": {
      "model_module": "@jupyter-widgets/controls",
      "model_module_version": "1.4.0",
      "model_name": "HBoxModel",
      "state": {
       "children": [
        "IPY_MODEL_2ebd6c250ef7427eb7937c0f0bbf7a9c",
        "IPY_MODEL_2837e1816bb74212ad07a44ade050612"
       ],
       "layout": "IPY_MODEL_0099a6e0bf6d40d6aa410274ee781cfa"
      }
     },
     "90f273f4d5ed47f6b7573090ff8e54ee": {
      "model_module": "@jupyter-widgets/controls",
      "model_module_version": "1.4.0",
      "model_name": "HTMLModel",
      "state": {
       "layout": "IPY_MODEL_b4d4293b087142c0bb95b09c6dfefd06",
       "style": "IPY_MODEL_cc7069e6066548a4bcdd56cfeb15f599",
       "value": "<div style=\"padding: 0px 10px 0px 10px; text-align: right\">352 / 352</div>"
      }
     },
     "91684ca0363e47048a0fbeedec6f2a8f": {
      "model_module": "@jupyter-widgets/controls",
      "model_module_version": "1.4.0",
      "model_name": "HTMLModel",
      "state": {
       "layout": "IPY_MODEL_b67edcdd3f8e436d8656ee4c7d243ad2",
       "style": "IPY_MODEL_352c1db8201c4de0afa9eccc2ca73a48",
       "value": "<div style=\"padding: 0px 10px 0px 10px; text-align:left; word-wrap: break-word;\">add</div>"
      }
     },
     "91c20d24c51c4d6dbbf6258812404009": {
      "model_module": "@jupyter-widgets/controls",
      "model_module_version": "1.4.0",
      "model_name": "HTMLModel",
      "state": {
       "layout": "IPY_MODEL_2e3dde98453e4ec78359c03ec99b4780",
       "style": "IPY_MODEL_9caad88681464449a3fb8fb4bd1eca39",
       "value": "<div style=\"padding: 0px 10px 0px 10px; text-align:left; word-wrap: break-word;\">open_rasterio-getitem</div>"
      }
     },
     "91eed2d03a7e4d248ca6cba518cbb8a5": {
      "model_module": "@jupyter-widgets/controls",
      "model_module_version": "1.4.0",
      "model_name": "FloatProgressModel",
      "state": {
       "layout": "IPY_MODEL_bfec3480594d4daabcb7ba3403d5379f",
       "max": 1,
       "style": "IPY_MODEL_6850b629b37f45089975f2a55c38e97f",
       "value": 0.9997509339975094
      }
     },
     "92080ebbbfa042549513828273ca241e": {
      "model_module": "@jupyter-widgets/controls",
      "model_module_version": "1.4.0",
      "model_name": "AccordionModel",
      "state": {
       "_titles": {
        "0": "Manual Scaling",
        "1": "Adaptive Scaling"
       },
       "children": [
        "IPY_MODEL_37cdc8ab9bb8410d82884b2d7e190fac",
        "IPY_MODEL_d6e9bf839e37439da0916e789516b79e"
       ],
       "layout": "IPY_MODEL_c92f4f671bb8402f9c18a9cf7a8f3b33",
       "selected_index": null
      }
     },
     "920a17cd5ed64e7799cef0fa8731786d": {
      "model_module": "@jupyter-widgets/base",
      "model_module_version": "1.1.0",
      "model_name": "LayoutModel",
      "state": {}
     },
     "9212ea1914ab489799a74365060cf5a8": {
      "model_module": "@jupyter-widgets/controls",
      "model_module_version": "1.4.0",
      "model_name": "FloatProgressModel",
      "state": {
       "bar_style": "success",
       "layout": "IPY_MODEL_ae9302d7821f4369a057f7b8edd51a40",
       "max": 1,
       "style": "IPY_MODEL_351a992b0875421897c150d00cdb913f",
       "value": 1
      }
     },
     "92240c5d50f74a3e80d54564a7f355e5": {
      "model_module": "@jupyter-widgets/base",
      "model_module_version": "1.1.0",
      "model_name": "LayoutModel",
      "state": {}
     },
     "9331bd5e93634c3c8f796a370b8fbef8": {
      "model_module": "@jupyter-widgets/base",
      "model_module_version": "1.1.0",
      "model_name": "LayoutModel",
      "state": {}
     },
     "935f3c646c3443d6b6f6c00d8f79a648": {
      "model_module": "@jupyter-widgets/controls",
      "model_module_version": "1.4.0",
      "model_name": "DescriptionStyleModel",
      "state": {
       "description_width": ""
      }
     },
     "937d185a232b48859f4e642fc6bf4626": {
      "model_module": "@jupyter-widgets/controls",
      "model_module_version": "1.4.0",
      "model_name": "HTMLModel",
      "state": {
       "layout": "IPY_MODEL_0d736f5aa2b54eaca9dc954f4debe1ae",
       "style": "IPY_MODEL_25a651eec6b1490ca43be06013efaa02",
       "value": "<div style=\"padding: 0px 10px 0px 10px; text-align:left; word-wrap: break-word;\">open_rasterio</div>"
      }
     },
     "939cf91aa6244fcf98a35473a140df19": {
      "model_module": "@jupyter-widgets/controls",
      "model_module_version": "1.4.0",
      "model_name": "HTMLModel",
      "state": {
       "layout": "IPY_MODEL_08aa6bc3a151418b93add5996fbdd8e1",
       "style": "IPY_MODEL_5814998ef84445238ad393e439b12dd6",
       "value": "<div style=\"padding: 0px 10px 0px 10px; text-align:left; word-wrap: break-word;\">add</div>"
      }
     },
     "93b4bf4d93b84c6bb8819afe6f1a7593": {
      "model_module": "@jupyter-widgets/controls",
      "model_module_version": "1.4.0",
      "model_name": "HBoxModel",
      "state": {
       "children": [
        "IPY_MODEL_d35996e1afa74a5d8b8cd4cde6c6877f",
        "IPY_MODEL_5add5bcadae843f18b687fb67f67edde",
        "IPY_MODEL_6b401450131545a6b6b79d5e6d3f3c9b"
       ],
       "layout": "IPY_MODEL_fc6fc937abef4190a8bac5af3dd12389"
      }
     },
     "93e49330d9454353bb0b711c3a970e88": {
      "model_module": "@jupyter-widgets/controls",
      "model_module_version": "1.4.0",
      "model_name": "DescriptionStyleModel",
      "state": {
       "description_width": ""
      }
     },
     "93e935dd264a465b8048ae8bbc132e31": {
      "model_module": "@jupyter-widgets/base",
      "model_module_version": "1.1.0",
      "model_name": "LayoutModel",
      "state": {}
     },
     "93f9fd30fe084af7ada5a9275ff258f8": {
      "model_module": "@jupyter-widgets/controls",
      "model_module_version": "1.4.0",
      "model_name": "HTMLModel",
      "state": {
       "layout": "IPY_MODEL_3ebbeda7fb1e40b1aff0570b07ae761a",
       "style": "IPY_MODEL_7d623eed696443798ced9fec2eb3a8ff",
       "value": "<div style=\"padding: 0px 10px 0px 10px; text-align: right\">16 / 16</div>"
      }
     },
     "941e3036af2a42f488437e8175f70565": {
      "model_module": "@jupyter-widgets/controls",
      "model_module_version": "1.4.0",
      "model_name": "DescriptionStyleModel",
      "state": {
       "description_width": ""
      }
     },
     "942290c0c430408aa383cc44642e98aa": {
      "model_module": "@jupyter-widgets/base",
      "model_module_version": "1.1.0",
      "model_name": "LayoutModel",
      "state": {}
     },
     "9429398688ac403d86e8fa642a275da8": {
      "model_module": "@jupyter-widgets/controls",
      "model_module_version": "1.4.0",
      "model_name": "DescriptionStyleModel",
      "state": {
       "description_width": ""
      }
     },
     "94529a3eea6f4a9291ced83f5942a76f": {
      "model_module": "@jupyter-widgets/base",
      "model_module_version": "1.1.0",
      "model_name": "LayoutModel",
      "state": {}
     },
     "948e0af81963446388420b624e8d0908": {
      "model_module": "@jupyter-widgets/controls",
      "model_module_version": "1.4.0",
      "model_name": "HTMLModel",
      "state": {
       "layout": "IPY_MODEL_b07d136d5b1a49aea93de3770cae34f6",
       "style": "IPY_MODEL_caf2ec9688744d97a567133cd2727d7a",
       "value": "\n<div>\n  <style scoped>\n    .dataframe tbody tr th:only-of-type {\n        vertical-align: middle;\n    }\n\n    .dataframe tbody tr th {\n        vertical-align: top;\n    }\n\n    .dataframe thead th {\n        text-align: right;\n    }\n  </style>\n  <table style=\"text-align: right;\">\n    <tr><th>Workers</th> <td>50</td></tr>\n    <tr><th>Cores</th> <td>100</td></tr>\n    <tr><th>Memory</th> <td>300.00 GB</td></tr>\n  </table>\n</div>\n"
      }
     },
     "952fe1208d4c4737a4cf5252915e2547": {
      "model_module": "@jupyter-widgets/controls",
      "model_module_version": "1.4.0",
      "model_name": "FloatProgressModel",
      "state": {
       "layout": "IPY_MODEL_46dc0c8879234e3cad36353e5e266874",
       "max": 1,
       "style": "IPY_MODEL_82a8952925e6440fa21d6fbbfd9b73d0",
       "value": 1
      }
     },
     "954baa7d50f84a288c641fbe92d4ee28": {
      "model_module": "@jupyter-widgets/base",
      "model_module_version": "1.1.0",
      "model_name": "LayoutModel",
      "state": {
       "min_width": "500px"
      }
     },
     "9562c875ddc245b5b0a3ff279e555814": {
      "model_module": "@jupyter-widgets/controls",
      "model_module_version": "1.4.0",
      "model_name": "HBoxModel",
      "state": {
       "children": [
        "IPY_MODEL_3cebd4879df344a3bc6d0eb1305619ff",
        "IPY_MODEL_bf46d215ca794600a4ed3a2cabe9519e",
        "IPY_MODEL_cd104966c0754a60a5e5a5c305559657"
       ],
       "layout": "IPY_MODEL_ac829f6f75d94c61bcb67699cf6728fc"
      }
     },
     "959bb24c3bec4ec99a699574979a0074": {
      "model_module": "@jupyter-widgets/controls",
      "model_module_version": "1.4.0",
      "model_name": "DescriptionStyleModel",
      "state": {
       "description_width": ""
      }
     },
     "95caa06bd0124228b9b7daace3356ed3": {
      "model_module": "@jupyter-widgets/controls",
      "model_module_version": "1.4.0",
      "model_name": "HBoxModel",
      "state": {
       "children": [
        "IPY_MODEL_49948fcbfacd4ff0b52cbf98c0347fec",
        "IPY_MODEL_f90321184c4949c3ab39fc2b6cd48498",
        "IPY_MODEL_6bac2be4b314470289846e692a6090b0"
       ],
       "layout": "IPY_MODEL_52f280854f9f4f7a861487b65902adfa"
      }
     },
     "961f407916f24e26bf81b941af7b2637": {
      "model_module": "@jupyter-widgets/controls",
      "model_module_version": "1.4.0",
      "model_name": "DescriptionStyleModel",
      "state": {
       "description_width": ""
      }
     },
     "9639dbda5a1b49fa9ecdd6f84dfac275": {
      "model_module": "@jupyter-widgets/controls",
      "model_module_version": "1.4.0",
      "model_name": "ProgressStyleModel",
      "state": {
       "description_width": ""
      }
     },
     "96bebe32c2874ad19437f7c0b0e17e2d": {
      "model_module": "@jupyter-widgets/base",
      "model_module_version": "1.1.0",
      "model_name": "LayoutModel",
      "state": {}
     },
     "978d68505bdb4bdb96d830da034be365": {
      "model_module": "@jupyter-widgets/base",
      "model_module_version": "1.1.0",
      "model_name": "LayoutModel",
      "state": {}
     },
     "97fc5056689e4a9a8f4135e38f5d8bd8": {
      "model_module": "@jupyter-widgets/controls",
      "model_module_version": "1.4.0",
      "model_name": "DescriptionStyleModel",
      "state": {
       "description_width": ""
      }
     },
     "9828b3b52a0c492781873514e0baeaea": {
      "model_module": "@jupyter-widgets/base",
      "model_module_version": "1.1.0",
      "model_name": "LayoutModel",
      "state": {}
     },
     "9834218cbe2944c28df8582a181e7df7": {
      "model_module": "@jupyter-widgets/controls",
      "model_module_version": "1.4.0",
      "model_name": "HBoxModel",
      "state": {
       "children": [
        "IPY_MODEL_e7499ba0364c4f34af971d5705105f13",
        "IPY_MODEL_849b8ad4d28f4c9d96e878045612c0ce",
        "IPY_MODEL_da9ff8573abe4433ba53f947687545c6"
       ],
       "layout": "IPY_MODEL_4d623052cd774abe995140ac21b70682"
      }
     },
     "984160076ca640df90d87deecb24e84b": {
      "model_module": "@jupyter-widgets/base",
      "model_module_version": "1.1.0",
      "model_name": "LayoutModel",
      "state": {
       "width": "150px"
      }
     },
     "987c58b83bf44b01b36719777a38d88a": {
      "model_module": "@jupyter-widgets/base",
      "model_module_version": "1.1.0",
      "model_name": "LayoutModel",
      "state": {}
     },
     "98b37aebe1844bf1995628bde85d90b3": {
      "model_module": "@jupyter-widgets/controls",
      "model_module_version": "1.4.0",
      "model_name": "DescriptionStyleModel",
      "state": {
       "description_width": ""
      }
     },
     "98f2ef2d660e46eba98225493a305f2e": {
      "model_module": "@jupyter-widgets/controls",
      "model_module_version": "1.4.0",
      "model_name": "FloatProgressModel",
      "state": {
       "layout": "IPY_MODEL_3e45cfaf6bd3449ab6b4a7c48b0b6bbb",
       "max": 1,
       "style": "IPY_MODEL_82ea962ab7c4412797409992bf7f8d84",
       "value": 0.9997509339975094
      }
     },
     "9929a4faa05c4a309e0d236e30132e2f": {
      "model_module": "@jupyter-widgets/base",
      "model_module_version": "1.1.0",
      "model_name": "LayoutModel",
      "state": {}
     },
     "995ed62d8e894c98a1e689784cd2f16d": {
      "model_module": "@jupyter-widgets/base",
      "model_module_version": "1.1.0",
      "model_name": "LayoutModel",
      "state": {}
     },
     "9967f8b58fff4484823ad2b11b2cae4f": {
      "model_module": "@jupyter-widgets/base",
      "model_module_version": "1.1.0",
      "model_name": "LayoutModel",
      "state": {}
     },
     "9a8f3a9417084ddcb04ee4ca186597ab": {
      "model_module": "@jupyter-widgets/controls",
      "model_module_version": "1.4.0",
      "model_name": "ProgressStyleModel",
      "state": {
       "description_width": ""
      }
     },
     "9aadce53c52545cf82963f53f598e04b": {
      "model_module": "@jupyter-widgets/base",
      "model_module_version": "1.1.0",
      "model_name": "LayoutModel",
      "state": {}
     },
     "9ab3ff326607411f94d47d678b6b7912": {
      "model_module": "@jupyter-widgets/base",
      "model_module_version": "1.1.0",
      "model_name": "LayoutModel",
      "state": {}
     },
     "9ab8b1e9b5e64daf99a4136671e1fddb": {
      "model_module": "@jupyter-widgets/controls",
      "model_module_version": "1.4.0",
      "model_name": "HTMLModel",
      "state": {
       "layout": "IPY_MODEL_2816a3e222954bdb9605b2cef0f5001d",
       "style": "IPY_MODEL_c6bf8c23bc334d309d25e6ad6bc74f4b",
       "value": "<div style=\"padding: 0px 10px 0px 10px; text-align: right\">16060 / 16060</div>"
      }
     },
     "9ab902619ad94a09972524ddf4a4e80c": {
      "model_module": "@jupyter-widgets/base",
      "model_module_version": "1.1.0",
      "model_name": "LayoutModel",
      "state": {}
     },
     "9b21cfe2b4194b49849a80745d9ac963": {
      "model_module": "@jupyter-widgets/controls",
      "model_module_version": "1.4.0",
      "model_name": "DescriptionStyleModel",
      "state": {
       "description_width": ""
      }
     },
     "9b367686e63f4b00b15bee0f1a802d7a": {
      "model_module": "@jupyter-widgets/controls",
      "model_module_version": "1.4.0",
      "model_name": "DescriptionStyleModel",
      "state": {
       "description_width": ""
      }
     },
     "9b38db07f3fa4556be25242a2927b9ed": {
      "model_module": "@jupyter-widgets/controls",
      "model_module_version": "1.4.0",
      "model_name": "HBoxModel",
      "state": {
       "children": [
        "IPY_MODEL_8d19af705c5b461cb37e6537c7341d2a",
        "IPY_MODEL_894117a6db044c42a3638e925b7d2784",
        "IPY_MODEL_65debd9aad3f45379f853d1568e522f1"
       ],
       "layout": "IPY_MODEL_e6d40c8635714831ac0c3f37c42666f9"
      }
     },
     "9baf97f8e4cf4438ae28449507a95169": {
      "model_module": "@jupyter-widgets/base",
      "model_module_version": "1.1.0",
      "model_name": "LayoutModel",
      "state": {}
     },
     "9bb5d58dc1cb428b9a1112a40382b3f8": {
      "model_module": "@jupyter-widgets/base",
      "model_module_version": "1.1.0",
      "model_name": "LayoutModel",
      "state": {}
     },
     "9bf0c7aef8374b8590670af877b4ec83": {
      "model_module": "@jupyter-widgets/controls",
      "model_module_version": "1.4.0",
      "model_name": "DescriptionStyleModel",
      "state": {
       "description_width": ""
      }
     },
     "9c388b0ee57445d3befd78895fdbae1e": {
      "model_module": "@jupyter-widgets/base",
      "model_module_version": "1.1.0",
      "model_name": "LayoutModel",
      "state": {}
     },
     "9caad88681464449a3fb8fb4bd1eca39": {
      "model_module": "@jupyter-widgets/controls",
      "model_module_version": "1.4.0",
      "model_name": "DescriptionStyleModel",
      "state": {
       "description_width": ""
      }
     },
     "9d5a85779cdc43588db27c05f6dc7ba7": {
      "model_module": "@jupyter-widgets/controls",
      "model_module_version": "1.4.0",
      "model_name": "HTMLModel",
      "state": {
       "layout": "IPY_MODEL_db0aba2bb04b458f98641ac7fac8df44",
       "style": "IPY_MODEL_d535df80499747e8821ed920777e6174",
       "value": "<div style=\"padding: 0px 10px 0px 10px; text-align: right\">56 / 56</div>"
      }
     },
     "9d9d928e3f504062ab19c2df98a20b11": {
      "model_module": "@jupyter-widgets/controls",
      "model_module_version": "1.4.0",
      "model_name": "HTMLModel",
      "state": {
       "layout": "IPY_MODEL_7570aa0541014c4e942115eeeb041e98",
       "style": "IPY_MODEL_bfdf1aa0e50d4cd1bc9eca9c924e48eb",
       "value": "<p><b>Dashboard: </b><a href=\"/user/rsignell-usgs/proxy/8787/status\" target=\"_blank\">/user/rsignell-usgs/proxy/8787/status</a></p>\n"
      }
     },
     "9dd07cd0c9f34834a5ea241215fa2a20": {
      "model_module": "@jupyter-widgets/controls",
      "model_module_version": "1.4.0",
      "model_name": "VBoxModel",
      "state": {
       "children": [
        "IPY_MODEL_19a51ba516ba4cc3b7c9a25910bff2f6",
        "IPY_MODEL_07186e8820bd41498abaeee7fe2cc44d"
       ],
       "layout": "IPY_MODEL_3e0cea6616bb4337b355d2730007f546"
      }
     },
     "9ddfcac309f941c2a31ef4e6a13069c4": {
      "model_module": "@jupyter-widgets/base",
      "model_module_version": "1.1.0",
      "model_name": "LayoutModel",
      "state": {}
     },
     "9de2741fdc1e42dfb06618eb90a7969e": {
      "model_module": "@jupyter-widgets/controls",
      "model_module_version": "1.4.0",
      "model_name": "FloatProgressModel",
      "state": {
       "bar_style": "success",
       "layout": "IPY_MODEL_62687677e3a84041a7c9fd54c5dfa93a",
       "max": 1,
       "style": "IPY_MODEL_332a98767f4947499da0b323ac019fba",
       "value": 1
      }
     },
     "9dea889e5d6a4d5eb9e831ee9e4377f7": {
      "model_module": "@jupyter-widgets/controls",
      "model_module_version": "1.4.0",
      "model_name": "DescriptionStyleModel",
      "state": {
       "description_width": ""
      }
     },
     "9def561c878844d18fb18f6407104d99": {
      "model_module": "@jupyter-widgets/controls",
      "model_module_version": "1.4.0",
      "model_name": "VBoxModel",
      "state": {
       "children": [
        "IPY_MODEL_a07d935177d4444b809a8d0982ff9559",
        "IPY_MODEL_46836c821301413b9e89134d5942684b",
        "IPY_MODEL_c3d2ab6edece4ed8b6b904efcc7d6c68",
        "IPY_MODEL_e47eae94d8e748d480eb2b964828f199",
        "IPY_MODEL_c6d113a97f8d47d4862984fc5bf21846",
        "IPY_MODEL_9b38db07f3fa4556be25242a2927b9ed",
        "IPY_MODEL_083cefc482274660a197994d3770e1ff",
        "IPY_MODEL_37b8152b457f45bfa40c26c40f446280",
        "IPY_MODEL_232014a6542e452a8b4c40ce3a5bb756",
        "IPY_MODEL_066cc42126d24c83b9f3b1078eb41ad2",
        "IPY_MODEL_6498d107c6dc4aee880a1d767ebb4147",
        "IPY_MODEL_ec554328fa1b4eefba84706a48a5503f",
        "IPY_MODEL_d930d16d95184be4b9a4f89077d30214",
        "IPY_MODEL_bb8230cfa44c4707b23bcfe9c56440ea",
        "IPY_MODEL_07dabe823d494f1c852289a945bf9485",
        "IPY_MODEL_f3a238d3969745559ca88eab5bb230a5",
        "IPY_MODEL_1107db1b245548398077b8ac524ece38",
        "IPY_MODEL_9834218cbe2944c28df8582a181e7df7"
       ],
       "layout": "IPY_MODEL_48905f0b5738494fa4d10e23b93018b3"
      }
     },
     "9e165314ba7248d9a80ccd9894d3af60": {
      "model_module": "@jupyter-widgets/controls",
      "model_module_version": "1.4.0",
      "model_name": "DescriptionStyleModel",
      "state": {
       "description_width": ""
      }
     },
     "9e1d85d1a0b54d178e789fa3a591b758": {
      "model_module": "@jupyter-widgets/controls",
      "model_module_version": "1.4.0",
      "model_name": "DescriptionStyleModel",
      "state": {
       "description_width": ""
      }
     },
     "9e6e13d87a914065bcabb4633bbb0a48": {
      "model_module": "@jupyter-widgets/base",
      "model_module_version": "1.1.0",
      "model_name": "LayoutModel",
      "state": {}
     },
     "9e7ce654a8fd4d12b7995854e6ac6aaa": {
      "model_module": "@jupyter-widgets/base",
      "model_module_version": "1.1.0",
      "model_name": "LayoutModel",
      "state": {}
     },
     "9e977110c90e4eddbfa28cabddc4759a": {
      "model_module": "@jupyter-widgets/controls",
      "model_module_version": "1.4.0",
      "model_name": "VBoxModel",
      "state": {
       "layout": "IPY_MODEL_9ab902619ad94a09972524ddf4a4e80c"
      }
     },
     "9f0538f2f19b4012a3cdf409122b3e1b": {
      "model_module": "@jupyter-widgets/controls",
      "model_module_version": "1.4.0",
      "model_name": "HBoxModel",
      "state": {
       "children": [
        "IPY_MODEL_9d5a85779cdc43588db27c05f6dc7ba7",
        "IPY_MODEL_b0e5045a5c914292813e030041bd1ff4",
        "IPY_MODEL_8629d74a094b4325a56ff6d6a9caafc8"
       ],
       "layout": "IPY_MODEL_ba30ea341d3242939303611ea354db68"
      }
     },
     "9f2464680cdd453285abd13f90737e55": {
      "model_module": "@jupyter-widgets/controls",
      "model_module_version": "1.4.0",
      "model_name": "HBoxModel",
      "state": {
       "children": [
        "IPY_MODEL_90f273f4d5ed47f6b7573090ff8e54ee",
        "IPY_MODEL_789ca29f4afc4c0bb0f6b38002cce4ee",
        "IPY_MODEL_38204f61b71c4983816ecdff17b724d3"
       ],
       "layout": "IPY_MODEL_0b7fbea82c974cdd8bfb9aedda861dd9"
      }
     },
     "9f8a249f7b1747b2a5a133592c580891": {
      "model_module": "@jupyter-widgets/base",
      "model_module_version": "1.1.0",
      "model_name": "LayoutModel",
      "state": {}
     },
     "9faf6a7be00249fc8966af883d618029": {
      "model_module": "@jupyter-widgets/base",
      "model_module_version": "1.1.0",
      "model_name": "LayoutModel",
      "state": {}
     },
     "9fb3b9f24e3b45c9802ca63c87200a64": {
      "model_module": "@jupyter-widgets/base",
      "model_module_version": "1.1.0",
      "model_name": "LayoutModel",
      "state": {}
     },
     "a05dc0481fd74df2862a0c4188fd16ce": {
      "model_module": "@jupyter-widgets/controls",
      "model_module_version": "1.4.0",
      "model_name": "HTMLModel",
      "state": {
       "layout": "IPY_MODEL_a586b4f94d4e4d47aaacb5af11b5b766",
       "style": "IPY_MODEL_a23852f0b7cd48f7b6e2689b8fd54665",
       "value": "<div style=\"padding: 0px 10px 0px 10px; text-align: right\">14 / 14</div>"
      }
     },
     "a07d935177d4444b809a8d0982ff9559": {
      "model_module": "@jupyter-widgets/controls",
      "model_module_version": "1.4.0",
      "model_name": "HBoxModel",
      "state": {
       "children": [
        "IPY_MODEL_9ab8b1e9b5e64daf99a4136671e1fddb",
        "IPY_MODEL_6dfd26fb32f445e29364e6b1eb9a5d27",
        "IPY_MODEL_851a59ce157e482e814d97b87f142e18"
       ],
       "layout": "IPY_MODEL_942290c0c430408aa383cc44642e98aa"
      }
     },
     "a0f2c6b8b6454e7e97379c25bcd7895b": {
      "model_module": "@jupyter-widgets/controls",
      "model_module_version": "1.4.0",
      "model_name": "HTMLModel",
      "state": {
       "layout": "IPY_MODEL_23d93d2c22464f818ec3689343f8161a",
       "style": "IPY_MODEL_ac7711c8ef4e49c5bcddac3cee7cc4d9",
       "value": "<div style=\"padding: 0px 10px 0px 10px; text-align:left; word-wrap: break-word;\">mean_chunk</div>"
      }
     },
     "a0fea1a85dcd4fe7a2d6ce4d0afcea1f": {
      "model_module": "@jupyter-widgets/controls",
      "model_module_version": "1.4.0",
      "model_name": "HTMLModel",
      "state": {
       "layout": "IPY_MODEL_a4a116d03cd147e897c4cce196226ef4",
       "style": "IPY_MODEL_98b37aebe1844bf1995628bde85d90b3",
       "value": "<div style=\"padding: 0px 10px 0px 10px; text-align:left; word-wrap: break-word;\">array</div>"
      }
     },
     "a179c1394d6f4f709a2ffe6660ec2d62": {
      "model_module": "@jupyter-widgets/controls",
      "model_module_version": "1.4.0",
      "model_name": "HTMLModel",
      "state": {
       "layout": "IPY_MODEL_617607880f94482aa6585d7c9e4f3d6e",
       "style": "IPY_MODEL_8a220a7ba7c24e3283ead3c090cb587f",
       "value": "<div style=\"padding: 0px 10px 0px 10px; text-align:left; word-wrap: break-word;\">open_rasterio-getitem</div>"
      }
     },
     "a1b5bfcf71924883894759b7517a4c02": {
      "model_module": "@jupyter-widgets/controls",
      "model_module_version": "1.4.0",
      "model_name": "DescriptionStyleModel",
      "state": {
       "description_width": ""
      }
     },
     "a1b82a9673a94b8caf2c8eb11128b844": {
      "model_module": "@jupyter-widgets/controls",
      "model_module_version": "1.4.0",
      "model_name": "VBoxModel",
      "state": {
       "children": [
        "IPY_MODEL_d7d5178776f24afb971763036a4608a7",
        "IPY_MODEL_ee19f60823ac4c5987003eae800a9290",
        "IPY_MODEL_fc31fa8db63e47389d81601a3e56951d"
       ],
       "layout": "IPY_MODEL_7f9153dae8164dfe8736bd808972b99c"
      }
     },
     "a1e4441110b64f3bb0295b27124a1245": {
      "model_module": "@jupyter-widgets/controls",
      "model_module_version": "1.4.0",
      "model_name": "DescriptionStyleModel",
      "state": {
       "description_width": ""
      }
     },
     "a23852f0b7cd48f7b6e2689b8fd54665": {
      "model_module": "@jupyter-widgets/controls",
      "model_module_version": "1.4.0",
      "model_name": "DescriptionStyleModel",
      "state": {
       "description_width": ""
      }
     },
     "a2505a04e8e74c489e573c4f9ef07a3a": {
      "model_module": "@jupyter-widgets/base",
      "model_module_version": "1.1.0",
      "model_name": "LayoutModel",
      "state": {}
     },
     "a2732af71fe5487c801ac22e826c1845": {
      "model_module": "@jupyter-widgets/controls",
      "model_module_version": "1.4.0",
      "model_name": "DescriptionStyleModel",
      "state": {
       "description_width": ""
      }
     },
     "a2f9c95c0b8b487e8fd352c3b0264aff": {
      "model_module": "@jupyter-widgets/controls",
      "model_module_version": "1.4.0",
      "model_name": "DescriptionStyleModel",
      "state": {
       "description_width": ""
      }
     },
     "a38febad9df54fe294f75e96d295fd0e": {
      "model_module": "@jupyter-widgets/controls",
      "model_module_version": "1.4.0",
      "model_name": "HBoxModel",
      "state": {
       "children": [
        "IPY_MODEL_803ab977e70b46768750e2c946fe5af0",
        "IPY_MODEL_76c043d9ecc540f9b5946d78983ff449",
        "IPY_MODEL_49cbc771e6184d9d98c10fd89d1874ff"
       ],
       "layout": "IPY_MODEL_87ea0b446e474078b52225a43749804f"
      }
     },
     "a39474ee007f4805a5326e3d46ef7f04": {
      "model_module": "@jupyter-widgets/base",
      "model_module_version": "1.1.0",
      "model_name": "LayoutModel",
      "state": {}
     },
     "a430422108f34f80bdc25b59d67fb51f": {
      "model_module": "@jupyter-widgets/base",
      "model_module_version": "1.1.0",
      "model_name": "LayoutModel",
      "state": {}
     },
     "a43ec6e6d95843459dce63a2846dc0dd": {
      "model_module": "@jupyter-widgets/controls",
      "model_module_version": "1.4.0",
      "model_name": "HTMLModel",
      "state": {
       "layout": "IPY_MODEL_3341f153c8ea47668aa3f5e79b707b58",
       "style": "IPY_MODEL_0168a781fd7c49a69666343da52ea672",
       "value": "<div style=\"padding: 0px 10px 0px 10px; text-align:left; word-wrap: break-word;\">concatenate</div>"
      }
     },
     "a4a116d03cd147e897c4cce196226ef4": {
      "model_module": "@jupyter-widgets/base",
      "model_module_version": "1.1.0",
      "model_name": "LayoutModel",
      "state": {}
     },
     "a4d60d7b6ee14de59e8ba1c6f64dce61": {
      "model_module": "@jupyter-widgets/controls",
      "model_module_version": "1.4.0",
      "model_name": "HTMLModel",
      "state": {
       "layout": "IPY_MODEL_d790f2f6cb0845cf8ed1e5c0d712658c",
       "style": "IPY_MODEL_c565b64c26d34c9483b288c250af89aa",
       "value": "<div style=\"padding: 0px 10px 0px 10px; text-align:left; word-wrap: break-word;\">sub</div>"
      }
     },
     "a554910ec3ef4f71b17a6ceec40ef665": {
      "model_module": "@jupyter-widgets/base",
      "model_module_version": "1.1.0",
      "model_name": "LayoutModel",
      "state": {}
     },
     "a586b4f94d4e4d47aaacb5af11b5b766": {
      "model_module": "@jupyter-widgets/base",
      "model_module_version": "1.1.0",
      "model_name": "LayoutModel",
      "state": {}
     },
     "a6793e083a7a40dc8f9e6e2b88ccc52e": {
      "model_module": "@jupyter-widgets/controls",
      "model_module_version": "1.4.0",
      "model_name": "HBoxModel",
      "state": {
       "children": [
        "IPY_MODEL_75bc1c636fbe4480bc200d06c539e019",
        "IPY_MODEL_1920193d7dd74d72b85166e50ea2facd",
        "IPY_MODEL_ea48e246f0714af7b9eabcd1763314e3"
       ],
       "layout": "IPY_MODEL_0e7f89a029b94532958223d37702d549"
      }
     },
     "a6eb2d81b2d1483f92c5a54df35f3016": {
      "model_module": "@jupyter-widgets/base",
      "model_module_version": "1.1.0",
      "model_name": "LayoutModel",
      "state": {}
     },
     "a70dd80242ff4f93b9c79e4cd36c1812": {
      "model_module": "@jupyter-widgets/controls",
      "model_module_version": "1.4.0",
      "model_name": "HTMLModel",
      "state": {
       "layout": "IPY_MODEL_3fbc8a5d86b34fdba4263c42c0a4a214",
       "style": "IPY_MODEL_04512c9a095143cc958115d11bf5c59f",
       "value": "<div style=\"padding: 0px 10px 0px 10px; text-align:left; word-wrap: break-word;\">mean_combine-partial</div>"
      }
     },
     "a74203fb034645c3ae45d17340324d05": {
      "model_module": "@jupyter-widgets/controls",
      "model_module_version": "1.4.0",
      "model_name": "HTMLModel",
      "state": {
       "layout": "IPY_MODEL_9967f8b58fff4484823ad2b11b2cae4f",
       "style": "IPY_MODEL_5fd6dd68588e429487fce2897bea62ce",
       "value": "<div style=\"padding: 0px 10px 0px 10px; text-align: right\">352 / 352</div>"
      }
     },
     "a78369316eff4f3c910c4da8e1aea6ad": {
      "model_module": "@jupyter-widgets/base",
      "model_module_version": "1.1.0",
      "model_name": "LayoutModel",
      "state": {}
     },
     "a81d952723d64b58888435549395f92f": {
      "model_module": "@jupyter-widgets/base",
      "model_module_version": "1.1.0",
      "model_name": "LayoutModel",
      "state": {}
     },
     "a84168e2963242c2b661af131bbb860e": {
      "model_module": "@jupyter-widgets/controls",
      "model_module_version": "1.4.0",
      "model_name": "DescriptionStyleModel",
      "state": {
       "description_width": ""
      }
     },
     "a8658d4fa628406ea034f4cdbdc64ccc": {
      "model_module": "@jupyter-widgets/controls",
      "model_module_version": "1.4.0",
      "model_name": "FloatProgressModel",
      "state": {
       "layout": "IPY_MODEL_1cafbd3e786c46279d7025596fe71cf8",
       "max": 1,
       "style": "IPY_MODEL_676dd783cbe14af78f30a72def95c66f",
       "value": 0.9997509339975094
      }
     },
     "a89f1d4d928d41e09949e1331e8e57ca": {
      "model_module": "@jupyter-widgets/controls",
      "model_module_version": "1.4.0",
      "model_name": "ButtonModel",
      "state": {
       "description": "Scale",
       "layout": "IPY_MODEL_c5a1ced8058c4fcb9098c40d4c016b85",
       "style": "IPY_MODEL_0dfcb380b0af4eacb4cc8ffca2404bac"
      }
     },
     "a8ec422dd5c24656aa875a7d0cce251e": {
      "model_module": "@jupyter-widgets/controls",
      "model_module_version": "1.4.0",
      "model_name": "HTMLModel",
      "state": {
       "layout": "IPY_MODEL_a78369316eff4f3c910c4da8e1aea6ad",
       "style": "IPY_MODEL_220c5b1897514bcd8dd474b95986a08a",
       "value": "<div style=\"padding: 0px 10px 5px 10px\"><b>Finished:</b> 11.9s</div>"
      }
     },
     "a9696b0a1339443bb662132e45caa613": {
      "model_module": "@jupyter-widgets/controls",
      "model_module_version": "1.4.0",
      "model_name": "HTMLModel",
      "state": {
       "layout": "IPY_MODEL_886269eaaa6544f698b9b9ebd89b2d6e",
       "style": "IPY_MODEL_54c002ccba804037aedfa887a91ef3b7",
       "value": "<div style=\"padding: 0px 10px 0px 10px; text-align: right\">22 / 22</div>"
      }
     },
     "a99e5926ce0c4751a8f06bca1735a840": {
      "model_module": "@jupyter-widgets/base",
      "model_module_version": "1.1.0",
      "model_name": "LayoutModel",
      "state": {}
     },
     "a9ca275a447c450190a9ca8717497e00": {
      "model_module": "@jupyter-widgets/controls",
      "model_module_version": "1.4.0",
      "model_name": "HTMLModel",
      "state": {
       "layout": "IPY_MODEL_3a82e7536b4c42f785a1af7560645bd4",
       "style": "IPY_MODEL_9429398688ac403d86e8fa642a275da8",
       "value": "<div style=\"padding: 0px 10px 0px 10px; text-align:left; word-wrap: break-word;\">getitem</div>"
      }
     },
     "a9d58dc5de7a4205b2747da46f7524c7": {
      "model_module": "@jupyter-widgets/base",
      "model_module_version": "1.1.0",
      "model_name": "LayoutModel",
      "state": {}
     },
     "aa3924ef6bc449fb871b271e7910ed5e": {
      "model_module": "@jupyter-widgets/controls",
      "model_module_version": "1.4.0",
      "model_name": "ButtonModel",
      "state": {
       "description": "Scale",
       "layout": "IPY_MODEL_aa941f40520b409398c174937a2fb732",
       "style": "IPY_MODEL_487b69e76b614d78809e8ae0bcf498df"
      }
     },
     "aa5c1ef94f4a4f7cbbbddd7c477b097c": {
      "model_module": "@jupyter-widgets/base",
      "model_module_version": "1.1.0",
      "model_name": "LayoutModel",
      "state": {}
     },
     "aa909a1749ce4c6ca298f331d317d35e": {
      "model_module": "@jupyter-widgets/controls",
      "model_module_version": "1.4.0",
      "model_name": "HTMLModel",
      "state": {
       "layout": "IPY_MODEL_b34ccf1441e24952b72cf558950697d5",
       "style": "IPY_MODEL_24f015f31fcb4dbbbc34e2b5e33a4160",
       "value": "<div style=\"padding: 0px 10px 0px 10px; text-align: right\">8028 / 8030</div>"
      }
     },
     "aa941f40520b409398c174937a2fb732": {
      "model_module": "@jupyter-widgets/base",
      "model_module_version": "1.1.0",
      "model_name": "LayoutModel",
      "state": {
       "width": "150px"
      }
     },
     "aaea5e090d9a45af923069a6e1cb5226": {
      "model_module": "@jupyter-widgets/controls",
      "model_module_version": "1.4.0",
      "model_name": "FloatProgressModel",
      "state": {
       "layout": "IPY_MODEL_0c721a3342694e1a8e3a18175ac1aa4d",
       "max": 1,
       "style": "IPY_MODEL_2ab328dd16ff426b8a4ce6599c89d9cd",
       "value": 0.9997509339975094
      }
     },
     "ab5d929d1b5a49da93a7da65c34eb937": {
      "model_module": "@jupyter-widgets/base",
      "model_module_version": "1.1.0",
      "model_name": "LayoutModel",
      "state": {}
     },
     "ab81854e948145eabec9be90e13106b6": {
      "model_module": "@jupyter-widgets/controls",
      "model_module_version": "1.4.0",
      "model_name": "ProgressStyleModel",
      "state": {
       "description_width": ""
      }
     },
     "aba350218a1b47e2ad401b019606b0b5": {
      "model_module": "@jupyter-widgets/controls",
      "model_module_version": "1.4.0",
      "model_name": "DescriptionStyleModel",
      "state": {
       "description_width": ""
      }
     },
     "ac23e02737734cf1a2631ef06a1df260": {
      "model_module": "@jupyter-widgets/base",
      "model_module_version": "1.1.0",
      "model_name": "LayoutModel",
      "state": {}
     },
     "ac289cd0bf1149d4a0550e02445355f4": {
      "model_module": "@jupyter-widgets/base",
      "model_module_version": "1.1.0",
      "model_name": "LayoutModel",
      "state": {}
     },
     "ac2aa4af921748979a85d026f2f5a701": {
      "model_module": "@jupyter-widgets/controls",
      "model_module_version": "1.4.0",
      "model_name": "FloatProgressModel",
      "state": {
       "bar_style": "success",
       "layout": "IPY_MODEL_32ae2174933b4e1981d14350c0e99761",
       "max": 1,
       "style": "IPY_MODEL_22ba36b8dc7a46e2857250a45196bbdc",
       "value": 1
      }
     },
     "ac58a7f392264503bdb866678c06dddb": {
      "model_module": "@jupyter-widgets/controls",
      "model_module_version": "1.4.0",
      "model_name": "DescriptionStyleModel",
      "state": {
       "description_width": ""
      }
     },
     "ac7711c8ef4e49c5bcddac3cee7cc4d9": {
      "model_module": "@jupyter-widgets/controls",
      "model_module_version": "1.4.0",
      "model_name": "DescriptionStyleModel",
      "state": {
       "description_width": ""
      }
     },
     "ac829f6f75d94c61bcb67699cf6728fc": {
      "model_module": "@jupyter-widgets/base",
      "model_module_version": "1.1.0",
      "model_name": "LayoutModel",
      "state": {}
     },
     "adc3b52d874d40ea924a427653473a98": {
      "model_module": "@jupyter-widgets/base",
      "model_module_version": "1.1.0",
      "model_name": "LayoutModel",
      "state": {}
     },
     "adec7a76ab074f09a37b5d86815cfa50": {
      "model_module": "@jupyter-widgets/controls",
      "model_module_version": "1.4.0",
      "model_name": "HTMLModel",
      "state": {
       "layout": "IPY_MODEL_72703a1a341f4a4694e82445f1c0359f",
       "style": "IPY_MODEL_b5eb7434404949d6bd41ccab405975a4",
       "value": "<div style=\"padding: 0px 10px 0px 10px; text-align: right\">8030 / 8030</div>"
      }
     },
     "ae878bf18f2d45669fb566110fc9ca1c": {
      "model_module": "@jupyter-widgets/base",
      "model_module_version": "1.1.0",
      "model_name": "LayoutModel",
      "state": {
       "min_width": "150px"
      }
     },
     "ae9302d7821f4369a057f7b8edd51a40": {
      "model_module": "@jupyter-widgets/base",
      "model_module_version": "1.1.0",
      "model_name": "LayoutModel",
      "state": {}
     },
     "af00b9abc54348c3a7e387e46deefb81": {
      "model_module": "@jupyter-widgets/controls",
      "model_module_version": "1.4.0",
      "model_name": "DescriptionStyleModel",
      "state": {
       "description_width": ""
      }
     },
     "af03681ff6704f7f8ca55b619682e74e": {
      "model_module": "@jupyter-widgets/controls",
      "model_module_version": "1.4.0",
      "model_name": "HTMLModel",
      "state": {
       "layout": "IPY_MODEL_5af629bcc2214fafba53f060ce60705d",
       "style": "IPY_MODEL_1b5b85a606da47bd93c3dd91f77ab5ab",
       "value": "<div style=\"padding: 0px 10px 0px 10px; text-align: right\">8028 / 8030</div>"
      }
     },
     "af36345506fe48e3adb0a92782af7af4": {
      "model_module": "@jupyter-widgets/controls",
      "model_module_version": "1.4.0",
      "model_name": "FloatProgressModel",
      "state": {
       "bar_style": "success",
       "layout": "IPY_MODEL_d14a178c9e974d0381d58070c7f62403",
       "max": 1,
       "style": "IPY_MODEL_4a335d35aa064157bd1b7ded8d58274a",
       "value": 1
      }
     },
     "af48d3acc291409ca502b262738296ff": {
      "model_module": "@jupyter-widgets/controls",
      "model_module_version": "1.4.0",
      "model_name": "HBoxModel",
      "state": {
       "children": [
        "IPY_MODEL_4e2da04cf87349d2999aa37d58ac022d",
        "IPY_MODEL_952fe1208d4c4737a4cf5252915e2547",
        "IPY_MODEL_0754a9da184746dcbc0edc9fe00978bb"
       ],
       "layout": "IPY_MODEL_6fd303af2ffb4ef1afc4da158de887a5"
      }
     },
     "b07d136d5b1a49aea93de3770cae34f6": {
      "model_module": "@jupyter-widgets/base",
      "model_module_version": "1.1.0",
      "model_name": "LayoutModel",
      "state": {
       "min_width": "150px"
      }
     },
     "b07eb555885145e5b7c576d3e0aa605f": {
      "model_module": "@jupyter-widgets/controls",
      "model_module_version": "1.4.0",
      "model_name": "IntTextModel",
      "state": {
       "description": "Minimum",
       "layout": "IPY_MODEL_c5a1ced8058c4fcb9098c40d4c016b85",
       "step": 1,
       "style": "IPY_MODEL_3f57e98c5a8e40c99ed77de6cdaf40dc"
      }
     },
     "b0c529c52050426c82113493b67594b6": {
      "model_module": "@jupyter-widgets/controls",
      "model_module_version": "1.4.0",
      "model_name": "DescriptionStyleModel",
      "state": {
       "description_width": ""
      }
     },
     "b0e5045a5c914292813e030041bd1ff4": {
      "model_module": "@jupyter-widgets/controls",
      "model_module_version": "1.4.0",
      "model_name": "FloatProgressModel",
      "state": {
       "layout": "IPY_MODEL_e772706cf50f4e62a804d4b820c07db6",
       "max": 1,
       "style": "IPY_MODEL_2d9734d9f88042cd9dc311259921aa9a",
       "value": 1
      }
     },
     "b0e7c961cf804b24b5335e64b620930f": {
      "model_module": "@jupyter-widgets/base",
      "model_module_version": "1.1.0",
      "model_name": "LayoutModel",
      "state": {}
     },
     "b10b4a5f67c2498e973d57d60eb929bc": {
      "model_module": "@jupyter-widgets/controls",
      "model_module_version": "1.4.0",
      "model_name": "FloatProgressModel",
      "state": {
       "bar_style": "success",
       "layout": "IPY_MODEL_61db205ba51543829fe91b3b231f238c",
       "max": 1,
       "style": "IPY_MODEL_8eabb94278da46419a4bb131326be465",
       "value": 1
      }
     },
     "b1542fa304e14a3e9c84953fd9a12e45": {
      "model_module": "@jupyter-widgets/base",
      "model_module_version": "1.1.0",
      "model_name": "LayoutModel",
      "state": {}
     },
     "b2139616808d4264b42daffc8f228cb8": {
      "model_module": "@jupyter-widgets/base",
      "model_module_version": "1.1.0",
      "model_name": "LayoutModel",
      "state": {}
     },
     "b27bc4a51cde48cfa948ba40cfdba664": {
      "model_module": "@jupyter-widgets/base",
      "model_module_version": "1.1.0",
      "model_name": "LayoutModel",
      "state": {}
     },
     "b34ccf1441e24952b72cf558950697d5": {
      "model_module": "@jupyter-widgets/base",
      "model_module_version": "1.1.0",
      "model_name": "LayoutModel",
      "state": {}
     },
     "b3534c2123e049d9a84b7fe9376461ab": {
      "model_module": "@jupyter-widgets/base",
      "model_module_version": "1.1.0",
      "model_name": "LayoutModel",
      "state": {}
     },
     "b37e4f2c230c4d9497b619a20a6147df": {
      "model_module": "@jupyter-widgets/controls",
      "model_module_version": "1.4.0",
      "model_name": "ProgressStyleModel",
      "state": {
       "description_width": ""
      }
     },
     "b3b8e55481d44dfa8bc81b506c6d3ddf": {
      "model_module": "@jupyter-widgets/controls",
      "model_module_version": "1.4.0",
      "model_name": "DescriptionStyleModel",
      "state": {
       "description_width": ""
      }
     },
     "b48823c81a114e439b1dab956b31f9f5": {
      "model_module": "@jupyter-widgets/controls",
      "model_module_version": "1.4.0",
      "model_name": "HTMLModel",
      "state": {
       "layout": "IPY_MODEL_2e9198b493814522ba18cd6c692cff07",
       "style": "IPY_MODEL_309ffff02126496796d3f9bb392fc137",
       "value": "<div style=\"padding: 0px 10px 0px 10px; text-align: right\">352 / 352</div>"
      }
     },
     "b4d4293b087142c0bb95b09c6dfefd06": {
      "model_module": "@jupyter-widgets/base",
      "model_module_version": "1.1.0",
      "model_name": "LayoutModel",
      "state": {}
     },
     "b5140d6d9d774d30a1dc4e998d055d3b": {
      "model_module": "@jupyter-widgets/base",
      "model_module_version": "1.1.0",
      "model_name": "LayoutModel",
      "state": {}
     },
     "b5a4a996d3d74b5899192ab335547e0d": {
      "model_module": "@jupyter-widgets/base",
      "model_module_version": "1.1.0",
      "model_name": "LayoutModel",
      "state": {
       "width": "150px"
      }
     },
     "b5aabe240e064f81b284de721e220f6b": {
      "model_module": "@jupyter-widgets/base",
      "model_module_version": "1.1.0",
      "model_name": "LayoutModel",
      "state": {}
     },
     "b5c6998abc9341ab88381181e2558275": {
      "model_module": "@jupyter-widgets/controls",
      "model_module_version": "1.4.0",
      "model_name": "DescriptionStyleModel",
      "state": {
       "description_width": ""
      }
     },
     "b5eb7434404949d6bd41ccab405975a4": {
      "model_module": "@jupyter-widgets/controls",
      "model_module_version": "1.4.0",
      "model_name": "DescriptionStyleModel",
      "state": {
       "description_width": ""
      }
     },
     "b6184308a2904e5090fe60c5dadf585b": {
      "model_module": "@jupyter-widgets/base",
      "model_module_version": "1.1.0",
      "model_name": "LayoutModel",
      "state": {}
     },
     "b61caadd13884ab1bec2b681051cb8a5": {
      "model_module": "@jupyter-widgets/controls",
      "model_module_version": "1.4.0",
      "model_name": "DescriptionStyleModel",
      "state": {
       "description_width": ""
      }
     },
     "b67edcdd3f8e436d8656ee4c7d243ad2": {
      "model_module": "@jupyter-widgets/base",
      "model_module_version": "1.1.0",
      "model_name": "LayoutModel",
      "state": {}
     },
     "b76239a410194593a5749b355e902566": {
      "model_module": "@jupyter-widgets/controls",
      "model_module_version": "1.4.0",
      "model_name": "ButtonModel",
      "state": {
       "description": "Adapt",
       "layout": "IPY_MODEL_d831e5a52bdd4a90b77f1d8766891ea7",
       "style": "IPY_MODEL_5f2a656aefc94a93b3fd0bc4c229eb37"
      }
     },
     "b76cacbd2d7d4aecacb2d0be401b6197": {
      "model_module": "@jupyter-widgets/base",
      "model_module_version": "1.1.0",
      "model_name": "LayoutModel",
      "state": {}
     },
     "b7fcce84596542ea81ed7f2e50f831aa": {
      "model_module": "@jupyter-widgets/controls",
      "model_module_version": "1.4.0",
      "model_name": "DescriptionStyleModel",
      "state": {
       "description_width": ""
      }
     },
     "b8375d3943fd4f559a7337685c985836": {
      "model_module": "@jupyter-widgets/controls",
      "model_module_version": "1.4.0",
      "model_name": "HTMLModel",
      "state": {
       "layout": "IPY_MODEL_9929a4faa05c4a309e0d236e30132e2f",
       "style": "IPY_MODEL_be32db2c1c8746a8995c193b6e1b9028",
       "value": "<div style=\"padding: 0px 10px 0px 10px; text-align:left; word-wrap: break-word;\">array-original</div>"
      }
     },
     "b840e3ff7389475591a772c60acd35ec": {
      "model_module": "@jupyter-widgets/controls",
      "model_module_version": "1.4.0",
      "model_name": "DescriptionStyleModel",
      "state": {
       "description_width": ""
      }
     },
     "b85eb0082e074f418c6cc26b04016957": {
      "model_module": "@jupyter-widgets/base",
      "model_module_version": "1.1.0",
      "model_name": "LayoutModel",
      "state": {}
     },
     "b94518c460f84d4287237f9cb3dc7844": {
      "model_module": "@jupyter-widgets/base",
      "model_module_version": "1.1.0",
      "model_name": "LayoutModel",
      "state": {}
     },
     "b94e790a40d240f39eca675f457b312c": {
      "model_module": "@jupyter-widgets/base",
      "model_module_version": "1.1.0",
      "model_name": "LayoutModel",
      "state": {}
     },
     "b97d38caf56a49088ad680d596f0e87b": {
      "model_module": "@jupyter-widgets/base",
      "model_module_version": "1.1.0",
      "model_name": "LayoutModel",
      "state": {}
     },
     "ba30ea341d3242939303611ea354db68": {
      "model_module": "@jupyter-widgets/base",
      "model_module_version": "1.1.0",
      "model_name": "LayoutModel",
      "state": {}
     },
     "bb8230cfa44c4707b23bcfe9c56440ea": {
      "model_module": "@jupyter-widgets/controls",
      "model_module_version": "1.4.0",
      "model_name": "HBoxModel",
      "state": {
       "children": [
        "IPY_MODEL_89cbf76fb1d24c4b9cbd46e5e3ec3eb1",
        "IPY_MODEL_f9a8b61d7cd9492b9371d76f21473b47",
        "IPY_MODEL_57a057ada1354bec8790aa53423237e5"
       ],
       "layout": "IPY_MODEL_7ae041b2e1164162b2a3ce6c165a5de7"
      }
     },
     "bba5032552f14f38a3064478aa6ca866": {
      "model_module": "@jupyter-widgets/controls",
      "model_module_version": "1.4.0",
      "model_name": "ProgressStyleModel",
      "state": {
       "description_width": ""
      }
     },
     "bbd985f840344f7f91fd411c3c2fd723": {
      "model_module": "@jupyter-widgets/controls",
      "model_module_version": "1.4.0",
      "model_name": "FloatProgressModel",
      "state": {
       "bar_style": "success",
       "layout": "IPY_MODEL_7f63982cdba24b79aa743a6c9708a98c",
       "max": 1,
       "style": "IPY_MODEL_7e7fa5e026694846bb66896ed6ec2421",
       "value": 1
      }
     },
     "bbda68fec0084818ac628ffa9e6ddf1c": {
      "model_module": "@jupyter-widgets/base",
      "model_module_version": "1.1.0",
      "model_name": "LayoutModel",
      "state": {}
     },
     "bcb3d7311596455bb539284248fc724e": {
      "model_module": "@jupyter-widgets/controls",
      "model_module_version": "1.4.0",
      "model_name": "HTMLModel",
      "state": {
       "layout": "IPY_MODEL_712d3e2448d24a768252c47a61f5b0b5",
       "style": "IPY_MODEL_c6e781b9380743878c8c3a714c11c46e",
       "value": "<div style=\"padding: 0px 10px 0px 10px; text-align: right\">16 / 16</div>"
      }
     },
     "bd05957f2cdf49d6af5a5f9c1bc80b42": {
      "model_module": "@jupyter-widgets/base",
      "model_module_version": "1.1.0",
      "model_name": "LayoutModel",
      "state": {}
     },
     "be02c9994bf74100b7d554d9f439c2ee": {
      "model_module": "@jupyter-widgets/controls",
      "model_module_version": "1.4.0",
      "model_name": "DescriptionStyleModel",
      "state": {
       "description_width": ""
      }
     },
     "be32db2c1c8746a8995c193b6e1b9028": {
      "model_module": "@jupyter-widgets/controls",
      "model_module_version": "1.4.0",
      "model_name": "DescriptionStyleModel",
      "state": {
       "description_width": ""
      }
     },
     "be4803e499144d22af396fa6b7099291": {
      "model_module": "@jupyter-widgets/controls",
      "model_module_version": "1.4.0",
      "model_name": "DescriptionStyleModel",
      "state": {
       "description_width": ""
      }
     },
     "bec295cfce584c6ca66f0d1279ecc845": {
      "model_module": "@jupyter-widgets/controls",
      "model_module_version": "1.4.0",
      "model_name": "HTMLModel",
      "state": {
       "layout": "IPY_MODEL_aa5c1ef94f4a4f7cbbbddd7c477b097c",
       "style": "IPY_MODEL_750ac7d95f3e4417b139568bb34711c2",
       "value": "<div style=\"padding: 0px 10px 0px 10px; text-align: right\">8028 / 8030</div>"
      }
     },
     "bf0dc2e651e146f0b08427d6d8bd14e4": {
      "model_module": "@jupyter-widgets/controls",
      "model_module_version": "1.4.0",
      "model_name": "HTMLModel",
      "state": {
       "layout": "IPY_MODEL_a430422108f34f80bdc25b59d67fb51f",
       "style": "IPY_MODEL_6e215ea12e2945129cc7f738c15c280a",
       "value": "<div style=\"padding: 0px 10px 0px 10px; text-align:left; word-wrap: break-word;\">transpose</div>"
      }
     },
     "bf46d215ca794600a4ed3a2cabe9519e": {
      "model_module": "@jupyter-widgets/controls",
      "model_module_version": "1.4.0",
      "model_name": "FloatProgressModel",
      "state": {
       "bar_style": "success",
       "layout": "IPY_MODEL_3d6ab0736c514469b5e05dbdc7aa930b",
       "max": 1,
       "style": "IPY_MODEL_e0aa9c47896a499aa1665e941cf43a5c",
       "value": 1
      }
     },
     "bf48ff664ca94f46a5e707f8adb12b7f": {
      "model_module": "@jupyter-widgets/controls",
      "model_module_version": "1.4.0",
      "model_name": "FloatProgressModel",
      "state": {
       "layout": "IPY_MODEL_b5140d6d9d774d30a1dc4e998d055d3b",
       "max": 1,
       "style": "IPY_MODEL_3d5f067670e4471bba5ba2484932e217",
       "value": 1
      }
     },
     "bf832b0d732343519ef6b394b6960b8d": {
      "model_module": "@jupyter-widgets/controls",
      "model_module_version": "1.4.0",
      "model_name": "DescriptionStyleModel",
      "state": {
       "description_width": ""
      }
     },
     "bf9ad3fb1366417abe0776d127f9afdc": {
      "model_module": "@jupyter-widgets/controls",
      "model_module_version": "1.4.0",
      "model_name": "HTMLModel",
      "state": {
       "layout": "IPY_MODEL_89fc0a2d8482400e854bf569ec2fd419",
       "style": "IPY_MODEL_27a0a61e58e54798839684c3c7aa9f6a",
       "value": "<div style=\"padding: 0px 10px 0px 10px; text-align: right\">1 / 1</div>"
      }
     },
     "bfab21d19bf344f1b420cb708238aaab": {
      "model_module": "@jupyter-widgets/base",
      "model_module_version": "1.1.0",
      "model_name": "LayoutModel",
      "state": {}
     },
     "bfdf1aa0e50d4cd1bc9eca9c924e48eb": {
      "model_module": "@jupyter-widgets/controls",
      "model_module_version": "1.4.0",
      "model_name": "DescriptionStyleModel",
      "state": {
       "description_width": ""
      }
     },
     "bfec3480594d4daabcb7ba3403d5379f": {
      "model_module": "@jupyter-widgets/base",
      "model_module_version": "1.1.0",
      "model_name": "LayoutModel",
      "state": {}
     },
     "c0a52b916430488da86b283b156eaf39": {
      "model_module": "@jupyter-widgets/base",
      "model_module_version": "1.1.0",
      "model_name": "LayoutModel",
      "state": {}
     },
     "c0df72ef71ac4ad4a464b2f5ec3b4af6": {
      "model_module": "@jupyter-widgets/base",
      "model_module_version": "1.1.0",
      "model_name": "LayoutModel",
      "state": {}
     },
     "c1868e7945894e21af78352d0b7d76a7": {
      "model_module": "@jupyter-widgets/controls",
      "model_module_version": "1.4.0",
      "model_name": "VBoxModel",
      "state": {
       "children": [
        "IPY_MODEL_ec7ce77d5e904d01acfaab4aaaa36d90",
        "IPY_MODEL_7718e0b97d75490aaec6d696e6d7a028",
        "IPY_MODEL_9562c875ddc245b5b0a3ff279e555814"
       ],
       "layout": "IPY_MODEL_0f57491fc6ac43f8b8f5f6b9d4a147fa"
      }
     },
     "c1b741a3293448338d7c38c57868d14e": {
      "model_module": "@jupyter-widgets/controls",
      "model_module_version": "1.4.0",
      "model_name": "FloatProgressModel",
      "state": {
       "bar_style": "success",
       "layout": "IPY_MODEL_782f1fb4e10541a280748ea776695613",
       "max": 1,
       "style": "IPY_MODEL_257ebb9ef61f47e99003a5128774b523",
       "value": 1
      }
     },
     "c26f7f7a701e4f12a2493914593e1b06": {
      "model_module": "@jupyter-widgets/controls",
      "model_module_version": "1.4.0",
      "model_name": "DescriptionStyleModel",
      "state": {
       "description_width": ""
      }
     },
     "c2898b95140f477bbd4fef00c12b8824": {
      "model_module": "@jupyter-widgets/controls",
      "model_module_version": "1.4.0",
      "model_name": "HTMLModel",
      "state": {
       "layout": "IPY_MODEL_c0a52b916430488da86b283b156eaf39",
       "style": "IPY_MODEL_323c6738d9214de09073a8693b0fcb14",
       "value": "<div style=\"padding: 0px 10px 0px 10px; text-align:left; word-wrap: break-word;\">broadcast_to-where-transpose</div>"
      }
     },
     "c29e30c78c92451a8bd465b857812e47": {
      "model_module": "@jupyter-widgets/controls",
      "model_module_version": "1.4.0",
      "model_name": "HTMLModel",
      "state": {
       "layout": "IPY_MODEL_31e1f89dce784d83b91d759d1b84c5d6",
       "style": "IPY_MODEL_b61caadd13884ab1bec2b681051cb8a5",
       "value": "<div style=\"padding: 0px 10px 0px 10px; text-align:left; word-wrap: break-word;\">getitem-truediv</div>"
      }
     },
     "c2ca16d18d134374a3481c7f90da0bb4": {
      "model_module": "@jupyter-widgets/controls",
      "model_module_version": "1.4.0",
      "model_name": "FloatProgressModel",
      "state": {
       "layout": "IPY_MODEL_e2d1faf97cf54ac7a44d3deb105215d5",
       "max": 1,
       "style": "IPY_MODEL_3966784fe5674d9fade0c10fdd022eef",
       "value": 0.9972602739726028
      }
     },
     "c2e2a4d510f1420c883a7b6ef69b781a": {
      "model_module": "@jupyter-widgets/base",
      "model_module_version": "1.1.0",
      "model_name": "LayoutModel",
      "state": {}
     },
     "c320cfee32924544b3eab7a399f6fbf5": {
      "model_module": "@jupyter-widgets/base",
      "model_module_version": "1.1.0",
      "model_name": "LayoutModel",
      "state": {}
     },
     "c36b2dac6de24bcca34f7fda1040e1ed": {
      "model_module": "@jupyter-widgets/controls",
      "model_module_version": "1.4.0",
      "model_name": "DescriptionStyleModel",
      "state": {
       "description_width": ""
      }
     },
     "c378d03c9531486d948d95905eeb62b8": {
      "model_module": "@jupyter-widgets/base",
      "model_module_version": "1.1.0",
      "model_name": "LayoutModel",
      "state": {}
     },
     "c386fbe178794267858d1e171f8b0b29": {
      "model_module": "@jupyter-widgets/controls",
      "model_module_version": "1.4.0",
      "model_name": "IntTextModel",
      "state": {
       "description": "Minimum",
       "layout": "IPY_MODEL_aa941f40520b409398c174937a2fb732",
       "step": 1,
       "style": "IPY_MODEL_6744a5735b514a1b87c7c4446141c56d"
      }
     },
     "c3b5f66ab21b4d84b5984156db5c4855": {
      "model_module": "@jupyter-widgets/controls",
      "model_module_version": "1.4.0",
      "model_name": "HTMLModel",
      "state": {
       "layout": "IPY_MODEL_c85861ad3d9d40f2b9e6a7065a6fc095",
       "style": "IPY_MODEL_4a0ef7adb944405e92a53b9c3c0f1999",
       "value": "<div style=\"padding: 0px 10px 0px 10px; text-align: right\">352 / 352</div>"
      }
     },
     "c3d2ab6edece4ed8b6b904efcc7d6c68": {
      "model_module": "@jupyter-widgets/controls",
      "model_module_version": "1.4.0",
      "model_name": "HBoxModel",
      "state": {
       "children": [
        "IPY_MODEL_adec7a76ab074f09a37b5d86815cfa50",
        "IPY_MODEL_5662b6f63fb14e58b35986733f3260ab",
        "IPY_MODEL_a4d60d7b6ee14de59e8ba1c6f64dce61"
       ],
       "layout": "IPY_MODEL_4f84972ab9004962b154634c1d42ec3a"
      }
     },
     "c405622376114c599c0b40c9eabf33a2": {
      "model_module": "@jupyter-widgets/controls",
      "model_module_version": "1.4.0",
      "model_name": "FloatProgressModel",
      "state": {
       "bar_style": "success",
       "layout": "IPY_MODEL_63edb8a398214748bd8ad49ebb5423ae",
       "max": 1,
       "style": "IPY_MODEL_9a8f3a9417084ddcb04ee4ca186597ab",
       "value": 1
      }
     },
     "c46351fd22b1498f8cb024358ce20e3f": {
      "model_module": "@jupyter-widgets/controls",
      "model_module_version": "1.4.0",
      "model_name": "ButtonStyleModel",
      "state": {}
     },
     "c4d0f7ad2d1244d2bb0c8d4e8210889d": {
      "model_module": "@jupyter-widgets/controls",
      "model_module_version": "1.4.0",
      "model_name": "HBoxModel",
      "state": {
       "children": [
        "IPY_MODEL_57fc4c6847ef41ff8d12b5ef3adee4a1",
        "IPY_MODEL_234c8aceac1e4ed9a405b6a06eaaad1c",
        "IPY_MODEL_a0f2c6b8b6454e7e97379c25bcd7895b"
       ],
       "layout": "IPY_MODEL_6abc5afc278845f98e491068cb74c254"
      }
     },
     "c4ea26740c3a4e22811cb7c2eec74af3": {
      "model_module": "@jupyter-widgets/controls",
      "model_module_version": "1.4.0",
      "model_name": "FloatProgressModel",
      "state": {
       "bar_style": "success",
       "layout": "IPY_MODEL_86c0e579b93140aaae5fb4effc447188",
       "max": 1,
       "style": "IPY_MODEL_9639dbda5a1b49fa9ecdd6f84dfac275",
       "value": 1
      }
     },
     "c54762b97acd4a0a9418dbb5eda31251": {
      "model_module": "@jupyter-widgets/base",
      "model_module_version": "1.1.0",
      "model_name": "LayoutModel",
      "state": {}
     },
     "c565b64c26d34c9483b288c250af89aa": {
      "model_module": "@jupyter-widgets/controls",
      "model_module_version": "1.4.0",
      "model_name": "DescriptionStyleModel",
      "state": {
       "description_width": ""
      }
     },
     "c580407f68aa484a9c26ea153005d253": {
      "model_module": "@jupyter-widgets/base",
      "model_module_version": "1.1.0",
      "model_name": "LayoutModel",
      "state": {}
     },
     "c5a1ced8058c4fcb9098c40d4c016b85": {
      "model_module": "@jupyter-widgets/base",
      "model_module_version": "1.1.0",
      "model_name": "LayoutModel",
      "state": {
       "width": "150px"
      }
     },
     "c5a7d1306c9c4c94961fe79f3838ff8e": {
      "model_module": "@jupyter-widgets/controls",
      "model_module_version": "1.4.0",
      "model_name": "DescriptionStyleModel",
      "state": {
       "description_width": ""
      }
     },
     "c62f9c661fcf42ae95e0ab25a8562ddd": {
      "model_module": "@jupyter-widgets/controls",
      "model_module_version": "1.4.0",
      "model_name": "DescriptionStyleModel",
      "state": {
       "description_width": ""
      }
     },
     "c664c9009e104286aa160b235ae49671": {
      "model_module": "@jupyter-widgets/base",
      "model_module_version": "1.1.0",
      "model_name": "LayoutModel",
      "state": {}
     },
     "c6a12f4f1fa9487e89c351127caa6d78": {
      "model_module": "@jupyter-widgets/controls",
      "model_module_version": "1.4.0",
      "model_name": "DescriptionStyleModel",
      "state": {
       "description_width": ""
      }
     },
     "c6bf8c23bc334d309d25e6ad6bc74f4b": {
      "model_module": "@jupyter-widgets/controls",
      "model_module_version": "1.4.0",
      "model_name": "DescriptionStyleModel",
      "state": {
       "description_width": ""
      }
     },
     "c6d113a97f8d47d4862984fc5bf21846": {
      "model_module": "@jupyter-widgets/controls",
      "model_module_version": "1.4.0",
      "model_name": "HBoxModel",
      "state": {
       "children": [
        "IPY_MODEL_285aa103cba0410b9fa9c1204c75f28c",
        "IPY_MODEL_dded2de71cc34178a1baa2b1a68b9db3",
        "IPY_MODEL_5e5b26dc62834332808a381d759fc829"
       ],
       "layout": "IPY_MODEL_62f4254fb3c846078ad15d283788fd7f"
      }
     },
     "c6e781b9380743878c8c3a714c11c46e": {
      "model_module": "@jupyter-widgets/controls",
      "model_module_version": "1.4.0",
      "model_name": "DescriptionStyleModel",
      "state": {
       "description_width": ""
      }
     },
     "c758be34ccd741e596de6ba6da3e2877": {
      "model_module": "@jupyter-widgets/base",
      "model_module_version": "1.1.0",
      "model_name": "LayoutModel",
      "state": {}
     },
     "c76da8c0a08042b0a69f2202a909ff98": {
      "model_module": "@jupyter-widgets/base",
      "model_module_version": "1.1.0",
      "model_name": "LayoutModel",
      "state": {}
     },
     "c8355f65e31f4d4997ef22302cdf382b": {
      "model_module": "@jupyter-widgets/controls",
      "model_module_version": "1.4.0",
      "model_name": "VBoxModel",
      "state": {
       "children": [
        "IPY_MODEL_33a5ac04bc87447fab4a4a9ab8b87628",
        "IPY_MODEL_ed9eb5bb0e6f463c8a86f5088e1daa31"
       ],
       "layout": "IPY_MODEL_3e0edfbebd044222b9b8a33b8addbeae"
      }
     },
     "c85861ad3d9d40f2b9e6a7065a6fc095": {
      "model_module": "@jupyter-widgets/base",
      "model_module_version": "1.1.0",
      "model_name": "LayoutModel",
      "state": {}
     },
     "c88b4a025fdc435ca0e06cc01d9b9d4d": {
      "model_module": "@jupyter-widgets/controls",
      "model_module_version": "1.4.0",
      "model_name": "FloatProgressModel",
      "state": {
       "layout": "IPY_MODEL_f5871f38980d4ac898821d0960af8da4",
       "max": 1,
       "style": "IPY_MODEL_28f2cd35e0084082a2d9d5f96d317be1",
       "value": 0.9997509339975094
      }
     },
     "c8c401a42e874dba9ccddfad4760780b": {
      "model_module": "@jupyter-widgets/controls",
      "model_module_version": "1.4.0",
      "model_name": "DescriptionStyleModel",
      "state": {
       "description_width": ""
      }
     },
     "c92f4f671bb8402f9c18a9cf7a8f3b33": {
      "model_module": "@jupyter-widgets/base",
      "model_module_version": "1.1.0",
      "model_name": "LayoutModel",
      "state": {
       "min_width": "500px"
      }
     },
     "c9abb10630644cd0a00670f212ff2733": {
      "model_module": "@jupyter-widgets/controls",
      "model_module_version": "1.4.0",
      "model_name": "HBoxModel",
      "state": {
       "children": [
        "IPY_MODEL_3c1d430c51ff4f178fe609f432bedaca",
        "IPY_MODEL_ca0d0bb993614f66abb83a93ee7ef03e",
        "IPY_MODEL_cf8ff3c2e3474790bbc70b66425a30b0"
       ],
       "layout": "IPY_MODEL_8f4e799d7b0848169898235cc8ff34b2"
      }
     },
     "c9dece1b7471421e9eb552f45e8a70c6": {
      "model_module": "@jupyter-widgets/controls",
      "model_module_version": "1.4.0",
      "model_name": "ButtonStyleModel",
      "state": {}
     },
     "ca00890f42ce423fab0ebe2548415fb3": {
      "model_module": "@jupyter-widgets/base",
      "model_module_version": "1.1.0",
      "model_name": "LayoutModel",
      "state": {}
     },
     "ca0d0bb993614f66abb83a93ee7ef03e": {
      "model_module": "@jupyter-widgets/controls",
      "model_module_version": "1.4.0",
      "model_name": "FloatProgressModel",
      "state": {
       "layout": "IPY_MODEL_67b74b89dbc648c3895b29ae660544b8",
       "max": 1,
       "style": "IPY_MODEL_5b57059363864c60bc0784e5b9d01d92",
       "value": 0.9998754669987546
      }
     },
     "ca31f1dce2db451e8b625cbed6a3aee8": {
      "model_module": "@jupyter-widgets/controls",
      "model_module_version": "1.4.0",
      "model_name": "HTMLModel",
      "state": {
       "layout": "IPY_MODEL_c2e2a4d510f1420c883a7b6ef69b781a",
       "style": "IPY_MODEL_7f9cfe9168cc491c961ed1e944149fd5",
       "value": "<div style=\"padding: 0px 10px 0px 10px; text-align: right\">1 / 1</div>"
      }
     },
     "ca359f2cd9924425a0863294ca3561ba": {
      "model_module": "@jupyter-widgets/controls",
      "model_module_version": "1.4.0",
      "model_name": "HTMLModel",
      "state": {
       "layout": "IPY_MODEL_1bfd54bc8df74bc28cc8410f28912253",
       "style": "IPY_MODEL_78f0cbf9d1bb46fe8ae0171127841910",
       "value": "<div style=\"padding: 0px 10px 0px 10px; text-align: right\">16060 / 16060</div>"
      }
     },
     "ca7ac5cb9be6493b9629d7217b51f60a": {
      "model_module": "@jupyter-widgets/base",
      "model_module_version": "1.1.0",
      "model_name": "LayoutModel",
      "state": {}
     },
     "ca9e2339e9604097a3635719e6c03677": {
      "model_module": "@jupyter-widgets/controls",
      "model_module_version": "1.4.0",
      "model_name": "DescriptionStyleModel",
      "state": {
       "description_width": ""
      }
     },
     "caf2ec9688744d97a567133cd2727d7a": {
      "model_module": "@jupyter-widgets/controls",
      "model_module_version": "1.4.0",
      "model_name": "DescriptionStyleModel",
      "state": {
       "description_width": ""
      }
     },
     "cb3ba7b8c763437eac1ea8ef5894679c": {
      "model_module": "@jupyter-widgets/base",
      "model_module_version": "1.1.0",
      "model_name": "LayoutModel",
      "state": {}
     },
     "cb445e683912406581b40e8c60cc2b6d": {
      "model_module": "@jupyter-widgets/controls",
      "model_module_version": "1.4.0",
      "model_name": "HTMLModel",
      "state": {
       "layout": "IPY_MODEL_2f40c712f202453dbe2ecead27324f7a",
       "style": "IPY_MODEL_959bb24c3bec4ec99a699574979a0074",
       "value": "<div style=\"padding: 0px 10px 0px 10px; text-align:left; word-wrap: break-word;\">open_rasterio-getitem</div>"
      }
     },
     "cb639e0b539e47d1b1bb1b2ea0e8781a": {
      "model_module": "@jupyter-widgets/controls",
      "model_module_version": "1.4.0",
      "model_name": "VBoxModel",
      "state": {
       "children": [
        "IPY_MODEL_d9b1487639eb4c2498556c43f838d3dc",
        "IPY_MODEL_5ceb0cb50500407c9596e465586a9c2f",
        "IPY_MODEL_5ebf51a7dfa148c09adc69a92bffde67"
       ],
       "layout": "IPY_MODEL_6f3e1c0a8a8546ea910d7ce93b2e71fb"
      }
     },
     "cb765f22772948669d2aa554070d2b79": {
      "model_module": "@jupyter-widgets/base",
      "model_module_version": "1.1.0",
      "model_name": "LayoutModel",
      "state": {}
     },
     "cc7069e6066548a4bcdd56cfeb15f599": {
      "model_module": "@jupyter-widgets/controls",
      "model_module_version": "1.4.0",
      "model_name": "DescriptionStyleModel",
      "state": {
       "description_width": ""
      }
     },
     "cca1362c6b8147e9b6db599732f7f992": {
      "model_module": "@jupyter-widgets/base",
      "model_module_version": "1.1.0",
      "model_name": "LayoutModel",
      "state": {}
     },
     "cce610b31be94cca99fb2fc041a8e454": {
      "model_module": "@jupyter-widgets/controls",
      "model_module_version": "1.4.0",
      "model_name": "IntTextModel",
      "state": {
       "description": "Workers",
       "layout": "IPY_MODEL_c5a1ced8058c4fcb9098c40d4c016b85",
       "step": 1,
       "style": "IPY_MODEL_7c301fc9db924f1e8c7d6baf8af11c82"
      }
     },
     "cd04e42b36694c388c074ea3dec83bef": {
      "model_module": "@jupyter-widgets/controls",
      "model_module_version": "1.4.0",
      "model_name": "DescriptionStyleModel",
      "state": {
       "description_width": ""
      }
     },
     "cd0894cb92b141e3b8a5c0a85e0007a6": {
      "model_module": "@jupyter-widgets/controls",
      "model_module_version": "1.4.0",
      "model_name": "DescriptionStyleModel",
      "state": {
       "description_width": ""
      }
     },
     "cd104966c0754a60a5e5a5c305559657": {
      "model_module": "@jupyter-widgets/controls",
      "model_module_version": "1.4.0",
      "model_name": "HTMLModel",
      "state": {
       "layout": "IPY_MODEL_b6184308a2904e5090fe60c5dadf585b",
       "style": "IPY_MODEL_904c6ec5f6db4694b515c601923704c3",
       "value": "<div style=\"padding: 0px 10px 0px 10px; text-align:left; word-wrap: break-word;\">open_rasterio</div>"
      }
     },
     "cd9a4db7d8e149d58b776f446b7b800c": {
      "model_module": "@jupyter-widgets/controls",
      "model_module_version": "1.4.0",
      "model_name": "HTMLModel",
      "state": {
       "layout": "IPY_MODEL_7e7badf74cbb4651999d0f7b0f82db63",
       "style": "IPY_MODEL_2a5a3c301043486aab84ff28c4bf7157",
       "value": "<div style=\"padding: 0px 10px 0px 10px; text-align:left; word-wrap: break-word;\">getitem-truediv</div>"
      }
     },
     "cdf5ff346bfe44e3894b08f769ce67e4": {
      "model_module": "@jupyter-widgets/base",
      "model_module_version": "1.1.0",
      "model_name": "LayoutModel",
      "state": {}
     },
     "ce36933ccd5d4223934a4655f0a81787": {
      "model_module": "@jupyter-widgets/base",
      "model_module_version": "1.1.0",
      "model_name": "LayoutModel",
      "state": {}
     },
     "ceea984631794d92ba0b39b0ae45329c": {
      "model_module": "@jupyter-widgets/base",
      "model_module_version": "1.1.0",
      "model_name": "LayoutModel",
      "state": {}
     },
     "cf5bb85711bb4277b8ee9bc62fa7e67b": {
      "model_module": "@jupyter-widgets/controls",
      "model_module_version": "1.4.0",
      "model_name": "HTMLModel",
      "state": {
       "layout": "IPY_MODEL_170b6eb517ba4f4daff6629ad7a55f0d",
       "style": "IPY_MODEL_6b7733f2d6df4f8086a5c7263d0a8671",
       "value": "<p><b>Dashboard: </b><a href=\"/user/rsignell-usgs/proxy/8787/status\" target=\"_blank\">/user/rsignell-usgs/proxy/8787/status</a></p>\n"
      }
     },
     "cf8ff3c2e3474790bbc70b66425a30b0": {
      "model_module": "@jupyter-widgets/controls",
      "model_module_version": "1.4.0",
      "model_name": "HTMLModel",
      "state": {
       "layout": "IPY_MODEL_e35a705abcef4d66a8ac71c93182e756",
       "style": "IPY_MODEL_16d1e4ccd3054284b5dd49d89c4d03bc",
       "value": "<div style=\"padding: 0px 10px 0px 10px; text-align:left; word-wrap: break-word;\">concatenate</div>"
      }
     },
     "cf9e5e1b52fe4c07913d96c13ec7bf9c": {
      "model_module": "@jupyter-widgets/controls",
      "model_module_version": "1.4.0",
      "model_name": "DescriptionStyleModel",
      "state": {
       "description_width": ""
      }
     },
     "cfe1d79b41bb4c52959820c8e7383c1a": {
      "model_module": "@jupyter-widgets/base",
      "model_module_version": "1.1.0",
      "model_name": "LayoutModel",
      "state": {}
     },
     "d05041b61f35458684d02e5242fbb93b": {
      "model_module": "@jupyter-widgets/controls",
      "model_module_version": "1.4.0",
      "model_name": "DescriptionStyleModel",
      "state": {
       "description_width": ""
      }
     },
     "d052860860284cf8bb95bd77445c7e5a": {
      "model_module": "@jupyter-widgets/controls",
      "model_module_version": "1.4.0",
      "model_name": "ProgressStyleModel",
      "state": {
       "description_width": ""
      }
     },
     "d0a29242b5e84facb262c771da0aa35b": {
      "model_module": "@jupyter-widgets/controls",
      "model_module_version": "1.4.0",
      "model_name": "ProgressStyleModel",
      "state": {
       "description_width": ""
      }
     },
     "d0f8831f77b34f8a8e2fe0bbf5c05541": {
      "model_module": "@jupyter-widgets/base",
      "model_module_version": "1.1.0",
      "model_name": "LayoutModel",
      "state": {}
     },
     "d12895079ae94e02ac657a51f693fc63": {
      "model_module": "@jupyter-widgets/base",
      "model_module_version": "1.1.0",
      "model_name": "LayoutModel",
      "state": {}
     },
     "d14a178c9e974d0381d58070c7f62403": {
      "model_module": "@jupyter-widgets/base",
      "model_module_version": "1.1.0",
      "model_name": "LayoutModel",
      "state": {}
     },
     "d1cc525080fc4ab0a9c6ac2664fe60e7": {
      "model_module": "@jupyter-widgets/controls",
      "model_module_version": "1.4.0",
      "model_name": "DescriptionStyleModel",
      "state": {
       "description_width": ""
      }
     },
     "d206ef957b5c4951835ea47cd34fe916": {
      "model_module": "@jupyter-widgets/controls",
      "model_module_version": "1.4.0",
      "model_name": "DescriptionStyleModel",
      "state": {
       "description_width": ""
      }
     },
     "d21bbba6b9494a929024f22a41484f70": {
      "model_module": "@jupyter-widgets/controls",
      "model_module_version": "1.4.0",
      "model_name": "DescriptionStyleModel",
      "state": {
       "description_width": ""
      }
     },
     "d232da2e67694f0aa2644cfc92864676": {
      "model_module": "@jupyter-widgets/base",
      "model_module_version": "1.1.0",
      "model_name": "LayoutModel",
      "state": {}
     },
     "d2c552e263184776b924d756176644e9": {
      "model_module": "@jupyter-widgets/controls",
      "model_module_version": "1.4.0",
      "model_name": "VBoxModel",
      "state": {
       "children": [
        "IPY_MODEL_ed7c2cf95f8b4f0089bd2b74a4cee21e",
        "IPY_MODEL_4c5e2d704b9a4d17b904b16b8d97d95d",
        "IPY_MODEL_156b09b608cc49a8a38206cd9fb2ca73"
       ],
       "layout": "IPY_MODEL_9ab3ff326607411f94d47d678b6b7912"
      }
     },
     "d35996e1afa74a5d8b8cd4cde6c6877f": {
      "model_module": "@jupyter-widgets/controls",
      "model_module_version": "1.4.0",
      "model_name": "HTMLModel",
      "state": {
       "layout": "IPY_MODEL_38f11f857d764186a22b3b52c7bc8da0",
       "style": "IPY_MODEL_534d31540ae649869b46918b557ccb8d",
       "value": "<div style=\"padding: 0px 10px 0px 10px; text-align: right\">14 / 14</div>"
      }
     },
     "d35da7c692794327a58451b06e287894": {
      "model_module": "@jupyter-widgets/base",
      "model_module_version": "1.1.0",
      "model_name": "LayoutModel",
      "state": {}
     },
     "d35e0a716a4a43d0b4246dd898110cbb": {
      "model_module": "@jupyter-widgets/controls",
      "model_module_version": "1.4.0",
      "model_name": "HTMLModel",
      "state": {
       "layout": "IPY_MODEL_522a76b173e24321bc82989840a5d50d",
       "style": "IPY_MODEL_7a449c2c44fa4dd88cb862b7d1e15a99",
       "value": "<div style=\"padding: 0px 10px 0px 10px; text-align:left; word-wrap: break-word;\">mean_agg-aggregate</div>"
      }
     },
     "d3799a9a19c24a33aa8051a8b74ee429": {
      "model_module": "@jupyter-widgets/controls",
      "model_module_version": "1.4.0",
      "model_name": "AccordionModel",
      "state": {
       "_titles": {
        "0": "Manual Scaling",
        "1": "Adaptive Scaling"
       },
       "children": [
        "IPY_MODEL_d5618c38f72d4362b189aa32747da94d",
        "IPY_MODEL_a38febad9df54fe294f75e96d295fd0e"
       ],
       "layout": "IPY_MODEL_09c8a96eee4e4b0281717f73698d706e",
       "selected_index": null
      }
     },
     "d3a62243146f46c2b346015eed47703e": {
      "model_module": "@jupyter-widgets/base",
      "model_module_version": "1.1.0",
      "model_name": "LayoutModel",
      "state": {}
     },
     "d3cd953276764a5fa48eaa118098e54f": {
      "model_module": "@jupyter-widgets/base",
      "model_module_version": "1.1.0",
      "model_name": "LayoutModel",
      "state": {}
     },
     "d3d850d42baa4953a2b11f0b6820c120": {
      "model_module": "@jupyter-widgets/controls",
      "model_module_version": "1.4.0",
      "model_name": "DescriptionStyleModel",
      "state": {
       "description_width": ""
      }
     },
     "d42379d00a8b47ca867a52b11077e32f": {
      "model_module": "@jupyter-widgets/controls",
      "model_module_version": "1.4.0",
      "model_name": "HTMLModel",
      "state": {
       "layout": "IPY_MODEL_6355d7ff1bc84aeeb54d40d10f615fba",
       "style": "IPY_MODEL_075129bb986b434798fcf7652fb48abb",
       "value": "<div style=\"padding: 0px 10px 0px 10px; text-align: right\">8028 / 8030</div>"
      }
     },
     "d4297a41865c4d9baa3b1fe432a402cd": {
      "model_module": "@jupyter-widgets/controls",
      "model_module_version": "1.4.0",
      "model_name": "FloatProgressModel",
      "state": {
       "bar_style": "success",
       "layout": "IPY_MODEL_5688cada0f5a4d458c226e9489c29350",
       "max": 1,
       "style": "IPY_MODEL_6be92a85ea664ca2892dfac61e7ab680",
       "value": 1
      }
     },
     "d48ec362ee16486d97d9385fa7a81866": {
      "model_module": "@jupyter-widgets/base",
      "model_module_version": "1.1.0",
      "model_name": "LayoutModel",
      "state": {}
     },
     "d49543439a934c62a7f2bd9f29879e05": {
      "model_module": "@jupyter-widgets/controls",
      "model_module_version": "1.4.0",
      "model_name": "AccordionModel",
      "state": {
       "_titles": {
        "0": "Manual Scaling",
        "1": "Adaptive Scaling"
       },
       "children": [
        "IPY_MODEL_ecd95161b926415a867e01c19102cec3",
        "IPY_MODEL_414a5ff1e1aa4031b727a63a8c8c9a6d"
       ],
       "layout": "IPY_MODEL_45fdf95e9a7e4f9584016bfef5ae0901"
      }
     },
     "d4960e0c4ba7484d94f79f136fbda51e": {
      "model_module": "@jupyter-widgets/controls",
      "model_module_version": "1.4.0",
      "model_name": "DescriptionStyleModel",
      "state": {
       "description_width": ""
      }
     },
     "d4f528cff81743818269f0e2272f5780": {
      "model_module": "@jupyter-widgets/base",
      "model_module_version": "1.1.0",
      "model_name": "LayoutModel",
      "state": {}
     },
     "d535df80499747e8821ed920777e6174": {
      "model_module": "@jupyter-widgets/controls",
      "model_module_version": "1.4.0",
      "model_name": "DescriptionStyleModel",
      "state": {
       "description_width": ""
      }
     },
     "d5618c38f72d4362b189aa32747da94d": {
      "model_module": "@jupyter-widgets/controls",
      "model_module_version": "1.4.0",
      "model_name": "HBoxModel",
      "state": {
       "children": [
        "IPY_MODEL_900e3bd0ac094bf594b8d1d43ac4450f",
        "IPY_MODEL_6f54f1cd2b1d4e5e8ecb05dec783a831"
       ],
       "layout": "IPY_MODEL_1e7c526fffff4ccc812ef487312674ff"
      }
     },
     "d57d9661f2e643b5bba74a5ed946a2cf": {
      "model_module": "@jupyter-widgets/controls",
      "model_module_version": "1.4.0",
      "model_name": "HTMLModel",
      "state": {
       "layout": "IPY_MODEL_18187e327686402a93bc32455fbd0f65",
       "style": "IPY_MODEL_ece22a490af64851a97d3a6a8a41e3bb",
       "value": "<div style=\"padding: 0px 10px 0px 10px; text-align: right\">8030 / 8030</div>"
      }
     },
     "d5d2db52c094432d9a7d9488ced62360": {
      "model_module": "@jupyter-widgets/base",
      "model_module_version": "1.1.0",
      "model_name": "LayoutModel",
      "state": {}
     },
     "d60091306f514bbd94c145a930d3ae28": {
      "model_module": "@jupyter-widgets/controls",
      "model_module_version": "1.4.0",
      "model_name": "HBoxModel",
      "state": {
       "children": [
        "IPY_MODEL_b07eb555885145e5b7c576d3e0aa605f",
        "IPY_MODEL_4401b9f444854d2a86bc1d35379116fa",
        "IPY_MODEL_30b7b057481448288e0b2e078637a193"
       ],
       "layout": "IPY_MODEL_f7b849ab794d48b4a594eda941a72c79"
      }
     },
     "d61a2ba2b5134e698455e3b5f40a952c": {
      "model_module": "@jupyter-widgets/controls",
      "model_module_version": "1.4.0",
      "model_name": "ProgressStyleModel",
      "state": {
       "description_width": ""
      }
     },
     "d62ad17a14ad4525a92b43a4ce792fd0": {
      "model_module": "@jupyter-widgets/controls",
      "model_module_version": "1.4.0",
      "model_name": "DescriptionStyleModel",
      "state": {
       "description_width": ""
      }
     },
     "d644e04b1a6d4c66b97ad90c58857ec0": {
      "model_module": "@jupyter-widgets/controls",
      "model_module_version": "1.4.0",
      "model_name": "ButtonModel",
      "state": {
       "description": "Adapt",
       "layout": "IPY_MODEL_b5a4a996d3d74b5899192ab335547e0d",
       "style": "IPY_MODEL_05f8de8845944effaf16eb6ef4ba88dc"
      }
     },
     "d6df5e4a2a3e4ab3a14baf785522cdce": {
      "model_module": "@jupyter-widgets/controls",
      "model_module_version": "1.4.0",
      "model_name": "ProgressStyleModel",
      "state": {
       "description_width": ""
      }
     },
     "d6e9bf839e37439da0916e789516b79e": {
      "model_module": "@jupyter-widgets/controls",
      "model_module_version": "1.4.0",
      "model_name": "HBoxModel",
      "state": {
       "children": [
        "IPY_MODEL_dde1fc27ebc940aa90498d3e4bbb58c8",
        "IPY_MODEL_f24d930abcb843b7b52578b205bbd09b",
        "IPY_MODEL_d644e04b1a6d4c66b97ad90c58857ec0"
       ],
       "layout": "IPY_MODEL_f9976b18d23246f6a83bae0901c1371a"
      }
     },
     "d7124767fe9143b4bd5bdc2db1b96e99": {
      "model_module": "@jupyter-widgets/controls",
      "model_module_version": "1.4.0",
      "model_name": "HTMLModel",
      "state": {
       "layout": "IPY_MODEL_9ddfcac309f941c2a31ef4e6a13069c4",
       "style": "IPY_MODEL_80f5d4b93bfd42a081b445f514bb51ab",
       "value": "<div style=\"padding: 0px 10px 0px 10px; text-align: right\">352 / 352</div>"
      }
     },
     "d75b6a6ba7af4f6ebd0e6bc2e55dfbd1": {
      "model_module": "@jupyter-widgets/controls",
      "model_module_version": "1.4.0",
      "model_name": "HTMLModel",
      "state": {
       "layout": "IPY_MODEL_ed9f52a6dbdc4e39b8ce77a2fa1f2675",
       "style": "IPY_MODEL_65b890688e9b4da08cf38eef3fd5d5c5",
       "value": "<div style=\"padding: 0px 10px 0px 10px; text-align:left; word-wrap: break-word;\">getitem</div>"
      }
     },
     "d790f2f6cb0845cf8ed1e5c0d712658c": {
      "model_module": "@jupyter-widgets/base",
      "model_module_version": "1.1.0",
      "model_name": "LayoutModel",
      "state": {}
     },
     "d7aa6f5d147d4930a8bc48ed8b37cb78": {
      "model_module": "@jupyter-widgets/base",
      "model_module_version": "1.1.0",
      "model_name": "LayoutModel",
      "state": {}
     },
     "d7d5178776f24afb971763036a4608a7": {
      "model_module": "@jupyter-widgets/controls",
      "model_module_version": "1.4.0",
      "model_name": "HTMLModel",
      "state": {
       "layout": "IPY_MODEL_d9fbaa4c66d4421c9cd68dacc6c8ce3d",
       "style": "IPY_MODEL_4ddbc37b5a5c4f559f1926f69bbfedac",
       "value": "<h2>KubeCluster</h2>"
      }
     },
     "d80949387faa473e8117a176f17243d2": {
      "model_module": "@jupyter-widgets/base",
      "model_module_version": "1.1.0",
      "model_name": "LayoutModel",
      "state": {}
     },
     "d831e5a52bdd4a90b77f1d8766891ea7": {
      "model_module": "@jupyter-widgets/base",
      "model_module_version": "1.1.0",
      "model_name": "LayoutModel",
      "state": {
       "width": "150px"
      }
     },
     "d85c2f1749014d1799f3a8c8cd76020a": {
      "model_module": "@jupyter-widgets/controls",
      "model_module_version": "1.4.0",
      "model_name": "HBoxModel",
      "state": {
       "children": [
        "IPY_MODEL_e6abf37fcbf040349c9641b7b390be4b",
        "IPY_MODEL_ff911682debc41ca8dc5dbeb58be1cb2",
        "IPY_MODEL_8470173fda3d4075885340842d9a7274"
       ],
       "layout": "IPY_MODEL_7c242429b33a488db2c1425d7c93c822"
      }
     },
     "d8e622f968b34b9e91d1ccccf47c60c2": {
      "model_module": "@jupyter-widgets/controls",
      "model_module_version": "1.4.0",
      "model_name": "HBoxModel",
      "state": {
       "children": [
        "IPY_MODEL_1a0b096d65b84e5b984013fe64ec4149",
        "IPY_MODEL_eb898ff1695c4e0fbf300013141d7f30",
        "IPY_MODEL_a43ec6e6d95843459dce63a2846dc0dd"
       ],
       "layout": "IPY_MODEL_4fd27646916d4da18ca85ded940c5753"
      }
     },
     "d930c5feaf8a47b2890bbd23f7173269": {
      "model_module": "@jupyter-widgets/controls",
      "model_module_version": "1.4.0",
      "model_name": "HBoxModel",
      "state": {
       "children": [
        "IPY_MODEL_a74203fb034645c3ae45d17340324d05",
        "IPY_MODEL_f3dce6d8aea042dd88f5618c747d28b8",
        "IPY_MODEL_28ed799a647e4a82874fb038842adea0"
       ],
       "layout": "IPY_MODEL_ab5d929d1b5a49da93a7da65c34eb937"
      }
     },
     "d930d16d95184be4b9a4f89077d30214": {
      "model_module": "@jupyter-widgets/controls",
      "model_module_version": "1.4.0",
      "model_name": "HBoxModel",
      "state": {
       "children": [
        "IPY_MODEL_5d1a448ba2024461a8e20d6a7d2c93df",
        "IPY_MODEL_f4dbf76752f84cd3bf46111027c9f00b",
        "IPY_MODEL_6be25138fd6a43d5acced139b5541336"
       ],
       "layout": "IPY_MODEL_f15f6ad9f0ff4961b3c9a1d735f828fa"
      }
     },
     "d9b1487639eb4c2498556c43f838d3dc": {
      "model_module": "@jupyter-widgets/controls",
      "model_module_version": "1.4.0",
      "model_name": "HTMLModel",
      "state": {
       "layout": "IPY_MODEL_d232da2e67694f0aa2644cfc92864676",
       "style": "IPY_MODEL_541e34e2b6e344c093cb539079058f0f",
       "value": "<h2>KubeCluster</h2>"
      }
     },
     "d9fbaa4c66d4421c9cd68dacc6c8ce3d": {
      "model_module": "@jupyter-widgets/base",
      "model_module_version": "1.1.0",
      "model_name": "LayoutModel",
      "state": {}
     },
     "da1d8fa3ae9e4a87b44cdd5d6da1edd0": {
      "model_module": "@jupyter-widgets/controls",
      "model_module_version": "1.4.0",
      "model_name": "HTMLModel",
      "state": {
       "layout": "IPY_MODEL_73f9792f00d3450da16c48b14ccd37c3",
       "style": "IPY_MODEL_8dd9c2309def4768bb6c4cd7949fbb7a",
       "value": "<div style=\"padding: 0px 10px 0px 10px; text-align:left; word-wrap: break-word;\">sub</div>"
      }
     },
     "da317c00fdaf4ce3b202f9076de208e4": {
      "model_module": "@jupyter-widgets/base",
      "model_module_version": "1.1.0",
      "model_name": "LayoutModel",
      "state": {}
     },
     "da8c58948ad24c5997203d7bf6142075": {
      "model_module": "@jupyter-widgets/base",
      "model_module_version": "1.1.0",
      "model_name": "LayoutModel",
      "state": {}
     },
     "da9ff8573abe4433ba53f947687545c6": {
      "model_module": "@jupyter-widgets/controls",
      "model_module_version": "1.4.0",
      "model_name": "HTMLModel",
      "state": {
       "layout": "IPY_MODEL_270ac1a77a264f5ab5adea2b92533dd6",
       "style": "IPY_MODEL_a2732af71fe5487c801ac22e826c1845",
       "value": "<div style=\"padding: 0px 10px 0px 10px; text-align:left; word-wrap: break-word;\">array-original</div>"
      }
     },
     "daa54b9914614ea283b44fc5c1d32ed6": {
      "model_module": "@jupyter-widgets/controls",
      "model_module_version": "1.4.0",
      "model_name": "FloatProgressModel",
      "state": {
       "bar_style": "success",
       "layout": "IPY_MODEL_c378d03c9531486d948d95905eeb62b8",
       "max": 1,
       "style": "IPY_MODEL_b37e4f2c230c4d9497b619a20a6147df",
       "value": 1
      }
     },
     "dab332772dd4472d807b780ce8b09ded": {
      "model_module": "@jupyter-widgets/base",
      "model_module_version": "1.1.0",
      "model_name": "LayoutModel",
      "state": {}
     },
     "db0aba2bb04b458f98641ac7fac8df44": {
      "model_module": "@jupyter-widgets/base",
      "model_module_version": "1.1.0",
      "model_name": "LayoutModel",
      "state": {}
     },
     "dbb437779a6d464e900d4ca54b63e1e2": {
      "model_module": "@jupyter-widgets/controls",
      "model_module_version": "1.4.0",
      "model_name": "FloatProgressModel",
      "state": {
       "bar_style": "success",
       "layout": "IPY_MODEL_9faf6a7be00249fc8966af883d618029",
       "max": 1,
       "style": "IPY_MODEL_f234aba9def84c61ad7261140a365688",
       "value": 1
      }
     },
     "dc1d76f75fd441ef9e31cf5d9758a106": {
      "model_module": "@jupyter-widgets/base",
      "model_module_version": "1.1.0",
      "model_name": "LayoutModel",
      "state": {}
     },
     "dc6bed53afd24e05a92831bd4ee04009": {
      "model_module": "@jupyter-widgets/base",
      "model_module_version": "1.1.0",
      "model_name": "LayoutModel",
      "state": {}
     },
     "dcaa7124497d49d98723cf3bcd120a33": {
      "model_module": "@jupyter-widgets/base",
      "model_module_version": "1.1.0",
      "model_name": "LayoutModel",
      "state": {}
     },
     "dcaef9ce008f4287bc7bcfa01b0098b1": {
      "model_module": "@jupyter-widgets/controls",
      "model_module_version": "1.4.0",
      "model_name": "DescriptionStyleModel",
      "state": {
       "description_width": ""
      }
     },
     "dde1fc27ebc940aa90498d3e4bbb58c8": {
      "model_module": "@jupyter-widgets/controls",
      "model_module_version": "1.4.0",
      "model_name": "IntTextModel",
      "state": {
       "description": "Minimum",
       "layout": "IPY_MODEL_b5a4a996d3d74b5899192ab335547e0d",
       "step": 1,
       "style": "IPY_MODEL_128f72729bee4cc1a1beca4933da6ea5"
      }
     },
     "dded2de71cc34178a1baa2b1a68b9db3": {
      "model_module": "@jupyter-widgets/controls",
      "model_module_version": "1.4.0",
      "model_name": "FloatProgressModel",
      "state": {
       "bar_style": "success",
       "layout": "IPY_MODEL_6b4a7ba042df4c4e87e549b376370817",
       "max": 1,
       "style": "IPY_MODEL_86d698de62774f3f9d27bca3dfa469ca",
       "value": 1
      }
     },
     "ddedc4a4f6ef4b0e9df7ac401e92ebdd": {
      "model_module": "@jupyter-widgets/controls",
      "model_module_version": "1.4.0",
      "model_name": "DescriptionStyleModel",
      "state": {
       "description_width": ""
      }
     },
     "de094d3660a343309164ffe685d36932": {
      "model_module": "@jupyter-widgets/base",
      "model_module_version": "1.1.0",
      "model_name": "LayoutModel",
      "state": {}
     },
     "de255b7a6000404fb51851002f794ff0": {
      "model_module": "@jupyter-widgets/controls",
      "model_module_version": "1.4.0",
      "model_name": "HBoxModel",
      "state": {
       "children": [
        "IPY_MODEL_d7124767fe9143b4bd5bdc2db1b96e99",
        "IPY_MODEL_2a9e2c418e9747de92e02a410f306ac3",
        "IPY_MODEL_c2898b95140f477bbd4fef00c12b8824"
       ],
       "layout": "IPY_MODEL_2ac3f9f455d7444382cd82c7efd730d0"
      }
     },
     "dea47bf54fa6457dbcbd3a8860b3e694": {
      "model_module": "@jupyter-widgets/base",
      "model_module_version": "1.1.0",
      "model_name": "LayoutModel",
      "state": {}
     },
     "df0269a85e17483aa72be4f8985b6323": {
      "model_module": "@jupyter-widgets/controls",
      "model_module_version": "1.4.0",
      "model_name": "HTMLModel",
      "state": {
       "layout": "IPY_MODEL_ce36933ccd5d4223934a4655f0a81787",
       "style": "IPY_MODEL_119b46dd614b4facbee236dbc0d5cd8e",
       "value": "<div style=\"padding: 0px 10px 0px 10px; text-align:left; word-wrap: break-word;\">getitem</div>"
      }
     },
     "dfc06c52ca9e428ea253aa050d52b814": {
      "model_module": "@jupyter-widgets/controls",
      "model_module_version": "1.4.0",
      "model_name": "DescriptionStyleModel",
      "state": {
       "description_width": ""
      }
     },
     "e05bc8ae4f0d4fdf8e3801f9945c3b89": {
      "model_module": "@jupyter-widgets/base",
      "model_module_version": "1.1.0",
      "model_name": "LayoutModel",
      "state": {}
     },
     "e081827ad58a4171ba5c40e25ab145dc": {
      "model_module": "@jupyter-widgets/controls",
      "model_module_version": "1.4.0",
      "model_name": "HTMLModel",
      "state": {
       "layout": "IPY_MODEL_5d378281f66948acb22cc4a6a7b722e7",
       "style": "IPY_MODEL_e714a2bafffc4059a362fc3a6d0ec9d3",
       "value": "<div style=\"padding: 0px 10px 0px 10px; text-align:left; word-wrap: break-word;\">mean_agg-aggregate</div>"
      }
     },
     "e0a1657b196a48148b815bb846196c22": {
      "model_module": "@jupyter-widgets/base",
      "model_module_version": "1.1.0",
      "model_name": "LayoutModel",
      "state": {
       "min_width": "150px"
      }
     },
     "e0aa9c47896a499aa1665e941cf43a5c": {
      "model_module": "@jupyter-widgets/controls",
      "model_module_version": "1.4.0",
      "model_name": "ProgressStyleModel",
      "state": {
       "description_width": ""
      }
     },
     "e26e110329a644ff9bac8c8f828afa25": {
      "model_module": "@jupyter-widgets/controls",
      "model_module_version": "1.4.0",
      "model_name": "HBoxModel",
      "state": {
       "children": [
        "IPY_MODEL_f16d6fc36760455ab7f0723a4a607c02",
        "IPY_MODEL_c88b4a025fdc435ca0e06cc01d9b9d4d",
        "IPY_MODEL_cd9a4db7d8e149d58b776f446b7b800c"
       ],
       "layout": "IPY_MODEL_cdf5ff346bfe44e3894b08f769ce67e4"
      }
     },
     "e2d1faf97cf54ac7a44d3deb105215d5": {
      "model_module": "@jupyter-widgets/base",
      "model_module_version": "1.1.0",
      "model_name": "LayoutModel",
      "state": {}
     },
     "e2d513e06a134d1aa7b3b2730686525e": {
      "model_module": "@jupyter-widgets/base",
      "model_module_version": "1.1.0",
      "model_name": "LayoutModel",
      "state": {}
     },
     "e2e5c866ff08474aa9201e12a65445ed": {
      "model_module": "@jupyter-widgets/controls",
      "model_module_version": "1.4.0",
      "model_name": "ProgressStyleModel",
      "state": {
       "description_width": ""
      }
     },
     "e35a705abcef4d66a8ac71c93182e756": {
      "model_module": "@jupyter-widgets/base",
      "model_module_version": "1.1.0",
      "model_name": "LayoutModel",
      "state": {}
     },
     "e47eae94d8e748d480eb2b964828f199": {
      "model_module": "@jupyter-widgets/controls",
      "model_module_version": "1.4.0",
      "model_name": "HBoxModel",
      "state": {
       "children": [
        "IPY_MODEL_d57d9661f2e643b5bba74a5ed946a2cf",
        "IPY_MODEL_bbd985f840344f7f91fd411c3c2fd723",
        "IPY_MODEL_42449575917545b48fb1557252498174"
       ],
       "layout": "IPY_MODEL_6c1fcb95f6964fc68bcf7d45213bce3d"
      }
     },
     "e4999e4116c94fec884943b6de49ab0f": {
      "model_module": "@jupyter-widgets/controls",
      "model_module_version": "1.4.0",
      "model_name": "HTMLModel",
      "state": {
       "layout": "IPY_MODEL_9e6e13d87a914065bcabb4633bbb0a48",
       "style": "IPY_MODEL_278fa631df6b44b1b8cc66c75dc33247",
       "value": "<div style=\"padding: 0px 10px 0px 10px; text-align: right\">1 / 1</div>"
      }
     },
     "e4a6a36e2b964d8c87b2b3a0a4d5e0c6": {
      "model_module": "@jupyter-widgets/controls",
      "model_module_version": "1.4.0",
      "model_name": "VBoxModel",
      "state": {
       "children": [
        "IPY_MODEL_72aa80b8e3f845d586a62c3102e08892",
        "IPY_MODEL_522620e7f49444db8799181ba3b6111a",
        "IPY_MODEL_e9736d7446c44e0fa097d2acc6b1d072"
       ],
       "layout": "IPY_MODEL_b85eb0082e074f418c6cc26b04016957"
      }
     },
     "e4de246dac734fdfbaa21f7b3a23af48": {
      "model_module": "@jupyter-widgets/base",
      "model_module_version": "1.1.0",
      "model_name": "LayoutModel",
      "state": {}
     },
     "e532a5970e254b8f9ac28ab4590a5ef0": {
      "model_module": "@jupyter-widgets/controls",
      "model_module_version": "1.4.0",
      "model_name": "DescriptionStyleModel",
      "state": {
       "description_width": ""
      }
     },
     "e5aac7c8a8784b7ca30d332fbc6de6df": {
      "model_module": "@jupyter-widgets/controls",
      "model_module_version": "1.4.0",
      "model_name": "DescriptionStyleModel",
      "state": {
       "description_width": ""
      }
     },
     "e6039eaca3f3431b8887cce22b2c4c63": {
      "model_module": "@jupyter-widgets/controls",
      "model_module_version": "1.4.0",
      "model_name": "HBoxModel",
      "state": {
       "children": [
        "IPY_MODEL_59b247d424194e95b4840784a289920f",
        "IPY_MODEL_d3799a9a19c24a33aa8051a8b74ee429"
       ],
       "layout": "IPY_MODEL_25717df35a014cdca8bce72f092b301e"
      }
     },
     "e612439fd9a448e69676e79807fbf9d9": {
      "model_module": "@jupyter-widgets/controls",
      "model_module_version": "1.4.0",
      "model_name": "VBoxModel",
      "state": {
       "children": [
        "IPY_MODEL_879b5e06d1cb497ab8bb441cb7b3a061",
        "IPY_MODEL_d8e622f968b34b9e91d1ccccf47c60c2",
        "IPY_MODEL_18439865a39e4ad78407d49f78a579b7",
        "IPY_MODEL_c4d0f7ad2d1244d2bb0c8d4e8210889d",
        "IPY_MODEL_e26e110329a644ff9bac8c8f828afa25",
        "IPY_MODEL_3b3b502a47964825a35e19a4dc1d0580",
        "IPY_MODEL_408ee7224f8849209322afa34dc7210a",
        "IPY_MODEL_6c97540c31d64fac8d02d9cdc42ab6b3",
        "IPY_MODEL_9f2464680cdd453285abd13f90737e55",
        "IPY_MODEL_4fca00a00fcf4ffeafb061cf3c3359ef",
        "IPY_MODEL_288e26b60154438aa2f64a5922c420fe",
        "IPY_MODEL_de255b7a6000404fb51851002f794ff0",
        "IPY_MODEL_d930c5feaf8a47b2890bbd23f7173269",
        "IPY_MODEL_ee4ab0e787764c45b0dcb356a6feb3cf",
        "IPY_MODEL_44d3f90bed2a4df29afe41758f688606",
        "IPY_MODEL_9f0538f2f19b4012a3cdf409122b3e1b",
        "IPY_MODEL_30a4551a3e0244429291f086b292cfac",
        "IPY_MODEL_56827c318a914a84908ac63b883fe474"
       ],
       "layout": "IPY_MODEL_81a7c3cd1e354f579786da0099d11578"
      }
     },
     "e6447860f037451aae6b586f1a2621ea": {
      "model_module": "@jupyter-widgets/controls",
      "model_module_version": "1.4.0",
      "model_name": "HTMLModel",
      "state": {
       "layout": "IPY_MODEL_c580407f68aa484a9c26ea153005d253",
       "style": "IPY_MODEL_9b21cfe2b4194b49849a80745d9ac963",
       "value": "<div style=\"padding: 0px 10px 0px 10px; text-align:left; word-wrap: break-word;\">eq</div>"
      }
     },
     "e6abf37fcbf040349c9641b7b390be4b": {
      "model_module": "@jupyter-widgets/controls",
      "model_module_version": "1.4.0",
      "model_name": "HTMLModel",
      "state": {
       "layout": "IPY_MODEL_a554910ec3ef4f71b17a6ceec40ef665",
       "style": "IPY_MODEL_fca5af29205f4bc3a60559d139d8ef0f",
       "value": "<div style=\"padding: 0px 10px 0px 10px; text-align: right\">352 / 352</div>"
      }
     },
     "e6d40c8635714831ac0c3f37c42666f9": {
      "model_module": "@jupyter-widgets/base",
      "model_module_version": "1.1.0",
      "model_name": "LayoutModel",
      "state": {}
     },
     "e714a2bafffc4059a362fc3a6d0ec9d3": {
      "model_module": "@jupyter-widgets/controls",
      "model_module_version": "1.4.0",
      "model_name": "DescriptionStyleModel",
      "state": {
       "description_width": ""
      }
     },
     "e71b134fd628472c80b04495c7bb4e52": {
      "model_module": "@jupyter-widgets/base",
      "model_module_version": "1.1.0",
      "model_name": "LayoutModel",
      "state": {}
     },
     "e7499ba0364c4f34af971d5705105f13": {
      "model_module": "@jupyter-widgets/controls",
      "model_module_version": "1.4.0",
      "model_name": "HTMLModel",
      "state": {
       "layout": "IPY_MODEL_edb2c0538d924f779ed490f5abe5233b",
       "style": "IPY_MODEL_6e7d2df9ff224a7ebb5968228adefcf1",
       "value": "<div style=\"padding: 0px 10px 0px 10px; text-align: right\">14 / 14</div>"
      }
     },
     "e772706cf50f4e62a804d4b820c07db6": {
      "model_module": "@jupyter-widgets/base",
      "model_module_version": "1.1.0",
      "model_name": "LayoutModel",
      "state": {}
     },
     "e7ff020223af48288503564c90541542": {
      "model_module": "@jupyter-widgets/controls",
      "model_module_version": "1.4.0",
      "model_name": "HBoxModel",
      "state": {
       "children": [
        "IPY_MODEL_f89147ff474d42eebfc2361a23c45837",
        "IPY_MODEL_479f15c36ebc4ece96be699513059056",
        "IPY_MODEL_621aa21face3478ca844ccda8da6a284"
       ],
       "layout": "IPY_MODEL_e05bc8ae4f0d4fdf8e3801f9945c3b89"
      }
     },
     "e82ea0fee15e4473b8f8aecdbb5e7056": {
      "model_module": "@jupyter-widgets/controls",
      "model_module_version": "1.4.0",
      "model_name": "DescriptionStyleModel",
      "state": {
       "description_width": ""
      }
     },
     "e8440d6a28df4704b9efa5cacdbe92f8": {
      "model_module": "@jupyter-widgets/controls",
      "model_module_version": "1.4.0",
      "model_name": "HBoxModel",
      "state": {
       "children": [
        "IPY_MODEL_d42379d00a8b47ca867a52b11077e32f",
        "IPY_MODEL_91eed2d03a7e4d248ca6cba518cbb8a5",
        "IPY_MODEL_c29e30c78c92451a8bd465b857812e47"
       ],
       "layout": "IPY_MODEL_6dfc526043ac4043bcdfcb394f08037c"
      }
     },
     "e9736d7446c44e0fa097d2acc6b1d072": {
      "model_module": "@jupyter-widgets/controls",
      "model_module_version": "1.4.0",
      "model_name": "HBoxModel",
      "state": {
       "children": [
        "IPY_MODEL_ca31f1dce2db451e8b625cbed6a3aee8",
        "IPY_MODEL_5054c2cadc1e4e8c832c47dc613a117c",
        "IPY_MODEL_7c9bff6ab5ad4faa9c06991c2269a2bb"
       ],
       "layout": "IPY_MODEL_4cb20c2eb1c0404fa3c9cc053ee234e5"
      }
     },
     "e97b20201c9c4d0d90c4fdd89fa46d9e": {
      "model_module": "@jupyter-widgets/base",
      "model_module_version": "1.1.0",
      "model_name": "LayoutModel",
      "state": {}
     },
     "e9d9e8f964a844ffb17119f2b9ce7833": {
      "model_module": "@jupyter-widgets/controls",
      "model_module_version": "1.4.0",
      "model_name": "DescriptionStyleModel",
      "state": {
       "description_width": ""
      }
     },
     "e9ed87669b35482bb9b198ce2851e5ce": {
      "model_module": "@jupyter-widgets/base",
      "model_module_version": "1.1.0",
      "model_name": "LayoutModel",
      "state": {}
     },
     "ea18940e3dbd4c708766562f98121aae": {
      "model_module": "@jupyter-widgets/controls",
      "model_module_version": "1.4.0",
      "model_name": "DescriptionStyleModel",
      "state": {
       "description_width": ""
      }
     },
     "ea48e246f0714af7b9eabcd1763314e3": {
      "model_module": "@jupyter-widgets/controls",
      "model_module_version": "1.4.0",
      "model_name": "HTMLModel",
      "state": {
       "layout": "IPY_MODEL_6c88ba03fb7f4c9f825e4b2981b05645",
       "style": "IPY_MODEL_ca9e2339e9604097a3635719e6c03677",
       "value": "<div style=\"padding: 0px 10px 0px 10px; text-align:left; word-wrap: break-word;\">getitem</div>"
      }
     },
     "ea4f8b4c00124963bff3d531462ad0d2": {
      "model_module": "@jupyter-widgets/controls",
      "model_module_version": "1.4.0",
      "model_name": "HBoxModel",
      "state": {
       "children": [
        "IPY_MODEL_77b4d833956646ee9ad411a4149c23e6",
        "IPY_MODEL_2f6469b0c97a464b80ea516f074986ce",
        "IPY_MODEL_8328864a15444844b57efd89cb0d94eb"
       ],
       "layout": "IPY_MODEL_e71b134fd628472c80b04495c7bb4e52"
      }
     },
     "eaf207d79e7c49349612dc712475680d": {
      "model_module": "@jupyter-widgets/controls",
      "model_module_version": "1.4.0",
      "model_name": "HTMLModel",
      "state": {
       "layout": "IPY_MODEL_450da01632b6497297f2581ea373ee7f",
       "style": "IPY_MODEL_f8562e40b4934349b6f8419cdcf833fa",
       "value": "<div style=\"padding: 0px 10px 0px 10px; text-align: right\">22 / 22</div>"
      }
     },
     "eb898ff1695c4e0fbf300013141d7f30": {
      "model_module": "@jupyter-widgets/controls",
      "model_module_version": "1.4.0",
      "model_name": "FloatProgressModel",
      "state": {
       "layout": "IPY_MODEL_d3a62243146f46c2b346015eed47703e",
       "max": 1,
       "style": "IPY_MODEL_d0a29242b5e84facb262c771da0aa35b",
       "value": 0.9998754669987546
      }
     },
     "ebe742e2d3a440d3b50044ae6dbf8014": {
      "model_module": "@jupyter-widgets/controls",
      "model_module_version": "1.4.0",
      "model_name": "FloatProgressModel",
      "state": {
       "bar_style": "success",
       "layout": "IPY_MODEL_c0df72ef71ac4ad4a464b2f5ec3b4af6",
       "max": 1,
       "style": "IPY_MODEL_ec2a820e498741669ed8f23813a180e9",
       "value": 1
      }
     },
     "ec2a820e498741669ed8f23813a180e9": {
      "model_module": "@jupyter-widgets/controls",
      "model_module_version": "1.4.0",
      "model_name": "ProgressStyleModel",
      "state": {
       "description_width": ""
      }
     },
     "ec554328fa1b4eefba84706a48a5503f": {
      "model_module": "@jupyter-widgets/controls",
      "model_module_version": "1.4.0",
      "model_name": "HBoxModel",
      "state": {
       "children": [
        "IPY_MODEL_1974be1652e74b66bf49ee219d3f51e7",
        "IPY_MODEL_0a181657f080444e9ad204a8bba52540",
        "IPY_MODEL_603e81176aa3441195abf45f10657451"
       ],
       "layout": "IPY_MODEL_0debe21b520f417cb262c4fa10435600"
      }
     },
     "ec7ce77d5e904d01acfaab4aaaa36d90": {
      "model_module": "@jupyter-widgets/controls",
      "model_module_version": "1.4.0",
      "model_name": "HBoxModel",
      "state": {
       "children": [
        "IPY_MODEL_93f9fd30fe084af7ada5a9275ff258f8",
        "IPY_MODEL_0075a9fb52f84de9bf7ee1df293cd212",
        "IPY_MODEL_91c20d24c51c4d6dbbf6258812404009"
       ],
       "layout": "IPY_MODEL_62fcc9943ad64308ae82c8a4da21f1a6"
      }
     },
     "ecd95161b926415a867e01c19102cec3": {
      "model_module": "@jupyter-widgets/controls",
      "model_module_version": "1.4.0",
      "model_name": "HBoxModel",
      "state": {
       "children": [
        "IPY_MODEL_065bcd8e8c8944df8c42cf5b7763f552",
        "IPY_MODEL_aa3924ef6bc449fb871b271e7910ed5e"
       ],
       "layout": "IPY_MODEL_090cb76aa5df463f83d981b6f84646c8"
      }
     },
     "ece22a490af64851a97d3a6a8a41e3bb": {
      "model_module": "@jupyter-widgets/controls",
      "model_module_version": "1.4.0",
      "model_name": "DescriptionStyleModel",
      "state": {
       "description_width": ""
      }
     },
     "ecfd9dca84d04e04b2a7a3ac2b58bfc6": {
      "model_module": "@jupyter-widgets/controls",
      "model_module_version": "1.4.0",
      "model_name": "FloatProgressModel",
      "state": {
       "layout": "IPY_MODEL_3c46053eb157468da7848ff77dc3fdd9",
       "max": 1,
       "style": "IPY_MODEL_d052860860284cf8bb95bd77445c7e5a",
       "value": 1
      }
     },
     "ed7c2cf95f8b4f0089bd2b74a4cee21e": {
      "model_module": "@jupyter-widgets/controls",
      "model_module_version": "1.4.0",
      "model_name": "HTMLModel",
      "state": {
       "layout": "IPY_MODEL_6cf4732a9560484d849b155454a60354",
       "style": "IPY_MODEL_9bf0c7aef8374b8590670af877b4ec83",
       "value": "<h2>KubeCluster</h2>"
      }
     },
     "ed95324e475349daad6b06e7b46d9f27": {
      "model_module": "@jupyter-widgets/controls",
      "model_module_version": "1.4.0",
      "model_name": "HTMLModel",
      "state": {
       "layout": "IPY_MODEL_067b8ce92ae5483285775aa2c8ef5d62",
       "style": "IPY_MODEL_fe3e8421224747c3b0a3fbe9860481de",
       "value": "<div style=\"padding: 0px 10px 0px 10px; text-align:left; word-wrap: break-word;\">eq</div>"
      }
     },
     "ed9eb5bb0e6f463c8a86f5088e1daa31": {
      "model_module": "@jupyter-widgets/controls",
      "model_module_version": "1.4.0",
      "model_name": "VBoxModel",
      "state": {
       "children": [
        "IPY_MODEL_f46437f118d04318bb90ea643acc5f44",
        "IPY_MODEL_c9abb10630644cd0a00670f212ff2733",
        "IPY_MODEL_402264f40d0f49d981a3107495147a6a",
        "IPY_MODEL_517fc514d76e4ec6aa7ed2c727e7d5fe",
        "IPY_MODEL_e8440d6a28df4704b9efa5cacdbe92f8",
        "IPY_MODEL_23ddcc4119444ccb81351b94e74e80eb",
        "IPY_MODEL_8b28fbc3ec4c489a87c246f966395d4f",
        "IPY_MODEL_1e16f146e3344536a9d3d5e0142db852",
        "IPY_MODEL_95caa06bd0124228b9b7daace3356ed3",
        "IPY_MODEL_8fe85e471dca459498a985e194c669e4",
        "IPY_MODEL_8418da9ef98a4d7aa962c7882bb0adfe",
        "IPY_MODEL_e7ff020223af48288503564c90541542",
        "IPY_MODEL_d85c2f1749014d1799f3a8c8cd76020a",
        "IPY_MODEL_356549e76dd34ba187c8aa8fb4d20000",
        "IPY_MODEL_7563d8f240384a4482eaf9757a4356cc",
        "IPY_MODEL_ea4f8b4c00124963bff3d531462ad0d2",
        "IPY_MODEL_af48d3acc291409ca502b262738296ff",
        "IPY_MODEL_93b4bf4d93b84c6bb8819afe6f1a7593"
       ],
       "layout": "IPY_MODEL_cfe1d79b41bb4c52959820c8e7383c1a"
      }
     },
     "ed9f52a6dbdc4e39b8ce77a2fa1f2675": {
      "model_module": "@jupyter-widgets/base",
      "model_module_version": "1.1.0",
      "model_name": "LayoutModel",
      "state": {}
     },
     "edb2c0538d924f779ed490f5abe5233b": {
      "model_module": "@jupyter-widgets/base",
      "model_module_version": "1.1.0",
      "model_name": "LayoutModel",
      "state": {}
     },
     "ee19f60823ac4c5987003eae800a9290": {
      "model_module": "@jupyter-widgets/controls",
      "model_module_version": "1.4.0",
      "model_name": "HBoxModel",
      "state": {
       "children": [
        "IPY_MODEL_8f83b4c5c6404cf290c3705569252f14",
        "IPY_MODEL_92080ebbbfa042549513828273ca241e"
       ],
       "layout": "IPY_MODEL_6fc42f6aeb6a4d088d2755bcc68ae68d"
      }
     },
     "ee4ab0e787764c45b0dcb356a6feb3cf": {
      "model_module": "@jupyter-widgets/controls",
      "model_module_version": "1.4.0",
      "model_name": "HBoxModel",
      "state": {
       "children": [
        "IPY_MODEL_290ad868649a40f3b7ecb96b68c5bbe7",
        "IPY_MODEL_37c92a78d0ae4def8dd6d5c5fb7c0595",
        "IPY_MODEL_3222beac5aad408483caae6d615cfb58"
       ],
       "layout": "IPY_MODEL_00e6476dcf0a4a2f8122d3c106c4775d"
      }
     },
     "efab5cde2a754d1ca8632350316aca6e": {
      "model_module": "@jupyter-widgets/base",
      "model_module_version": "1.1.0",
      "model_name": "LayoutModel",
      "state": {}
     },
     "f0f642a2a9f94512aa100be50139c985": {
      "model_module": "@jupyter-widgets/controls",
      "model_module_version": "1.4.0",
      "model_name": "DescriptionStyleModel",
      "state": {
       "description_width": ""
      }
     },
     "f123f6e93b594e3086de52e164d3e771": {
      "model_module": "@jupyter-widgets/base",
      "model_module_version": "1.1.0",
      "model_name": "LayoutModel",
      "state": {}
     },
     "f1521d48ddd64e6289eb30648fef163b": {
      "model_module": "@jupyter-widgets/controls",
      "model_module_version": "1.4.0",
      "model_name": "VBoxModel",
      "state": {
       "children": [
        "IPY_MODEL_1da69c6c3d30493b98844a8259ae2520",
        "IPY_MODEL_024d12b027864684a83db5469482c2ea"
       ],
       "layout": "IPY_MODEL_a6eb2d81b2d1483f92c5a54df35f3016"
      }
     },
     "f15f6ad9f0ff4961b3c9a1d735f828fa": {
      "model_module": "@jupyter-widgets/base",
      "model_module_version": "1.1.0",
      "model_name": "LayoutModel",
      "state": {}
     },
     "f16d6fc36760455ab7f0723a4a607c02": {
      "model_module": "@jupyter-widgets/controls",
      "model_module_version": "1.4.0",
      "model_name": "HTMLModel",
      "state": {
       "layout": "IPY_MODEL_995ed62d8e894c98a1e689784cd2f16d",
       "style": "IPY_MODEL_b5c6998abc9341ab88381181e2558275",
       "value": "<div style=\"padding: 0px 10px 0px 10px; text-align: right\">8028 / 8030</div>"
      }
     },
     "f20cbe2cdc884e2d8b62fafc6148729c": {
      "model_module": "@jupyter-widgets/controls",
      "model_module_version": "1.4.0",
      "model_name": "HTMLModel",
      "state": {
       "layout": "IPY_MODEL_0cac42cd212d48aaa8279dd13dea37d8",
       "style": "IPY_MODEL_93e49330d9454353bb0b711c3a970e88",
       "value": "<div style=\"padding: 0px 10px 0px 10px; text-align: right\">16 / 16</div>"
      }
     },
     "f234aba9def84c61ad7261140a365688": {
      "model_module": "@jupyter-widgets/controls",
      "model_module_version": "1.4.0",
      "model_name": "ProgressStyleModel",
      "state": {
       "description_width": ""
      }
     },
     "f24d930abcb843b7b52578b205bbd09b": {
      "model_module": "@jupyter-widgets/controls",
      "model_module_version": "1.4.0",
      "model_name": "IntTextModel",
      "state": {
       "description": "Maximum",
       "layout": "IPY_MODEL_b5a4a996d3d74b5899192ab335547e0d",
       "step": 1,
       "style": "IPY_MODEL_af00b9abc54348c3a7e387e46deefb81"
      }
     },
     "f270b044e3de42cabc7165c53002bd32": {
      "model_module": "@jupyter-widgets/base",
      "model_module_version": "1.1.0",
      "model_name": "LayoutModel",
      "state": {}
     },
     "f2932f7f59164f96bd7624df05c8f182": {
      "model_module": "@jupyter-widgets/controls",
      "model_module_version": "1.4.0",
      "model_name": "DescriptionStyleModel",
      "state": {
       "description_width": ""
      }
     },
     "f3a238d3969745559ca88eab5bb230a5": {
      "model_module": "@jupyter-widgets/controls",
      "model_module_version": "1.4.0",
      "model_name": "HBoxModel",
      "state": {
       "children": [
        "IPY_MODEL_542d806dc34d467b8987874ede0427de",
        "IPY_MODEL_fdb6a5b355a042abb872ccab5a03e304",
        "IPY_MODEL_a0fea1a85dcd4fe7a2d6ce4d0afcea1f"
       ],
       "layout": "IPY_MODEL_70bd92253ec9411793796e97a72aa85f"
      }
     },
     "f3cdb98104424886a16c2b136d6f4141": {
      "model_module": "@jupyter-widgets/controls",
      "model_module_version": "1.4.0",
      "model_name": "DescriptionStyleModel",
      "state": {
       "description_width": ""
      }
     },
     "f3d35366002a42b7b7f24571ef0ebc3f": {
      "model_module": "@jupyter-widgets/controls",
      "model_module_version": "1.4.0",
      "model_name": "HTMLModel",
      "state": {
       "layout": "IPY_MODEL_f6efcd60533c402eab63c76e56d9d7df",
       "style": "IPY_MODEL_3d8d9cb8120348c9b1c807c32f247d75",
       "value": "<div style=\"padding: 0px 10px 0px 10px; text-align: right\">728 / 730</div>"
      }
     },
     "f3dce6d8aea042dd88f5618c747d28b8": {
      "model_module": "@jupyter-widgets/controls",
      "model_module_version": "1.4.0",
      "model_name": "FloatProgressModel",
      "state": {
       "layout": "IPY_MODEL_3abd72f10f774aee8ff3f59e20fbd384",
       "max": 1,
       "style": "IPY_MODEL_54b9e802b6b649748b9f0999eab78ae7",
       "value": 1
      }
     },
     "f3e30bedd3554fbcaa11db946f9fc8e0": {
      "model_module": "@jupyter-widgets/base",
      "model_module_version": "1.1.0",
      "model_name": "LayoutModel",
      "state": {}
     },
     "f46437f118d04318bb90ea643acc5f44": {
      "model_module": "@jupyter-widgets/controls",
      "model_module_version": "1.4.0",
      "model_name": "HBoxModel",
      "state": {
       "children": [
        "IPY_MODEL_44df9780679e47108ccc0620dc2d7d3a",
        "IPY_MODEL_2c7ab3941ccf4d78a4044f504c1833e6",
        "IPY_MODEL_46ee716972314f8dae08ccfc1c2e28db"
       ],
       "layout": "IPY_MODEL_0a93ca9ee2df4cdb8b45082f21246c41"
      }
     },
     "f4ba4530e9284be2b3942eada6bee98c": {
      "model_module": "@jupyter-widgets/controls",
      "model_module_version": "1.4.0",
      "model_name": "DescriptionStyleModel",
      "state": {
       "description_width": ""
      }
     },
     "f4dbf76752f84cd3bf46111027c9f00b": {
      "model_module": "@jupyter-widgets/controls",
      "model_module_version": "1.4.0",
      "model_name": "FloatProgressModel",
      "state": {
       "bar_style": "success",
       "layout": "IPY_MODEL_0326efd32dce4d58a6f2911916d65c66",
       "max": 1,
       "style": "IPY_MODEL_2499b4d3edc343918f9474d89ba46370",
       "value": 1
      }
     },
     "f537c5186b2b4aad8beec29bf3f31619": {
      "model_module": "@jupyter-widgets/base",
      "model_module_version": "1.1.0",
      "model_name": "LayoutModel",
      "state": {}
     },
     "f5780035818b4c54860c4f11ebc15d18": {
      "model_module": "@jupyter-widgets/controls",
      "model_module_version": "1.4.0",
      "model_name": "ProgressStyleModel",
      "state": {
       "description_width": ""
      }
     },
     "f5871f38980d4ac898821d0960af8da4": {
      "model_module": "@jupyter-widgets/base",
      "model_module_version": "1.1.0",
      "model_name": "LayoutModel",
      "state": {}
     },
     "f619a57172484548bf66b119081fe063": {
      "model_module": "@jupyter-widgets/base",
      "model_module_version": "1.1.0",
      "model_name": "LayoutModel",
      "state": {}
     },
     "f6efcd60533c402eab63c76e56d9d7df": {
      "model_module": "@jupyter-widgets/base",
      "model_module_version": "1.1.0",
      "model_name": "LayoutModel",
      "state": {}
     },
     "f795826df3924763b16ba6afdb86cf2c": {
      "model_module": "@jupyter-widgets/controls",
      "model_module_version": "1.4.0",
      "model_name": "ProgressStyleModel",
      "state": {
       "description_width": ""
      }
     },
     "f7b849ab794d48b4a594eda941a72c79": {
      "model_module": "@jupyter-widgets/base",
      "model_module_version": "1.1.0",
      "model_name": "LayoutModel",
      "state": {}
     },
     "f7e51d9e9c45484997bc73fae8db1b7a": {
      "model_module": "@jupyter-widgets/base",
      "model_module_version": "1.1.0",
      "model_name": "LayoutModel",
      "state": {}
     },
     "f830ea8332fe45f88ed0bbad9d220cf1": {
      "model_module": "@jupyter-widgets/controls",
      "model_module_version": "1.4.0",
      "model_name": "DescriptionStyleModel",
      "state": {
       "description_width": ""
      }
     },
     "f844a8df435341d6b1180961e40d439e": {
      "model_module": "@jupyter-widgets/base",
      "model_module_version": "1.1.0",
      "model_name": "LayoutModel",
      "state": {}
     },
     "f84fb5e6cb944ff38ed73bfc8601fb28": {
      "model_module": "@jupyter-widgets/base",
      "model_module_version": "1.1.0",
      "model_name": "LayoutModel",
      "state": {}
     },
     "f8562e40b4934349b6f8419cdcf833fa": {
      "model_module": "@jupyter-widgets/controls",
      "model_module_version": "1.4.0",
      "model_name": "DescriptionStyleModel",
      "state": {
       "description_width": ""
      }
     },
     "f89147ff474d42eebfc2361a23c45837": {
      "model_module": "@jupyter-widgets/controls",
      "model_module_version": "1.4.0",
      "model_name": "HTMLModel",
      "state": {
       "layout": "IPY_MODEL_f844a8df435341d6b1180961e40d439e",
       "style": "IPY_MODEL_f830ea8332fe45f88ed0bbad9d220cf1",
       "value": "<div style=\"padding: 0px 10px 0px 10px; text-align: right\">352 / 352</div>"
      }
     },
     "f8ea45f1405b4416ad5bb0ce05325d12": {
      "model_module": "@jupyter-widgets/controls",
      "model_module_version": "1.4.0",
      "model_name": "HTMLModel",
      "state": {
       "layout": "IPY_MODEL_da317c00fdaf4ce3b202f9076de208e4",
       "style": "IPY_MODEL_dcaef9ce008f4287bc7bcfa01b0098b1",
       "value": "<div style=\"padding: 0px 10px 0px 10px; text-align: right\">16060 / 16060</div>"
      }
     },
     "f90321184c4949c3ab39fc2b6cd48498": {
      "model_module": "@jupyter-widgets/controls",
      "model_module_version": "1.4.0",
      "model_name": "FloatProgressModel",
      "state": {
       "layout": "IPY_MODEL_391d974b4996482a8fd575bec9cea0a2",
       "max": 1,
       "style": "IPY_MODEL_76fd3c9185cc4709aab12740a559e6c0",
       "value": 1
      }
     },
     "f94cce9e8897430e937ac62da4d02bf4": {
      "model_module": "@jupyter-widgets/controls",
      "model_module_version": "1.4.0",
      "model_name": "FloatProgressModel",
      "state": {
       "bar_style": "success",
       "layout": "IPY_MODEL_16f9fe754cd44c7e9b3f0e6c46ec605b",
       "max": 1,
       "style": "IPY_MODEL_0502708838ba4866b505465e76c4ca97",
       "value": 1
      }
     },
     "f951db8b5c344e939ea668ecc4ef942b": {
      "model_module": "@jupyter-widgets/controls",
      "model_module_version": "1.4.0",
      "model_name": "HTMLModel",
      "state": {
       "layout": "IPY_MODEL_3d625ef74ecb453386eab360b5eadf29",
       "style": "IPY_MODEL_8a5e4641df724b55be037193b752b811",
       "value": "<div style=\"padding: 0px 10px 0px 10px; text-align: right\">352 / 352</div>"
      }
     },
     "f9976b18d23246f6a83bae0901c1371a": {
      "model_module": "@jupyter-widgets/base",
      "model_module_version": "1.1.0",
      "model_name": "LayoutModel",
      "state": {}
     },
     "f9a8b61d7cd9492b9371d76f21473b47": {
      "model_module": "@jupyter-widgets/controls",
      "model_module_version": "1.4.0",
      "model_name": "FloatProgressModel",
      "state": {
       "bar_style": "success",
       "layout": "IPY_MODEL_adc3b52d874d40ea924a427653473a98",
       "max": 1,
       "style": "IPY_MODEL_5530dc8a982649b292623585acca5ce2",
       "value": 1
      }
     },
     "f9b56421442b4192857d627d52ff6c3c": {
      "model_module": "@jupyter-widgets/base",
      "model_module_version": "1.1.0",
      "model_name": "LayoutModel",
      "state": {}
     },
     "fa1b07a198c44cceb347860cbbba8357": {
      "model_module": "@jupyter-widgets/controls",
      "model_module_version": "1.4.0",
      "model_name": "ProgressStyleModel",
      "state": {
       "description_width": ""
      }
     },
     "fb39c211e3ca460b8486c0c16ea3bcc4": {
      "model_module": "@jupyter-widgets/base",
      "model_module_version": "1.1.0",
      "model_name": "LayoutModel",
      "state": {}
     },
     "fb5c69f3e4494f25b6c30921ad46f1da": {
      "model_module": "@jupyter-widgets/base",
      "model_module_version": "1.1.0",
      "model_name": "LayoutModel",
      "state": {}
     },
     "fba7954ea812407a8371fad339dca10d": {
      "model_module": "@jupyter-widgets/controls",
      "model_module_version": "1.4.0",
      "model_name": "HTMLModel",
      "state": {
       "layout": "IPY_MODEL_ae878bf18f2d45669fb566110fc9ca1c",
       "style": "IPY_MODEL_3be82312472645289a294e75f0940f86",
       "value": "\n<div>\n  <style scoped>\n    .dataframe tbody tr th:only-of-type {\n        vertical-align: middle;\n    }\n\n    .dataframe tbody tr th {\n        vertical-align: top;\n    }\n\n    .dataframe thead th {\n        text-align: right;\n    }\n  </style>\n  <table style=\"text-align: right;\">\n    <tr><th>Workers</th> <td>20</td></tr>\n    <tr><th>Cores</th> <td>40</td></tr>\n    <tr><th>Memory</th> <td>120.00 GB</td></tr>\n  </table>\n</div>\n"
      }
     },
     "fba7972e13304a3298c01db11c9c70b3": {
      "model_module": "@jupyter-widgets/controls",
      "model_module_version": "1.4.0",
      "model_name": "HBoxModel",
      "state": {
       "children": [
        "IPY_MODEL_f20cbe2cdc884e2d8b62fafc6148729c",
        "IPY_MODEL_c1b741a3293448338d7c38c57868d14e",
        "IPY_MODEL_359c8673a5a7428fb0c526bd651f46e5"
       ],
       "layout": "IPY_MODEL_8b827fa643414a80a5de3dac459e7041"
      }
     },
     "fbb29ee5b251439f831659478ab09641": {
      "model_module": "@jupyter-widgets/controls",
      "model_module_version": "1.4.0",
      "model_name": "HTMLModel",
      "state": {
       "layout": "IPY_MODEL_fced0b21b0a647a38b3fd7f14f1f0be2",
       "style": "IPY_MODEL_cd04e42b36694c388c074ea3dec83bef",
       "value": "<div style=\"padding: 0px 10px 0px 10px; text-align:left; word-wrap: break-word;\">open_rasterio</div>"
      }
     },
     "fc31fa8db63e47389d81601a3e56951d": {
      "model_module": "@jupyter-widgets/controls",
      "model_module_version": "1.4.0",
      "model_name": "HTMLModel",
      "state": {
       "layout": "IPY_MODEL_f9b56421442b4192857d627d52ff6c3c",
       "style": "IPY_MODEL_be02c9994bf74100b7d554d9f439c2ee",
       "value": "<p><b>Dashboard: </b><a href=\"/user/rsignell-usgs/proxy/8787/status\" target=\"_blank\">/user/rsignell-usgs/proxy/8787/status</a></p>\n"
      }
     },
     "fc37aee3720044c09e62712a145cb587": {
      "model_module": "@jupyter-widgets/controls",
      "model_module_version": "1.4.0",
      "model_name": "FloatProgressModel",
      "state": {
       "layout": "IPY_MODEL_d5d2db52c094432d9a7d9488ced62360",
       "max": 1,
       "style": "IPY_MODEL_7e3b100d7e6f497aa0f2859898b74e65",
       "value": 1
      }
     },
     "fc6fc937abef4190a8bac5af3dd12389": {
      "model_module": "@jupyter-widgets/base",
      "model_module_version": "1.1.0",
      "model_name": "LayoutModel",
      "state": {}
     },
     "fca5af29205f4bc3a60559d139d8ef0f": {
      "model_module": "@jupyter-widgets/controls",
      "model_module_version": "1.4.0",
      "model_name": "DescriptionStyleModel",
      "state": {
       "description_width": ""
      }
     },
     "fce379be93944110979c48817a414679": {
      "model_module": "@jupyter-widgets/controls",
      "model_module_version": "1.4.0",
      "model_name": "FloatProgressModel",
      "state": {
       "layout": "IPY_MODEL_03c2b3d294ea49dbb83d513727fe8dd0",
       "max": 1,
       "style": "IPY_MODEL_1d9821e492ef4d4795f36a0b9c0b32ef",
       "value": 1
      }
     },
     "fced0b21b0a647a38b3fd7f14f1f0be2": {
      "model_module": "@jupyter-widgets/base",
      "model_module_version": "1.1.0",
      "model_name": "LayoutModel",
      "state": {}
     },
     "fd108654db9143d8b8dee4f19d839093": {
      "model_module": "@jupyter-widgets/base",
      "model_module_version": "1.1.0",
      "model_name": "LayoutModel",
      "state": {}
     },
     "fd4cbf4bf7f2406aa2f5fcbd40de9065": {
      "model_module": "@jupyter-widgets/controls",
      "model_module_version": "1.4.0",
      "model_name": "VBoxModel",
      "state": {
       "children": [
        "IPY_MODEL_258ed9fe08694abfb7a86aafe07a58f4",
        "IPY_MODEL_e6039eaca3f3431b8887cce22b2c4c63",
        "IPY_MODEL_9d9d928e3f504062ab19c2df98a20b11"
       ],
       "layout": "IPY_MODEL_96bebe32c2874ad19437f7c0b0e17e2d"
      }
     },
     "fdb6a5b355a042abb872ccab5a03e304": {
      "model_module": "@jupyter-widgets/controls",
      "model_module_version": "1.4.0",
      "model_name": "FloatProgressModel",
      "state": {
       "bar_style": "success",
       "layout": "IPY_MODEL_6b79e4c3469f43a690d2618005169b7b",
       "max": 1,
       "style": "IPY_MODEL_5b40fca8ca754105bb469def97d83564",
       "value": 1
      }
     },
     "fe3e8421224747c3b0a3fbe9860481de": {
      "model_module": "@jupyter-widgets/controls",
      "model_module_version": "1.4.0",
      "model_name": "DescriptionStyleModel",
      "state": {
       "description_width": ""
      }
     },
     "fe4a200a888b425c8b16807b9b556d25": {
      "model_module": "@jupyter-widgets/controls",
      "model_module_version": "1.4.0",
      "model_name": "DescriptionStyleModel",
      "state": {
       "description_width": ""
      }
     },
     "ff911682debc41ca8dc5dbeb58be1cb2": {
      "model_module": "@jupyter-widgets/controls",
      "model_module_version": "1.4.0",
      "model_name": "FloatProgressModel",
      "state": {
       "layout": "IPY_MODEL_024ac8f6e0334a8db8fba3e8660ba38f",
       "max": 1,
       "style": "IPY_MODEL_2f93cdeb30c1491bb27fca4cebd09f14",
       "value": 1
      }
     }
    },
    "version_major": 2,
    "version_minor": 0
   }
  }
 },
 "nbformat": 4,
 "nbformat_minor": 2
}
